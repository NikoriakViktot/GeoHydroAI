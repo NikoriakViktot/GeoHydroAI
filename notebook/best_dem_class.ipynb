{
 "cells": [
  {
   "metadata": {},
   "cell_type": "code",
   "outputs": [],
   "execution_count": null,
   "source": "import numpy as np",
   "id": "30830db8afdb4041"
  },
  {
   "metadata": {},
   "cell_type": "code",
   "outputs": [],
   "execution_count": null,
   "source": [
    "def compute_nmad(series):\n",
    "    med = np.median(series)\n",
    "    return 1.4826 * np.median(np.abs(series - med))\n"
   ],
   "id": "9064992923c1b2dc"
  },
  {
   "cell_type": "code",
   "id": "initial_id",
   "metadata": {
    "collapsed": true,
    "ExecuteTime": {
     "end_time": "2025-07-10T11:14:32.568445Z",
     "start_time": "2025-07-10T11:14:32.541492Z"
    }
   },
   "source": [
    "import duckdb\n",
    "\n",
    "dem_list = [\n",
    "    \"alos\", \"aster\", \"copernicus\", \"fab\", \"nasa\", \"srtm\", \"tan\"\n",
    "]\n",
    "\n",
    "# Формуємо запит\n",
    "query = \"\"\"\n",
    "SELECT\n",
    "    lulc_class,\n",
    "    alos_dem_slope AS slope,\n",
    "    alos_dem_twi AS twi,\n",
    "    alos_dem_2000 AS hand,\n",
    "    alos_dem_geomorphon AS geomorphon,\n",
    "    alos_dem_stream AS dist_river,\n",
    "    delta_alos_dem,\n",
    "    delta_aster_dem,\n",
    "    delta_copernicus_dem,\n",
    "    delta_fab_dem,\n",
    "    delta_nasa_dem,\n",
    "    delta_srtm_dem,\n",
    "    delta_tan_dem,\n",
    "    CASE\n",
    "        WHEN delta_alos_dem <= delta_aster_dem AND delta_alos_dem <= delta_copernicus_dem AND delta_alos_dem <= delta_fab_dem\n",
    "             AND delta_alos_dem <= delta_nasa_dem AND delta_alos_dem <= delta_srtm_dem AND delta_alos_dem <= delta_tan_dem THEN 'alos'\n",
    "        WHEN delta_aster_dem <= delta_copernicus_dem AND delta_aster_dem <= delta_fab_dem\n",
    "             AND delta_aster_dem <= delta_nasa_dem AND delta_aster_dem <= delta_srtm_dem AND delta_aster_dem <= delta_tan_dem THEN 'aster'\n",
    "        WHEN delta_copernicus_dem <= delta_fab_dem AND delta_copernicus_dem <= delta_nasa_dem\n",
    "             AND delta_copernicus_dem <= delta_srtm_dem AND delta_copernicus_dem <= delta_tan_dem THEN 'copernicus'\n",
    "        WHEN delta_fab_dem <= delta_nasa_dem AND delta_fab_dem <= delta_srtm_dem AND delta_fab_dem <= delta_tan_dem THEN 'fab'\n",
    "        WHEN delta_nasa_dem <= delta_srtm_dem AND delta_nasa_dem <= delta_tan_dem THEN 'nasa'\n",
    "        WHEN delta_srtm_dem <= delta_tan_dem THEN 'srtm'\n",
    "        ELSE 'tan'\n",
    "    END AS best_dem\n",
    "FROM 'data/icesat2_dem_filtered_fixed_1.parquet'\n",
    "WHERE\n",
    "    lulc_class IS NOT NULL AND\n",
    "    alos_dem_slope IS NOT NULL AND\n",
    "    alos_dem_twi IS NOT NULL AND\n",
    "    alos_dem_2000 IS NOT NULL\n",
    "\"\"\"\n"
   ],
   "outputs": [],
   "execution_count": 1
  },
  {
   "metadata": {
    "ExecuteTime": {
     "end_time": "2025-07-10T11:14:35.351928Z",
     "start_time": "2025-07-10T11:14:34.309164Z"
    }
   },
   "cell_type": "code",
   "source": "df = duckdb.query(query).to_df()\n",
   "id": "41e0ed6e5e753bc",
   "outputs": [],
   "execution_count": 2
  },
  {
   "metadata": {
    "ExecuteTime": {
     "end_time": "2025-07-10T11:14:43.541149Z",
     "start_time": "2025-07-10T11:14:43.493768Z"
    }
   },
   "cell_type": "code",
   "source": [
    "print(df.head())\n",
    "print(df[\"best_dem\"].value_counts())\n"
   ],
   "id": "2264462f43097bab",
   "outputs": [
    {
     "name": "stdout",
     "output_type": "stream",
     "text": [
      "   lulc_class      slope       twi  hand  geomorphon  dist_river  \\\n",
      "0         2.0  14.506254  4.583235  89.9         5.0  294.614233   \n",
      "1         2.0  14.506254  4.583235  89.9         5.0  294.614233   \n",
      "2         2.0  14.506254  4.583235  89.9         5.0  294.614233   \n",
      "3         2.0  14.506254  4.583235  89.9         5.0  294.614233   \n",
      "4         2.0  14.506254  4.583235  89.9         5.0  294.614233   \n",
      "\n",
      "   delta_alos_dem  delta_aster_dem  delta_copernicus_dem  delta_fab_dem  \\\n",
      "0       20.750136        12.750136             15.986708       3.201796   \n",
      "1       20.750136        12.750136             15.986708       3.201796   \n",
      "2       11.195937        13.195937             16.432509       3.647597   \n",
      "3       11.195937        13.195937             16.432509       3.647597   \n",
      "4       10.507826        12.507826             15.744398       2.959486   \n",
      "\n",
      "   delta_nasa_dem  delta_srtm_dem  delta_tan_dem best_dem  \n",
      "0       12.057997        8.750136      15.985487      fab  \n",
      "1       12.057997        8.750136      15.985487      fab  \n",
      "2       12.503798        9.195937      16.431288      fab  \n",
      "3       12.503798        9.195937      16.431288      fab  \n",
      "4       11.815687        8.507826      15.743178      fab  \n",
      "best_dem\n",
      "aster         688496\n",
      "fab           448079\n",
      "srtm          428878\n",
      "alos          167946\n",
      "tan            11194\n",
      "copernicus      8413\n",
      "nasa             672\n",
      "Name: count, dtype: int64\n"
     ]
    }
   ],
   "execution_count": 3
  },
  {
   "metadata": {
    "ExecuteTime": {
     "end_time": "2025-07-10T11:34:58.151697Z",
     "start_time": "2025-07-10T11:34:57.297692Z"
    }
   },
   "cell_type": "code",
   "source": [
    "query = \"\"\"\n",
    "SELECT\n",
    "    lulc_class,\n",
    "    alos_dem_geomorphon AS geomorphon,\n",
    "    alos_dem_slope AS slope,\n",
    "    alos_dem_2000 AS hand,\n",
    "    abs_delta_alos_dem,\n",
    "    abs_delta_aster_dem,\n",
    "    abs_delta_copernicus_dem,\n",
    "    abs_delta_fab_dem,\n",
    "    abs_delta_nasa_dem,\n",
    "    abs_delta_srtm_dem,\n",
    "    abs_delta_tan_dem\n",
    "FROM 'data/tracks_3857_1.parquet'\n",
    "WHERE\n",
    "    lulc_class IS NOT NULL AND\n",
    "    alos_dem_geomorphon IS NOT NULL AND\n",
    "    alos_dem_slope IS NOT NULL AND\n",
    "    alos_dem_2000 IS NOT NULL AND\n",
    "    atl03_cnf = 4 AND atl08_class = 1\n",
    "\n",
    "\n",
    "\"\"\"\n",
    "df = duckdb.query(query).to_df()\n"
   ],
   "id": "15570c9365a2e5d2",
   "outputs": [],
   "execution_count": 5
  },
  {
   "metadata": {
    "ExecuteTime": {
     "end_time": "2025-07-10T11:35:09.195152Z",
     "start_time": "2025-07-10T11:35:09.185205Z"
    }
   },
   "cell_type": "code",
   "source": "df\n",
   "id": "73a6984259b3ebc3",
   "outputs": [
    {
     "data": {
      "text/plain": [
       "         lulc_class  geomorphon      slope    hand  abs_delta_alos_dem  \\\n",
       "0               2.0         6.0  15.656391   63.90           14.577062   \n",
       "1               2.0         6.0  15.656391   63.90            4.077794   \n",
       "2               2.0         6.0  15.656391   63.90           12.843785   \n",
       "3               2.0         6.0  19.652477   57.14           12.395421   \n",
       "4               2.0         6.0  19.652477   57.14           11.662267   \n",
       "...             ...         ...        ...     ...                 ...   \n",
       "6526137         2.0         9.0  15.166249  122.38           20.189415   \n",
       "6526138         2.0         9.0  15.166249  122.38           25.874962   \n",
       "6526139         2.0         9.0  15.166249  122.38            2.811317   \n",
       "6526140         2.0         9.0  15.166249  122.38           24.954491   \n",
       "6526141         2.0         9.0  15.166249  122.38           15.189293   \n",
       "\n",
       "         abs_delta_aster_dem  abs_delta_copernicus_dem  abs_delta_fab_dem  \\\n",
       "0                  20.577062                  9.667760          24.165379   \n",
       "1                  10.077794                  0.831508          13.666112   \n",
       "2                  18.843785                  7.934483          22.432103   \n",
       "3                  18.395421                  7.486119          21.983739   \n",
       "4                   9.662267                  1.247035          13.250584   \n",
       "...                      ...                       ...                ...   \n",
       "6526137             0.189415                 13.676842          12.707726   \n",
       "6526138             5.874962                 19.362389          18.393272   \n",
       "6526139            22.811317                  9.323891          10.293007   \n",
       "6526140             4.954491                 18.441917          17.472801   \n",
       "6526141             3.810707                  9.676720           8.707604   \n",
       "\n",
       "         abs_delta_nasa_dem  abs_delta_srtm_dem  abs_delta_tan_dem  \n",
       "0                 17.270116           21.577062           9.668980  \n",
       "1                  6.770848           11.077794           0.830287  \n",
       "2                 15.536839           19.843785           7.935704  \n",
       "3                 15.088475           19.395421           7.487340  \n",
       "4                  6.355321           10.662267           1.245814  \n",
       "...                     ...                 ...                ...  \n",
       "6526137           14.834862           10.189415          13.673729  \n",
       "6526138           20.520409           15.874962          19.359276  \n",
       "6526139            8.165871           12.811317           9.327003  \n",
       "6526140           19.599938           14.954491          18.438805  \n",
       "6526141           10.834740            6.189293           9.673607  \n",
       "\n",
       "[6526142 rows x 11 columns]"
      ],
      "text/html": [
       "<div>\n",
       "<style scoped>\n",
       "    .dataframe tbody tr th:only-of-type {\n",
       "        vertical-align: middle;\n",
       "    }\n",
       "\n",
       "    .dataframe tbody tr th {\n",
       "        vertical-align: top;\n",
       "    }\n",
       "\n",
       "    .dataframe thead th {\n",
       "        text-align: right;\n",
       "    }\n",
       "</style>\n",
       "<table border=\"1\" class=\"dataframe\">\n",
       "  <thead>\n",
       "    <tr style=\"text-align: right;\">\n",
       "      <th></th>\n",
       "      <th>lulc_class</th>\n",
       "      <th>geomorphon</th>\n",
       "      <th>slope</th>\n",
       "      <th>hand</th>\n",
       "      <th>abs_delta_alos_dem</th>\n",
       "      <th>abs_delta_aster_dem</th>\n",
       "      <th>abs_delta_copernicus_dem</th>\n",
       "      <th>abs_delta_fab_dem</th>\n",
       "      <th>abs_delta_nasa_dem</th>\n",
       "      <th>abs_delta_srtm_dem</th>\n",
       "      <th>abs_delta_tan_dem</th>\n",
       "    </tr>\n",
       "  </thead>\n",
       "  <tbody>\n",
       "    <tr>\n",
       "      <th>0</th>\n",
       "      <td>2.0</td>\n",
       "      <td>6.0</td>\n",
       "      <td>15.656391</td>\n",
       "      <td>63.90</td>\n",
       "      <td>14.577062</td>\n",
       "      <td>20.577062</td>\n",
       "      <td>9.667760</td>\n",
       "      <td>24.165379</td>\n",
       "      <td>17.270116</td>\n",
       "      <td>21.577062</td>\n",
       "      <td>9.668980</td>\n",
       "    </tr>\n",
       "    <tr>\n",
       "      <th>1</th>\n",
       "      <td>2.0</td>\n",
       "      <td>6.0</td>\n",
       "      <td>15.656391</td>\n",
       "      <td>63.90</td>\n",
       "      <td>4.077794</td>\n",
       "      <td>10.077794</td>\n",
       "      <td>0.831508</td>\n",
       "      <td>13.666112</td>\n",
       "      <td>6.770848</td>\n",
       "      <td>11.077794</td>\n",
       "      <td>0.830287</td>\n",
       "    </tr>\n",
       "    <tr>\n",
       "      <th>2</th>\n",
       "      <td>2.0</td>\n",
       "      <td>6.0</td>\n",
       "      <td>15.656391</td>\n",
       "      <td>63.90</td>\n",
       "      <td>12.843785</td>\n",
       "      <td>18.843785</td>\n",
       "      <td>7.934483</td>\n",
       "      <td>22.432103</td>\n",
       "      <td>15.536839</td>\n",
       "      <td>19.843785</td>\n",
       "      <td>7.935704</td>\n",
       "    </tr>\n",
       "    <tr>\n",
       "      <th>3</th>\n",
       "      <td>2.0</td>\n",
       "      <td>6.0</td>\n",
       "      <td>19.652477</td>\n",
       "      <td>57.14</td>\n",
       "      <td>12.395421</td>\n",
       "      <td>18.395421</td>\n",
       "      <td>7.486119</td>\n",
       "      <td>21.983739</td>\n",
       "      <td>15.088475</td>\n",
       "      <td>19.395421</td>\n",
       "      <td>7.487340</td>\n",
       "    </tr>\n",
       "    <tr>\n",
       "      <th>4</th>\n",
       "      <td>2.0</td>\n",
       "      <td>6.0</td>\n",
       "      <td>19.652477</td>\n",
       "      <td>57.14</td>\n",
       "      <td>11.662267</td>\n",
       "      <td>9.662267</td>\n",
       "      <td>1.247035</td>\n",
       "      <td>13.250584</td>\n",
       "      <td>6.355321</td>\n",
       "      <td>10.662267</td>\n",
       "      <td>1.245814</td>\n",
       "    </tr>\n",
       "    <tr>\n",
       "      <th>...</th>\n",
       "      <td>...</td>\n",
       "      <td>...</td>\n",
       "      <td>...</td>\n",
       "      <td>...</td>\n",
       "      <td>...</td>\n",
       "      <td>...</td>\n",
       "      <td>...</td>\n",
       "      <td>...</td>\n",
       "      <td>...</td>\n",
       "      <td>...</td>\n",
       "      <td>...</td>\n",
       "    </tr>\n",
       "    <tr>\n",
       "      <th>6526137</th>\n",
       "      <td>2.0</td>\n",
       "      <td>9.0</td>\n",
       "      <td>15.166249</td>\n",
       "      <td>122.38</td>\n",
       "      <td>20.189415</td>\n",
       "      <td>0.189415</td>\n",
       "      <td>13.676842</td>\n",
       "      <td>12.707726</td>\n",
       "      <td>14.834862</td>\n",
       "      <td>10.189415</td>\n",
       "      <td>13.673729</td>\n",
       "    </tr>\n",
       "    <tr>\n",
       "      <th>6526138</th>\n",
       "      <td>2.0</td>\n",
       "      <td>9.0</td>\n",
       "      <td>15.166249</td>\n",
       "      <td>122.38</td>\n",
       "      <td>25.874962</td>\n",
       "      <td>5.874962</td>\n",
       "      <td>19.362389</td>\n",
       "      <td>18.393272</td>\n",
       "      <td>20.520409</td>\n",
       "      <td>15.874962</td>\n",
       "      <td>19.359276</td>\n",
       "    </tr>\n",
       "    <tr>\n",
       "      <th>6526139</th>\n",
       "      <td>2.0</td>\n",
       "      <td>9.0</td>\n",
       "      <td>15.166249</td>\n",
       "      <td>122.38</td>\n",
       "      <td>2.811317</td>\n",
       "      <td>22.811317</td>\n",
       "      <td>9.323891</td>\n",
       "      <td>10.293007</td>\n",
       "      <td>8.165871</td>\n",
       "      <td>12.811317</td>\n",
       "      <td>9.327003</td>\n",
       "    </tr>\n",
       "    <tr>\n",
       "      <th>6526140</th>\n",
       "      <td>2.0</td>\n",
       "      <td>9.0</td>\n",
       "      <td>15.166249</td>\n",
       "      <td>122.38</td>\n",
       "      <td>24.954491</td>\n",
       "      <td>4.954491</td>\n",
       "      <td>18.441917</td>\n",
       "      <td>17.472801</td>\n",
       "      <td>19.599938</td>\n",
       "      <td>14.954491</td>\n",
       "      <td>18.438805</td>\n",
       "    </tr>\n",
       "    <tr>\n",
       "      <th>6526141</th>\n",
       "      <td>2.0</td>\n",
       "      <td>9.0</td>\n",
       "      <td>15.166249</td>\n",
       "      <td>122.38</td>\n",
       "      <td>15.189293</td>\n",
       "      <td>3.810707</td>\n",
       "      <td>9.676720</td>\n",
       "      <td>8.707604</td>\n",
       "      <td>10.834740</td>\n",
       "      <td>6.189293</td>\n",
       "      <td>9.673607</td>\n",
       "    </tr>\n",
       "  </tbody>\n",
       "</table>\n",
       "<p>6526142 rows × 11 columns</p>\n",
       "</div>"
      ]
     },
     "execution_count": 6,
     "metadata": {},
     "output_type": "execute_result"
    }
   ],
   "execution_count": 6
  },
  {
   "metadata": {
    "ExecuteTime": {
     "end_time": "2025-07-10T16:20:06.017947Z",
     "start_time": "2025-07-10T16:20:06.013250Z"
    }
   },
   "cell_type": "code",
   "source": "import pandas as pd",
   "id": "6da01fbfc10e1b43",
   "outputs": [],
   "execution_count": 23
  },
  {
   "metadata": {
    "ExecuteTime": {
     "end_time": "2025-07-10T16:37:54.002051Z",
     "start_time": "2025-07-10T16:37:53.981025Z"
    }
   },
   "cell_type": "code",
   "source": "df= pd.read_parquet('data/nmad_best_dem.parquet')",
   "id": "2e7b592f9893e5fd",
   "outputs": [],
   "execution_count": 33
  },
  {
   "metadata": {
    "ExecuteTime": {
     "end_time": "2025-07-10T16:37:55.406810Z",
     "start_time": "2025-07-10T16:37:55.402958Z"
    }
   },
   "cell_type": "code",
   "source": [
    "\n",
    "print(df[\"best_dem\"].value_counts())"
   ],
   "id": "a518570dfde706be",
   "outputs": [
    {
     "name": "stdout",
     "output_type": "stream",
     "text": [
      "best_dem\n",
      "alos          10917\n",
      "fab            7928\n",
      "nasa           6485\n",
      "aster          5574\n",
      "srtm           4936\n",
      "copernicus     4755\n",
      "tan            2237\n",
      "Name: count, dtype: int64\n"
     ]
    }
   ],
   "execution_count": 34
  },
  {
   "metadata": {
    "ExecuteTime": {
     "end_time": "2025-07-10T16:38:07.215623Z",
     "start_time": "2025-07-10T16:38:07.189992Z"
    }
   },
   "cell_type": "code",
   "source": [
    "print(df.head())\n",
    "print(df[\"best_dem\"].value_counts())\n",
    "print(df[\"best_dem\"].value_counts().to_dict())\n",
    "print(df.describe())"
   ],
   "id": "c0dd17fc071a5df4",
   "outputs": [
    {
     "name": "stdout",
     "output_type": "stream",
     "text": [
      "   geomorphon      slope        hand       twi   dist_river  lulc  nmad_alos  \\\n",
      "0         5.0   3.829117   85.135876  3.175687    26.610989  11.0   0.447929   \n",
      "1         5.0  11.319843   86.138496  5.024798    37.633622   2.0   0.195731   \n",
      "2         5.0  39.100098  147.727197  3.438630   261.544170   2.0   9.830957   \n",
      "3         7.0  23.882845  154.080435  6.724951   432.232739   2.0   1.538523   \n",
      "4         6.0  15.715055  201.432729  8.064340  1417.947178   2.0   2.600407   \n",
      "\n",
      "   nmad_aster  nmad_cop  nmad_fab  nmad_nasa  nmad_srtm  nmad_tan best_dem  \n",
      "0    0.383907  0.391372  0.340019   0.391372   0.391372  0.391372      fab  \n",
      "1    4.829787  1.860470  3.038252   3.851990  10.261616  1.860922     alos  \n",
      "2    2.392122  2.392122  2.392122   1.100910   1.965921  2.392122     nasa  \n",
      "3    2.152367  2.084454  2.152367   2.112868   1.596799  2.084454     alos  \n",
      "4    8.387766  2.510821  3.933360   2.221185   2.221185  2.507925     nasa  \n",
      "best_dem\n",
      "alos          10917\n",
      "fab            7928\n",
      "nasa           6485\n",
      "aster          5574\n",
      "srtm           4936\n",
      "copernicus     4755\n",
      "tan            2237\n",
      "Name: count, dtype: int64\n",
      "{'alos': 10917, 'fab': 7928, 'nasa': 6485, 'aster': 5574, 'srtm': 4936, 'copernicus': 4755, 'tan': 2237}\n",
      "         geomorphon         slope          hand           twi    dist_river  \\\n",
      "count  42832.000000  42832.000000  42832.000000  42832.000000  42832.000000   \n",
      "mean       5.905281     18.828517    166.068360      6.078387    712.872982   \n",
      "std        1.620714      7.972416    109.302864      1.496371    533.940419   \n",
      "min        2.000000      0.035015      0.380000      2.250255     26.610989   \n",
      "25%        5.000000     13.335235     81.934310      5.090387    268.001079   \n",
      "50%        6.000000     18.697319    152.284003      5.828972    609.378217   \n",
      "75%        7.000000     24.240275    233.400218      6.701572   1072.004316   \n",
      "max       10.000000     48.572330    613.354485     16.328445   2922.184233   \n",
      "\n",
      "               lulc     nmad_alos    nmad_aster      nmad_cop      nmad_fab  \\\n",
      "count  42829.000000  42832.000000  42832.000000  42832.000000  42832.000000   \n",
      "mean       4.667258      5.993317      6.377762      6.139972      5.471188   \n",
      "std        4.025988      7.200695      7.290121      7.437729      6.600238   \n",
      "min        1.000000      0.000000      0.000000      0.000000      0.000000   \n",
      "25%        2.000000      1.558250      1.857939      1.468189      1.450529   \n",
      "50%        2.000000      3.400800      3.925439      3.352426      3.272642   \n",
      "75%       11.000000      7.413000      7.853504      7.682210      6.823914   \n",
      "max       11.000000    138.037684    139.864420    128.739522    146.019418   \n",
      "\n",
      "          nmad_nasa     nmad_srtm      nmad_tan  \n",
      "count  42832.000000  42832.000000  42832.000000  \n",
      "mean       5.005001      5.424662      6.144952  \n",
      "std        5.477404      6.032999      7.448121  \n",
      "min        0.000000      0.000000      0.000000  \n",
      "25%        1.671318      1.746561      1.470900  \n",
      "50%        3.502699      3.629673      3.349415  \n",
      "75%        6.460897      6.841168      7.673659  \n",
      "max      130.312038    139.864420    128.739703  \n"
     ]
    }
   ],
   "execution_count": 35
  },
  {
   "metadata": {
    "ExecuteTime": {
     "end_time": "2025-07-11T12:37:40.155303Z",
     "start_time": "2025-07-11T12:37:38.247773Z"
    }
   },
   "cell_type": "code",
   "source": [
    "import matplotlib.pyplot as plt\n",
    "import seaborn as sns\n",
    "import pandas as pd\n",
    "\n",
    "# Завантажимо знову\n",
    "df = pd.read_parquet(\"data/NMAD_dem.parquet\")"
   ],
   "id": "fe6e283413f09531",
   "outputs": [],
   "execution_count": 1
  },
  {
   "metadata": {
    "ExecuteTime": {
     "end_time": "2025-07-11T12:33:02.872696Z",
     "start_time": "2025-07-11T12:33:02.860806Z"
    }
   },
   "cell_type": "code",
   "source": "print(df.head())",
   "id": "f2a46a6fa4c1fb54",
   "outputs": [
    {
     "name": "stdout",
     "output_type": "stream",
     "text": [
      "   region  sc_orient  track  segment_dist  solar_elevation  segment_id  \\\n",
      "0     6.0        1.0    1.0  1.472971e+07       -40.574150    735397.0   \n",
      "1     6.0        1.0    1.0  1.472969e+07       -40.574062    735396.0   \n",
      "2     6.0        1.0    1.0  1.472971e+07       -40.574150    735397.0   \n",
      "3     6.0        1.0    1.0  1.472969e+07       -40.574062    735396.0   \n",
      "4     6.0        1.0    1.0  1.472971e+07       -40.574150    735397.0   \n",
      "\n",
      "   background_rate  cycle  pair    rgt  ...          y        x_merc  \\\n",
      "0      4090.916847    1.0   1.0  556.0  ...  47.974189  2.755990e+06   \n",
      "1      7391.476707    1.0   1.0  556.0  ...  47.974189  2.755990e+06   \n",
      "2      4090.916847    1.0   1.0  556.0  ...  47.974145  2.755990e+06   \n",
      "3      7391.476707    1.0   1.0  556.0  ...  47.974145  2.755990e+06   \n",
      "4      4090.916847    1.0   1.0  556.0  ...  47.974119  2.755989e+06   \n",
      "\n",
      "         y_merc  nmad_alos  nmad_aster   nmad_cop  nmad_fab  nmad_nasa  \\\n",
      "0  6.102562e+06  25.328853    6.590363  19.522465  1.244900  10.331885   \n",
      "1  6.102562e+06  25.328853    6.590363  19.522465  1.244900  10.331885   \n",
      "2  6.102555e+06  11.163797    7.251307  20.183409  1.905845  10.992830   \n",
      "3  6.102555e+06  11.163797    7.251307  20.183409  1.905845  10.992830   \n",
      "4  6.102550e+06  10.143605    6.231114  19.163216  0.885652   9.972637   \n",
      "\n",
      "   nmad_srtm   nmad_tan  \n",
      "0   4.992167  19.569005  \n",
      "1   4.992167  19.569005  \n",
      "2   5.653111  20.229949  \n",
      "3   5.653111  20.229949  \n",
      "4   4.632919  19.209756  \n",
      "\n",
      "[5 rows x 103 columns]\n"
     ]
    }
   ],
   "execution_count": 12
  },
  {
   "metadata": {
    "ExecuteTime": {
     "end_time": "2025-07-11T12:33:44.729944Z",
     "start_time": "2025-07-11T12:33:40.845539Z"
    }
   },
   "cell_type": "code",
   "source": "print(df.describe())",
   "id": "e7c191e56f27d402",
   "outputs": [
    {
     "name": "stdout",
     "output_type": "stream",
     "text": [
      "             region     sc_orient         track  segment_dist  \\\n",
      "count  2.022807e+06  2.022807e+06  2.022807e+06  2.022807e+06   \n",
      "mean   3.466176e+00  7.498961e-01  2.301205e+00  8.780557e+06   \n",
      "min    2.000000e+00  0.000000e+00  1.000000e+00  5.309679e+06   \n",
      "25%    2.000000e+00  0.000000e+00  2.000000e+00  5.333323e+06   \n",
      "50%    2.000000e+00  1.000000e+00  2.000000e+00  5.349011e+06   \n",
      "75%    6.000000e+00  1.000000e+00  3.000000e+00  1.472213e+07   \n",
      "max    6.000000e+00  1.000000e+00  3.000000e+00  1.476160e+07   \n",
      "std    1.927442e+00  4.330728e-01  7.744581e-01  4.528123e+06   \n",
      "\n",
      "       solar_elevation    segment_id  background_rate         cycle  \\\n",
      "count     2.022807e+06  2.022807e+06     2.022807e+06  2.022807e+06   \n",
      "mean     -3.305679e+01  4.381901e+05     2.576847e+04  9.114034e+00   \n",
      "min      -6.245974e+01  2.647910e+05    -5.589418e-13  1.000000e+00   \n",
      "25%      -5.829999e+01  2.659710e+05     1.182217e+04  6.000000e+00   \n",
      "50%      -2.659019e+01  2.667540e+05     2.296933e+04  8.000000e+00   \n",
      "75%      -5.878331e+00  7.350240e+05     3.505662e+04  1.400000e+01   \n",
      "max      -2.806591e+00  7.369940e+05     5.840562e+05  2.600000e+01   \n",
      "std       2.447410e+01  2.262189e+05     2.011895e+04  6.592851e+00   \n",
      "\n",
      "               pair           rgt  ...             y        x_merc  \\\n",
      "count  2.022807e+06  2.022807e+06  ...  2.022807e+06  2.022807e+06   \n",
      "mean   6.611372e-01  6.252742e+02  ...  4.793710e+01  2.776180e+06   \n",
      "min    0.000000e+00  5.300000e+01  ...  4.769417e+01  2.751804e+06   \n",
      "25%    0.000000e+00  3.960000e+02  ...  4.782856e+01  2.773153e+06   \n",
      "50%    1.000000e+00  3.960000e+02  ...  4.796572e+01  2.776556e+06   \n",
      "75%    1.000000e+00  9.980000e+02  ...  4.804640e+01  2.780972e+06   \n",
      "max    1.000000e+00  1.341000e+03  ...  4.812573e+01  2.794225e+06   \n",
      "std    4.733233e-01  3.099874e+02  ...  1.269567e-01  6.641308e+03   \n",
      "\n",
      "             y_merc     nmad_alos    nmad_aster      nmad_cop      nmad_fab  \\\n",
      "count  2.022807e+06  2.021218e+06  2.021358e+06  2.021358e+06  2.021358e+06   \n",
      "mean   6.096423e+06  8.582621e+00  9.629849e+00  8.258786e+00  4.564778e+00   \n",
      "min    6.056125e+06  0.000000e+00  0.000000e+00  6.877295e-06  0.000000e+00   \n",
      "25%    6.078380e+06  2.275038e+00  3.432926e+00  1.811464e+00  1.340790e+00   \n",
      "50%    6.101154e+06  4.143296e+00  7.114892e+00  3.324221e+00  2.528917e+00   \n",
      "75%    6.114578e+06  1.052931e+01  1.125193e+01  1.107834e+01  4.276796e+00   \n",
      "max    6.127797e+06  1.270387e+02  1.182848e+02  1.177584e+02  1.373762e+02   \n",
      "std    2.108480e+04  1.053621e+01  1.030723e+01  1.057319e+01  6.218918e+00   \n",
      "\n",
      "          nmad_nasa     nmad_srtm      nmad_tan  \n",
      "count  2.021358e+06  2.021358e+06  2.021358e+06  \n",
      "mean   8.184268e+00  5.997933e+00  8.238860e+00  \n",
      "min    0.000000e+00  0.000000e+00  0.000000e+00  \n",
      "25%    2.959823e+00  2.028942e+00  1.788864e+00  \n",
      "50%    5.610393e+00  4.272438e+00  3.287109e+00  \n",
      "75%    9.528671e+00  7.093602e+00  1.102529e+01  \n",
      "max    1.323012e+02  1.351202e+02  1.178055e+02  \n",
      "std    8.413346e+00  6.462490e+00  1.058870e+01  \n",
      "\n",
      "[8 rows x 94 columns]\n"
     ]
    }
   ],
   "execution_count": 13
  },
  {
   "metadata": {
    "ExecuteTime": {
     "end_time": "2025-07-11T12:36:34.314846Z",
     "start_time": "2025-07-11T12:36:34.312229Z"
    }
   },
   "cell_type": "code",
   "source": [
    "x = [x for x in df.columns]\n",
    "print(x)\n"
   ],
   "id": "78d5f848f96baa31",
   "outputs": [
    {
     "name": "stdout",
     "output_type": "stream",
     "text": [
      "['region', 'sc_orient', 'track', 'segment_dist', 'solar_elevation', 'segment_id', 'background_rate', 'cycle', 'pair', 'rgt', 'snowcover', 'yapc_score', 'height', 'y_atc', 'landcover', 'x_atc', 'relief', 'quality_ph', 'atl03_cnf', 'atl08_class', 'spot', 'time', 'geoid_height', 'orthometric_height', 'h_alos_dem', 'delta_alos_dem', 'abs_delta_alos_dem', 'h_aster_dem', 'delta_aster_dem', 'abs_delta_aster_dem', 'h_copernicus_dem', 'delta_copernicus_dem', 'abs_delta_copernicus_dem', 'h_fab_dem', 'delta_fab_dem', 'abs_delta_fab_dem', 'h_nasa_dem', 'delta_nasa_dem', 'abs_delta_nasa_dem', 'h_srtm_dem', 'delta_srtm_dem', 'abs_delta_srtm_dem', 'h_tan_dem', 'delta_tan_dem', 'abs_delta_tan_dem', 'year', 'lulc_class', 'lulc_name', 'alos_dem_slope', 'aster_dem_slope', 'copernicus_dem_slope', 'fab_dem_slope', 'nasa_dem_slope', 'srtm_dem_slope', 'tan_dem_slope', 'alos_dem_geomorphon', 'alos_dem_landform', 'aster_dem_geomorphon', 'aster_dem_landform', 'copernicus_dem_geomorphon', 'copernicus_dem_landform', 'fab_dem_geomorphon', 'fab_dem_landform', 'nasa_dem_geomorphon', 'nasa_dem_landform', 'srtm_dem_geomorphon', 'srtm_dem_landform', 'tan_dem_geomorphon', 'tan_dem_landform', 'alos_dem_2000', 'aster_dem_2000', 'copernicus_dem_2000', 'fab_dem_2000', 'nasa_dem_2000', 'srtm_dem_2000', 'tan_dem_2000', 'alos_dem_stream', 'aster_dem_stream', 'copernicus_dem_stream', 'fab_dem_stream', 'nasa_dem_stream', 'srtm_dem_stream', 'tan_dem_stream', 'alos_dem_twi', 'aster_dem_twi', 'copernicus_dem_twi', 'fab_dem_twi', 'nasa_dem_twi', 'srtm_dem_twi', 'tan_dem_twi', '__index_level_0__', 'geometry_bbox', 'x', 'y', 'x_merc', 'y_merc', 'nmad_alos', 'nmad_aster', 'nmad_cop', 'nmad_fab', 'nmad_nasa', 'nmad_srtm', 'nmad_tan']\n"
     ]
    }
   ],
   "execution_count": 17
  },
  {
   "metadata": {
    "ExecuteTime": {
     "end_time": "2025-07-11T12:37:45.580895Z",
     "start_time": "2025-07-11T12:37:45.202624Z"
    }
   },
   "cell_type": "code",
   "source": "df[['nmad_alos', 'nmad_aster', 'nmad_cop', 'nmad_fab', 'nmad_nasa', 'nmad_srtm', 'nmad_tan']].describe()\n",
   "id": "e36bd063d3402296",
   "outputs": [
    {
     "data": {
      "text/plain": [
       "          nmad_alos    nmad_aster      nmad_cop      nmad_fab     nmad_nasa  \\\n",
       "count  2.021218e+06  2.021358e+06  2.021358e+06  2.021358e+06  2.021358e+06   \n",
       "mean   8.582621e+00  9.629849e+00  8.258786e+00  4.564778e+00  8.184268e+00   \n",
       "std    1.053621e+01  1.030723e+01  1.057319e+01  6.218918e+00  8.413346e+00   \n",
       "min    0.000000e+00  0.000000e+00  6.877295e-06  0.000000e+00  0.000000e+00   \n",
       "25%    2.275038e+00  3.432926e+00  1.811464e+00  1.340790e+00  2.959823e+00   \n",
       "50%    4.143296e+00  7.114892e+00  3.324221e+00  2.528917e+00  5.610393e+00   \n",
       "75%    1.052931e+01  1.125193e+01  1.107834e+01  4.276796e+00  9.528671e+00   \n",
       "max    1.270387e+02  1.182848e+02  1.177584e+02  1.373762e+02  1.323012e+02   \n",
       "\n",
       "          nmad_srtm      nmad_tan  \n",
       "count  2.021358e+06  2.021358e+06  \n",
       "mean   5.997933e+00  8.238860e+00  \n",
       "std    6.462490e+00  1.058870e+01  \n",
       "min    0.000000e+00  0.000000e+00  \n",
       "25%    2.028942e+00  1.788864e+00  \n",
       "50%    4.272438e+00  3.287109e+00  \n",
       "75%    7.093602e+00  1.102529e+01  \n",
       "max    1.351202e+02  1.178055e+02  "
      ],
      "text/html": [
       "<div>\n",
       "<style scoped>\n",
       "    .dataframe tbody tr th:only-of-type {\n",
       "        vertical-align: middle;\n",
       "    }\n",
       "\n",
       "    .dataframe tbody tr th {\n",
       "        vertical-align: top;\n",
       "    }\n",
       "\n",
       "    .dataframe thead th {\n",
       "        text-align: right;\n",
       "    }\n",
       "</style>\n",
       "<table border=\"1\" class=\"dataframe\">\n",
       "  <thead>\n",
       "    <tr style=\"text-align: right;\">\n",
       "      <th></th>\n",
       "      <th>nmad_alos</th>\n",
       "      <th>nmad_aster</th>\n",
       "      <th>nmad_cop</th>\n",
       "      <th>nmad_fab</th>\n",
       "      <th>nmad_nasa</th>\n",
       "      <th>nmad_srtm</th>\n",
       "      <th>nmad_tan</th>\n",
       "    </tr>\n",
       "  </thead>\n",
       "  <tbody>\n",
       "    <tr>\n",
       "      <th>count</th>\n",
       "      <td>2.021218e+06</td>\n",
       "      <td>2.021358e+06</td>\n",
       "      <td>2.021358e+06</td>\n",
       "      <td>2.021358e+06</td>\n",
       "      <td>2.021358e+06</td>\n",
       "      <td>2.021358e+06</td>\n",
       "      <td>2.021358e+06</td>\n",
       "    </tr>\n",
       "    <tr>\n",
       "      <th>mean</th>\n",
       "      <td>8.582621e+00</td>\n",
       "      <td>9.629849e+00</td>\n",
       "      <td>8.258786e+00</td>\n",
       "      <td>4.564778e+00</td>\n",
       "      <td>8.184268e+00</td>\n",
       "      <td>5.997933e+00</td>\n",
       "      <td>8.238860e+00</td>\n",
       "    </tr>\n",
       "    <tr>\n",
       "      <th>std</th>\n",
       "      <td>1.053621e+01</td>\n",
       "      <td>1.030723e+01</td>\n",
       "      <td>1.057319e+01</td>\n",
       "      <td>6.218918e+00</td>\n",
       "      <td>8.413346e+00</td>\n",
       "      <td>6.462490e+00</td>\n",
       "      <td>1.058870e+01</td>\n",
       "    </tr>\n",
       "    <tr>\n",
       "      <th>min</th>\n",
       "      <td>0.000000e+00</td>\n",
       "      <td>0.000000e+00</td>\n",
       "      <td>6.877295e-06</td>\n",
       "      <td>0.000000e+00</td>\n",
       "      <td>0.000000e+00</td>\n",
       "      <td>0.000000e+00</td>\n",
       "      <td>0.000000e+00</td>\n",
       "    </tr>\n",
       "    <tr>\n",
       "      <th>25%</th>\n",
       "      <td>2.275038e+00</td>\n",
       "      <td>3.432926e+00</td>\n",
       "      <td>1.811464e+00</td>\n",
       "      <td>1.340790e+00</td>\n",
       "      <td>2.959823e+00</td>\n",
       "      <td>2.028942e+00</td>\n",
       "      <td>1.788864e+00</td>\n",
       "    </tr>\n",
       "    <tr>\n",
       "      <th>50%</th>\n",
       "      <td>4.143296e+00</td>\n",
       "      <td>7.114892e+00</td>\n",
       "      <td>3.324221e+00</td>\n",
       "      <td>2.528917e+00</td>\n",
       "      <td>5.610393e+00</td>\n",
       "      <td>4.272438e+00</td>\n",
       "      <td>3.287109e+00</td>\n",
       "    </tr>\n",
       "    <tr>\n",
       "      <th>75%</th>\n",
       "      <td>1.052931e+01</td>\n",
       "      <td>1.125193e+01</td>\n",
       "      <td>1.107834e+01</td>\n",
       "      <td>4.276796e+00</td>\n",
       "      <td>9.528671e+00</td>\n",
       "      <td>7.093602e+00</td>\n",
       "      <td>1.102529e+01</td>\n",
       "    </tr>\n",
       "    <tr>\n",
       "      <th>max</th>\n",
       "      <td>1.270387e+02</td>\n",
       "      <td>1.182848e+02</td>\n",
       "      <td>1.177584e+02</td>\n",
       "      <td>1.373762e+02</td>\n",
       "      <td>1.323012e+02</td>\n",
       "      <td>1.351202e+02</td>\n",
       "      <td>1.178055e+02</td>\n",
       "    </tr>\n",
       "  </tbody>\n",
       "</table>\n",
       "</div>"
      ]
     },
     "execution_count": 2,
     "metadata": {},
     "output_type": "execute_result"
    }
   ],
   "execution_count": 2
  },
  {
   "metadata": {
    "ExecuteTime": {
     "end_time": "2025-07-11T12:41:23.314670Z",
     "start_time": "2025-07-11T12:41:23.274652Z"
    }
   },
   "cell_type": "code",
   "source": [
    "nmad_columns = [\n",
    "    \"nmad_alos\", \"nmad_aster\", \"nmad_cop\",\n",
    "    \"nmad_fab\", \"nmad_nasa\", \"nmad_srtm\", \"nmad_tan\"\n",
    "]\n",
    "\n",
    "# Групуємо по lulc_class і обчислюємо середні значення\n",
    "grouped = df.groupby(\"lulc_class\")[nmad_columns].mean().reset_index()"
   ],
   "id": "428fad4238d7e5bd",
   "outputs": [],
   "execution_count": 3
  },
  {
   "metadata": {
    "ExecuteTime": {
     "end_time": "2025-07-11T12:41:37.614207Z",
     "start_time": "2025-07-11T12:41:37.609873Z"
    }
   },
   "cell_type": "code",
   "source": [
    "grouped[\"best_dem\"] = grouped[nmad_columns].idxmin(axis=1)\n",
    "grouped[\"best_nmad\"] = grouped[nmad_columns].min(axis=1)"
   ],
   "id": "d088287e3dc2e571",
   "outputs": [],
   "execution_count": 4
  },
  {
   "metadata": {
    "ExecuteTime": {
     "end_time": "2025-07-11T12:44:33.190665Z",
     "start_time": "2025-07-11T12:44:33.188208Z"
    }
   },
   "cell_type": "code",
   "source": [
    "# 🗂️ LULC словник\n",
    "lulc_classes_colors = {\n",
    "    0:  {\"name\": \"No Data\", \"color\": \"#FFFFFF\"},\n",
    "    1:  {\"name\": \"Water\", \"color\": \"#1A5BAB\"},\n",
    "    2:  {\"name\": \"Trees\", \"color\": \"#358221\"},\n",
    "    4:  {\"name\": \"Flooded Vegetation\", \"color\": \"#87D19E\"},\n",
    "    5:  {\"name\": \"Crops\", \"color\": \"#FFDB5C\"},\n",
    "    7:  {\"name\": \"Built Area\", \"color\": \"#ED022A\"},\n",
    "    8:  {\"name\": \"Bare Ground\", \"color\": \"#EDE9E4\"},\n",
    "    9:  {\"name\": \"Snow/Ice\", \"color\": \"#F2FAFF\"},\n",
    "    10: {\"name\": \"Clouds\", \"color\": \"#C8C8C8\"},\n",
    "    11: {\"name\": \"Rangeland\", \"color\": \"#A7D282\"}\n",
    "}"
   ],
   "id": "c081098f6ec5798b",
   "outputs": [],
   "execution_count": 7
  },
  {
   "metadata": {
    "ExecuteTime": {
     "end_time": "2025-07-11T12:42:47.481401Z",
     "start_time": "2025-07-11T12:42:47.477050Z"
    }
   },
   "cell_type": "code",
   "source": "print(grouped)",
   "id": "2ed1252d167f7848",
   "outputs": [
    {
     "name": "stdout",
     "output_type": "stream",
     "text": [
      "   lulc_class  nmad_alos  nmad_aster   nmad_cop  nmad_fab  nmad_nasa  \\\n",
      "0         1.0   2.613390    6.524125   2.373766  2.500590   5.261097   \n",
      "1         2.0  13.065660   11.848816  13.294593  6.171055  10.846058   \n",
      "2         5.0   3.296268    6.678868   2.409845  2.032075   4.034224   \n",
      "3         7.0   3.303210    5.705756   2.556516  2.311358   4.816089   \n",
      "4        11.0   4.723092    8.017826   3.966826  3.294175   6.021577   \n",
      "\n",
      "   nmad_srtm   nmad_tan  best_dem  best_nmad  \n",
      "0   4.101632   2.746634  nmad_cop   2.373766  \n",
      "1   7.612834  13.275025  nmad_fab   6.171055  \n",
      "2   2.981249   2.381199  nmad_fab   2.032075  \n",
      "3   3.485898   2.504248  nmad_fab   2.311358  \n",
      "4   4.786632   3.941992  nmad_fab   3.294175  \n"
     ]
    }
   ],
   "execution_count": 6
  },
  {
   "metadata": {
    "ExecuteTime": {
     "end_time": "2025-07-11T12:44:46.095098Z",
     "start_time": "2025-07-11T12:44:46.088725Z"
    }
   },
   "cell_type": "code",
   "source": [
    "# Перетворимо словник у DataFrame\n",
    "import pandas as pd\n",
    "\n",
    "lulc_df = pd.DataFrame.from_dict(lulc_classes_colors, orient='index')\n",
    "lulc_df = lulc_df.reset_index().rename(columns={\"index\": \"lulc_class\"})\n",
    "\n",
    "# Об'єднаємо з твоїм результатом\n",
    "grouped = grouped.merge(lulc_df, on=\"lulc_class\", how=\"left\")\n"
   ],
   "id": "53ed0a8651fe2570",
   "outputs": [],
   "execution_count": 8
  },
  {
   "metadata": {
    "ExecuteTime": {
     "end_time": "2025-07-11T12:44:52.994292Z",
     "start_time": "2025-07-11T12:44:52.816906Z"
    }
   },
   "cell_type": "code",
   "source": [
    "import plotly.express as px\n",
    "\n",
    "fig = px.bar(\n",
    "    grouped,\n",
    "    x=\"name\",\n",
    "    y=\"best_nmad\",\n",
    "    color=\"best_dem\",\n",
    "    color_discrete_sequence=px.colors.qualitative.Set2,\n",
    "    text=\"best_dem\",\n",
    "    title=\"🏆 Найточніша DEM для кожного класу LULC (за NMAD)\"\n",
    ")\n",
    "\n",
    "fig.update_layout(\n",
    "    xaxis_title=\"Клас землекористування\",\n",
    "    yaxis_title=\"NMAD (м)\",\n",
    "    xaxis_tickangle=-45,\n",
    "    showlegend=True\n",
    ")\n",
    "\n",
    "fig.show()\n"
   ],
   "id": "b57e0ecf65dda9bc",
   "outputs": [
    {
     "data": {
      "application/vnd.plotly.v1+json": {
       "data": [
        {
         "hovertemplate": "best_dem=%{text}<br>name=%{x}<br>best_nmad=%{y}<extra></extra>",
         "legendgroup": "nmad_cop",
         "marker": {
          "color": "rgb(102,194,165)",
          "pattern": {
           "shape": ""
          }
         },
         "name": "nmad_cop",
         "orientation": "v",
         "showlegend": true,
         "text": [
          "nmad_cop"
         ],
         "textposition": "auto",
         "x": [
          "Water"
         ],
         "xaxis": "x",
         "y": {
          "dtype": "f8",
          "bdata": "QYLH/nj9AkA="
         },
         "yaxis": "y",
         "type": "bar"
        },
        {
         "hovertemplate": "best_dem=%{text}<br>name=%{x}<br>best_nmad=%{y}<extra></extra>",
         "legendgroup": "nmad_fab",
         "marker": {
          "color": "rgb(252,141,98)",
          "pattern": {
           "shape": ""
          }
         },
         "name": "nmad_fab",
         "orientation": "v",
         "showlegend": true,
         "text": [
          "nmad_fab",
          "nmad_fab",
          "nmad_fab",
          "nmad_fab"
         ],
         "textposition": "auto",
         "x": [
          "Trees",
          "Crops",
          "Built Area",
          "Rangeland"
         ],
         "xaxis": "x",
         "y": {
          "dtype": "f8",
          "bdata": "qP9LGymvGECMhgHJsEEAQH3jBGepfQJA9XaSinhaCkA="
         },
         "yaxis": "y",
         "type": "bar"
        }
       ],
       "layout": {
        "template": {
         "data": {
          "histogram2dcontour": [
           {
            "type": "histogram2dcontour",
            "colorbar": {
             "outlinewidth": 0,
             "ticks": ""
            },
            "colorscale": [
             [
              0.0,
              "#0d0887"
             ],
             [
              0.1111111111111111,
              "#46039f"
             ],
             [
              0.2222222222222222,
              "#7201a8"
             ],
             [
              0.3333333333333333,
              "#9c179e"
             ],
             [
              0.4444444444444444,
              "#bd3786"
             ],
             [
              0.5555555555555556,
              "#d8576b"
             ],
             [
              0.6666666666666666,
              "#ed7953"
             ],
             [
              0.7777777777777778,
              "#fb9f3a"
             ],
             [
              0.8888888888888888,
              "#fdca26"
             ],
             [
              1.0,
              "#f0f921"
             ]
            ]
           }
          ],
          "choropleth": [
           {
            "type": "choropleth",
            "colorbar": {
             "outlinewidth": 0,
             "ticks": ""
            }
           }
          ],
          "histogram2d": [
           {
            "type": "histogram2d",
            "colorbar": {
             "outlinewidth": 0,
             "ticks": ""
            },
            "colorscale": [
             [
              0.0,
              "#0d0887"
             ],
             [
              0.1111111111111111,
              "#46039f"
             ],
             [
              0.2222222222222222,
              "#7201a8"
             ],
             [
              0.3333333333333333,
              "#9c179e"
             ],
             [
              0.4444444444444444,
              "#bd3786"
             ],
             [
              0.5555555555555556,
              "#d8576b"
             ],
             [
              0.6666666666666666,
              "#ed7953"
             ],
             [
              0.7777777777777778,
              "#fb9f3a"
             ],
             [
              0.8888888888888888,
              "#fdca26"
             ],
             [
              1.0,
              "#f0f921"
             ]
            ]
           }
          ],
          "heatmap": [
           {
            "type": "heatmap",
            "colorbar": {
             "outlinewidth": 0,
             "ticks": ""
            },
            "colorscale": [
             [
              0.0,
              "#0d0887"
             ],
             [
              0.1111111111111111,
              "#46039f"
             ],
             [
              0.2222222222222222,
              "#7201a8"
             ],
             [
              0.3333333333333333,
              "#9c179e"
             ],
             [
              0.4444444444444444,
              "#bd3786"
             ],
             [
              0.5555555555555556,
              "#d8576b"
             ],
             [
              0.6666666666666666,
              "#ed7953"
             ],
             [
              0.7777777777777778,
              "#fb9f3a"
             ],
             [
              0.8888888888888888,
              "#fdca26"
             ],
             [
              1.0,
              "#f0f921"
             ]
            ]
           }
          ],
          "contourcarpet": [
           {
            "type": "contourcarpet",
            "colorbar": {
             "outlinewidth": 0,
             "ticks": ""
            }
           }
          ],
          "contour": [
           {
            "type": "contour",
            "colorbar": {
             "outlinewidth": 0,
             "ticks": ""
            },
            "colorscale": [
             [
              0.0,
              "#0d0887"
             ],
             [
              0.1111111111111111,
              "#46039f"
             ],
             [
              0.2222222222222222,
              "#7201a8"
             ],
             [
              0.3333333333333333,
              "#9c179e"
             ],
             [
              0.4444444444444444,
              "#bd3786"
             ],
             [
              0.5555555555555556,
              "#d8576b"
             ],
             [
              0.6666666666666666,
              "#ed7953"
             ],
             [
              0.7777777777777778,
              "#fb9f3a"
             ],
             [
              0.8888888888888888,
              "#fdca26"
             ],
             [
              1.0,
              "#f0f921"
             ]
            ]
           }
          ],
          "surface": [
           {
            "type": "surface",
            "colorbar": {
             "outlinewidth": 0,
             "ticks": ""
            },
            "colorscale": [
             [
              0.0,
              "#0d0887"
             ],
             [
              0.1111111111111111,
              "#46039f"
             ],
             [
              0.2222222222222222,
              "#7201a8"
             ],
             [
              0.3333333333333333,
              "#9c179e"
             ],
             [
              0.4444444444444444,
              "#bd3786"
             ],
             [
              0.5555555555555556,
              "#d8576b"
             ],
             [
              0.6666666666666666,
              "#ed7953"
             ],
             [
              0.7777777777777778,
              "#fb9f3a"
             ],
             [
              0.8888888888888888,
              "#fdca26"
             ],
             [
              1.0,
              "#f0f921"
             ]
            ]
           }
          ],
          "mesh3d": [
           {
            "type": "mesh3d",
            "colorbar": {
             "outlinewidth": 0,
             "ticks": ""
            }
           }
          ],
          "scatter": [
           {
            "marker": {
             "line": {
              "color": "#283442"
             }
            },
            "type": "scatter"
           }
          ],
          "parcoords": [
           {
            "type": "parcoords",
            "line": {
             "colorbar": {
              "outlinewidth": 0,
              "ticks": ""
             }
            }
           }
          ],
          "scatterpolargl": [
           {
            "type": "scatterpolargl",
            "marker": {
             "colorbar": {
              "outlinewidth": 0,
              "ticks": ""
             }
            }
           }
          ],
          "bar": [
           {
            "error_x": {
             "color": "#f2f5fa"
            },
            "error_y": {
             "color": "#f2f5fa"
            },
            "marker": {
             "line": {
              "color": "rgb(17,17,17)",
              "width": 0.5
             },
             "pattern": {
              "fillmode": "overlay",
              "size": 10,
              "solidity": 0.2
             }
            },
            "type": "bar"
           }
          ],
          "scattergeo": [
           {
            "type": "scattergeo",
            "marker": {
             "colorbar": {
              "outlinewidth": 0,
              "ticks": ""
             }
            }
           }
          ],
          "scatterpolar": [
           {
            "type": "scatterpolar",
            "marker": {
             "colorbar": {
              "outlinewidth": 0,
              "ticks": ""
             }
            }
           }
          ],
          "histogram": [
           {
            "marker": {
             "pattern": {
              "fillmode": "overlay",
              "size": 10,
              "solidity": 0.2
             }
            },
            "type": "histogram"
           }
          ],
          "scattergl": [
           {
            "marker": {
             "line": {
              "color": "#283442"
             }
            },
            "type": "scattergl"
           }
          ],
          "scatter3d": [
           {
            "type": "scatter3d",
            "line": {
             "colorbar": {
              "outlinewidth": 0,
              "ticks": ""
             }
            },
            "marker": {
             "colorbar": {
              "outlinewidth": 0,
              "ticks": ""
             }
            }
           }
          ],
          "scattermap": [
           {
            "type": "scattermap",
            "marker": {
             "colorbar": {
              "outlinewidth": 0,
              "ticks": ""
             }
            }
           }
          ],
          "scattermapbox": [
           {
            "type": "scattermapbox",
            "marker": {
             "colorbar": {
              "outlinewidth": 0,
              "ticks": ""
             }
            }
           }
          ],
          "scatterternary": [
           {
            "type": "scatterternary",
            "marker": {
             "colorbar": {
              "outlinewidth": 0,
              "ticks": ""
             }
            }
           }
          ],
          "scattercarpet": [
           {
            "type": "scattercarpet",
            "marker": {
             "colorbar": {
              "outlinewidth": 0,
              "ticks": ""
             }
            }
           }
          ],
          "carpet": [
           {
            "aaxis": {
             "endlinecolor": "#A2B1C6",
             "gridcolor": "#506784",
             "linecolor": "#506784",
             "minorgridcolor": "#506784",
             "startlinecolor": "#A2B1C6"
            },
            "baxis": {
             "endlinecolor": "#A2B1C6",
             "gridcolor": "#506784",
             "linecolor": "#506784",
             "minorgridcolor": "#506784",
             "startlinecolor": "#A2B1C6"
            },
            "type": "carpet"
           }
          ],
          "table": [
           {
            "cells": {
             "fill": {
              "color": "#506784"
             },
             "line": {
              "color": "rgb(17,17,17)"
             }
            },
            "header": {
             "fill": {
              "color": "#2a3f5f"
             },
             "line": {
              "color": "rgb(17,17,17)"
             }
            },
            "type": "table"
           }
          ],
          "barpolar": [
           {
            "marker": {
             "line": {
              "color": "rgb(17,17,17)",
              "width": 0.5
             },
             "pattern": {
              "fillmode": "overlay",
              "size": 10,
              "solidity": 0.2
             }
            },
            "type": "barpolar"
           }
          ],
          "pie": [
           {
            "automargin": true,
            "type": "pie"
           }
          ]
         },
         "layout": {
          "autotypenumbers": "strict",
          "colorway": [
           "#636efa",
           "#EF553B",
           "#00cc96",
           "#ab63fa",
           "#FFA15A",
           "#19d3f3",
           "#FF6692",
           "#B6E880",
           "#FF97FF",
           "#FECB52"
          ],
          "font": {
           "color": "#f2f5fa"
          },
          "hovermode": "closest",
          "hoverlabel": {
           "align": "left"
          },
          "paper_bgcolor": "rgb(17,17,17)",
          "plot_bgcolor": "rgb(17,17,17)",
          "polar": {
           "bgcolor": "rgb(17,17,17)",
           "angularaxis": {
            "gridcolor": "#506784",
            "linecolor": "#506784",
            "ticks": ""
           },
           "radialaxis": {
            "gridcolor": "#506784",
            "linecolor": "#506784",
            "ticks": ""
           }
          },
          "ternary": {
           "bgcolor": "rgb(17,17,17)",
           "aaxis": {
            "gridcolor": "#506784",
            "linecolor": "#506784",
            "ticks": ""
           },
           "baxis": {
            "gridcolor": "#506784",
            "linecolor": "#506784",
            "ticks": ""
           },
           "caxis": {
            "gridcolor": "#506784",
            "linecolor": "#506784",
            "ticks": ""
           }
          },
          "coloraxis": {
           "colorbar": {
            "outlinewidth": 0,
            "ticks": ""
           }
          },
          "colorscale": {
           "sequential": [
            [
             0.0,
             "#0d0887"
            ],
            [
             0.1111111111111111,
             "#46039f"
            ],
            [
             0.2222222222222222,
             "#7201a8"
            ],
            [
             0.3333333333333333,
             "#9c179e"
            ],
            [
             0.4444444444444444,
             "#bd3786"
            ],
            [
             0.5555555555555556,
             "#d8576b"
            ],
            [
             0.6666666666666666,
             "#ed7953"
            ],
            [
             0.7777777777777778,
             "#fb9f3a"
            ],
            [
             0.8888888888888888,
             "#fdca26"
            ],
            [
             1.0,
             "#f0f921"
            ]
           ],
           "sequentialminus": [
            [
             0.0,
             "#0d0887"
            ],
            [
             0.1111111111111111,
             "#46039f"
            ],
            [
             0.2222222222222222,
             "#7201a8"
            ],
            [
             0.3333333333333333,
             "#9c179e"
            ],
            [
             0.4444444444444444,
             "#bd3786"
            ],
            [
             0.5555555555555556,
             "#d8576b"
            ],
            [
             0.6666666666666666,
             "#ed7953"
            ],
            [
             0.7777777777777778,
             "#fb9f3a"
            ],
            [
             0.8888888888888888,
             "#fdca26"
            ],
            [
             1.0,
             "#f0f921"
            ]
           ],
           "diverging": [
            [
             0,
             "#8e0152"
            ],
            [
             0.1,
             "#c51b7d"
            ],
            [
             0.2,
             "#de77ae"
            ],
            [
             0.3,
             "#f1b6da"
            ],
            [
             0.4,
             "#fde0ef"
            ],
            [
             0.5,
             "#f7f7f7"
            ],
            [
             0.6,
             "#e6f5d0"
            ],
            [
             0.7,
             "#b8e186"
            ],
            [
             0.8,
             "#7fbc41"
            ],
            [
             0.9,
             "#4d9221"
            ],
            [
             1,
             "#276419"
            ]
           ]
          },
          "xaxis": {
           "gridcolor": "#283442",
           "linecolor": "#506784",
           "ticks": "",
           "title": {
            "standoff": 15
           },
           "zerolinecolor": "#283442",
           "automargin": true,
           "zerolinewidth": 2
          },
          "yaxis": {
           "gridcolor": "#283442",
           "linecolor": "#506784",
           "ticks": "",
           "title": {
            "standoff": 15
           },
           "zerolinecolor": "#283442",
           "automargin": true,
           "zerolinewidth": 2
          },
          "scene": {
           "xaxis": {
            "backgroundcolor": "rgb(17,17,17)",
            "gridcolor": "#506784",
            "linecolor": "#506784",
            "showbackground": true,
            "ticks": "",
            "zerolinecolor": "#C8D4E3",
            "gridwidth": 2
           },
           "yaxis": {
            "backgroundcolor": "rgb(17,17,17)",
            "gridcolor": "#506784",
            "linecolor": "#506784",
            "showbackground": true,
            "ticks": "",
            "zerolinecolor": "#C8D4E3",
            "gridwidth": 2
           },
           "zaxis": {
            "backgroundcolor": "rgb(17,17,17)",
            "gridcolor": "#506784",
            "linecolor": "#506784",
            "showbackground": true,
            "ticks": "",
            "zerolinecolor": "#C8D4E3",
            "gridwidth": 2
           }
          },
          "shapedefaults": {
           "line": {
            "color": "#f2f5fa"
           }
          },
          "annotationdefaults": {
           "arrowcolor": "#f2f5fa",
           "arrowhead": 0,
           "arrowwidth": 1
          },
          "geo": {
           "bgcolor": "rgb(17,17,17)",
           "landcolor": "rgb(17,17,17)",
           "subunitcolor": "#506784",
           "showland": true,
           "showlakes": true,
           "lakecolor": "rgb(17,17,17)"
          },
          "title": {
           "x": 0.05
          },
          "updatemenudefaults": {
           "bgcolor": "#506784",
           "borderwidth": 0
          },
          "sliderdefaults": {
           "bgcolor": "#C8D4E3",
           "borderwidth": 1,
           "bordercolor": "rgb(17,17,17)",
           "tickwidth": 0
          },
          "mapbox": {
           "style": "dark"
          }
         }
        },
        "xaxis": {
         "anchor": "y",
         "domain": [
          0.0,
          1.0
         ],
         "title": {
          "text": "Клас землекористування"
         },
         "tickangle": -45
        },
        "yaxis": {
         "anchor": "x",
         "domain": [
          0.0,
          1.0
         ],
         "title": {
          "text": "NMAD (м)"
         }
        },
        "legend": {
         "title": {
          "text": "best_dem"
         },
         "tracegroupgap": 0
        },
        "title": {
         "text": "🏆 Найточніша DEM для кожного класу LULC (за NMAD)"
        },
        "barmode": "relative",
        "showlegend": true
       },
       "config": {
        "plotlyServerURL": "https://plot.ly"
       }
      }
     },
     "metadata": {},
     "output_type": "display_data"
    }
   ],
   "execution_count": 9
  },
  {
   "metadata": {
    "ExecuteTime": {
     "end_time": "2025-07-11T14:03:59.683544Z",
     "start_time": "2025-07-11T14:03:59.653154Z"
    }
   },
   "cell_type": "code",
   "source": [
    "import pandas as pd\n",
    "import plotly.express as px\n",
    "\n",
    "# 🔁 Перетворимо grouped у long-format для всіх DEM\n",
    "nmad_columns = [\n",
    "    \"nmad_alos\", \"nmad_aster\", \"nmad_cop\",\n",
    "    \"nmad_fab\", \"nmad_nasa\", \"nmad_srtm\", \"nmad_tan\"\n",
    "]\n",
    "\n",
    "grouped_long = grouped.melt(\n",
    "    id_vars=[\"lulc_class\", \"name\"],  # залишаємо інфу про LULC\n",
    "    value_vars=nmad_columns,\n",
    "    var_name=\"DEM\",\n",
    "    value_name=\"NMAD\"\n",
    ")\n",
    "\n",
    "# 🧼 Форматуємо назви DEM\n",
    "grouped_long[\"DEM\"] = grouped_long[\"DEM\"].str.replace(\"nmad_\", \"\").str.upper()\n",
    "\n",
    "# 🧾 Побудова графіка\n",
    "fig = px.bar(\n",
    "    grouped_long,\n",
    "    x=\"name\",\n",
    "    y=\"NMAD\",\n",
    "    color=\"DEM\",\n",
    "    barmode=\"group\",\n",
    "    text=\"NMAD\",\n",
    "    title=\" NMAD для кожного DEM у кожному класі землекористування\",\n",
    "    labels={\"name\": \"Клас LULC\", \"NMAD\": \"NMAD (м)\", \"DEM\": \"DEM\"}\n",
    ")\n",
    "\n",
    "# 🔧 Додаткове форматування\n",
    "fig.update_traces(texttemplate='%{text:.2f}', textposition='outside')\n",
    "fig.update_layout(\n",
    "    xaxis_tickangle=-45,\n",
    "    uniformtext_minsize=8,\n",
    "    uniformtext_mode='hide'\n",
    ")\n",
    "\n",
    "fig.show()\n"
   ],
   "id": "4231ac2eb61edfcf",
   "outputs": [
    {
     "data": {
      "application/vnd.plotly.v1+json": {
       "data": [
        {
         "alignmentgroup": "True",
         "hovertemplate": "DEM=ALOS<br>Клас LULC=%{x}<br>NMAD (м)=%{text}<extra></extra>",
         "legendgroup": "ALOS",
         "marker": {
          "color": "#636efa",
          "pattern": {
           "shape": ""
          }
         },
         "name": "ALOS",
         "offsetgroup": "ALOS",
         "orientation": "v",
         "showlegend": true,
         "text": {
          "dtype": "f8",
          "bdata": "qDbiPDnoBEBa/YAyniEqQEhQsLbBXgpAh4gqQ/lsCkA0jGQycuQSQA=="
         },
         "textposition": "outside",
         "x": [
          "Water",
          "Trees",
          "Crops",
          "Built Area",
          "Rangeland"
         ],
         "xaxis": "x",
         "y": {
          "dtype": "f8",
          "bdata": "qDbiPDnoBEBa/YAyniEqQEhQsLbBXgpAh4gqQ/lsCkA0jGQycuQSQA=="
         },
         "yaxis": "y",
         "type": "bar",
         "texttemplate": "%{text:.2f}"
        },
        {
         "alignmentgroup": "True",
         "hovertemplate": "DEM=ASTER<br>Клас LULC=%{x}<br>NMAD (м)=%{text}<extra></extra>",
         "legendgroup": "ASTER",
         "marker": {
          "color": "#EF553B",
          "pattern": {
           "shape": ""
          }
         },
         "name": "ASTER",
         "offsetgroup": "ASTER",
         "orientation": "v",
         "showlegend": true,
         "text": {
          "dtype": "f8",
          "bdata": "oIqKPLQYGkCUyGD5l7InQGCArzUptxpA8CdgnrHSFkCl5sp3IAkgQA=="
         },
         "textposition": "outside",
         "x": [
          "Water",
          "Trees",
          "Crops",
          "Built Area",
          "Rangeland"
         ],
         "xaxis": "x",
         "y": {
          "dtype": "f8",
          "bdata": "oIqKPLQYGkCUyGD5l7InQGCArzUptxpA8CdgnrHSFkCl5sp3IAkgQA=="
         },
         "yaxis": "y",
         "type": "bar",
         "texttemplate": "%{text:.2f}"
        },
        {
         "alignmentgroup": "True",
         "hovertemplate": "DEM=COP<br>Клас LULC=%{x}<br>NMAD (м)=%{text}<extra></extra>",
         "legendgroup": "COP",
         "marker": {
          "color": "#00cc96",
          "pattern": {
           "shape": ""
          }
         },
         "name": "COP",
         "offsetgroup": "COP",
         "orientation": "v",
         "showlegend": true,
         "text": {
          "dtype": "f8",
          "bdata": "QYLH/nj9AkAY3ObV1JYqQPBwkfdcRwNA3vz7375zBEDOYKGDD7wPQA=="
         },
         "textposition": "outside",
         "x": [
          "Water",
          "Trees",
          "Crops",
          "Built Area",
          "Rangeland"
         ],
         "xaxis": "x",
         "y": {
          "dtype": "f8",
          "bdata": "QYLH/nj9AkAY3ObV1JYqQPBwkfdcRwNA3vz7375zBEDOYKGDD7wPQA=="
         },
         "yaxis": "y",
         "type": "bar",
         "texttemplate": "%{text:.2f}"
        },
        {
         "alignmentgroup": "True",
         "hovertemplate": "DEM=FAB<br>Клас LULC=%{x}<br>NMAD (м)=%{text}<extra></extra>",
         "legendgroup": "FAB",
         "marker": {
          "color": "#ab63fa",
          "pattern": {
           "shape": ""
          }
         },
         "name": "FAB",
         "offsetgroup": "FAB",
         "orientation": "v",
         "showlegend": true,
         "text": {
          "dtype": "f8",
          "bdata": "o9ExjjUBBECo/0sbKa8YQIyGAcmwQQBAfeMEZ6l9AkD1dpKKeFoKQA=="
         },
         "textposition": "outside",
         "x": [
          "Water",
          "Trees",
          "Crops",
          "Built Area",
          "Rangeland"
         ],
         "xaxis": "x",
         "y": {
          "dtype": "f8",
          "bdata": "o9ExjjUBBECo/0sbKa8YQIyGAcmwQQBAfeMEZ6l9AkD1dpKKeFoKQA=="
         },
         "yaxis": "y",
         "type": "bar",
         "texttemplate": "%{text:.2f}"
        },
        {
         "alignmentgroup": "True",
         "hovertemplate": "DEM=NASA<br>Клас LULC=%{x}<br>NMAD (м)=%{text}<extra></extra>",
         "legendgroup": "NASA",
         "marker": {
          "color": "#FFA15A",
          "pattern": {
           "shape": ""
          }
         },
         "name": "NASA",
         "offsetgroup": "NASA",
         "orientation": "v",
         "showlegend": true,
         "text": {
          "dtype": "f8",
          "bdata": "5g6KD10LFUDbOdB/LrElQMEURYILIxBAl/PH8KxDE0C7xcpOGBYYQA=="
         },
         "textposition": "outside",
         "x": [
          "Water",
          "Trees",
          "Crops",
          "Built Area",
          "Rangeland"
         ],
         "xaxis": "x",
         "y": {
          "dtype": "f8",
          "bdata": "5g6KD10LFUDbOdB/LrElQMEURYILIxBAl/PH8KxDE0C7xcpOGBYYQA=="
         },
         "yaxis": "y",
         "type": "bar",
         "texttemplate": "%{text:.2f}"
        },
        {
         "alignmentgroup": "True",
         "hovertemplate": "DEM=SRTM<br>Клас LULC=%{x}<br>NMAD (м)=%{text}<extra></extra>",
         "legendgroup": "SRTM",
         "marker": {
          "color": "#19d3f3",
          "pattern": {
           "shape": ""
          }
         },
         "name": "SRTM",
         "offsetgroup": "SRTM",
         "orientation": "v",
         "showlegend": true,
         "text": {
          "dtype": "f8",
          "bdata": "wCjDIxJoEEBaRGKhinMeQJOTkkWZ2QdAHobgkB7jC0Bo9IL5giUTQA=="
         },
         "textposition": "outside",
         "x": [
          "Water",
          "Trees",
          "Crops",
          "Built Area",
          "Rangeland"
         ],
         "xaxis": "x",
         "y": {
          "dtype": "f8",
          "bdata": "wCjDIxJoEEBaRGKhinMeQJOTkkWZ2QdAHobgkB7jC0Bo9IL5giUTQA=="
         },
         "yaxis": "y",
         "type": "bar",
         "texttemplate": "%{text:.2f}"
        },
        {
         "alignmentgroup": "True",
         "hovertemplate": "DEM=TAN<br>Клас LULC=%{x}<br>NMAD (м)=%{text}<extra></extra>",
         "legendgroup": "TAN",
         "marker": {
          "color": "#FF6692",
          "pattern": {
           "shape": ""
          }
         },
         "name": "TAN",
         "offsetgroup": "TAN",
         "orientation": "v",
         "showlegend": true,
         "text": {
          "dtype": "f8",
          "bdata": "BLZeKBv5BUBUdQwH0IwqQHOjiz6yDANAvcgnZbMIBEBORa0/M4kPQA=="
         },
         "textposition": "outside",
         "x": [
          "Water",
          "Trees",
          "Crops",
          "Built Area",
          "Rangeland"
         ],
         "xaxis": "x",
         "y": {
          "dtype": "f8",
          "bdata": "BLZeKBv5BUBUdQwH0IwqQHOjiz6yDANAvcgnZbMIBEBORa0/M4kPQA=="
         },
         "yaxis": "y",
         "type": "bar",
         "texttemplate": "%{text:.2f}"
        }
       ],
       "layout": {
        "template": {
         "data": {
          "histogram2dcontour": [
           {
            "type": "histogram2dcontour",
            "colorbar": {
             "outlinewidth": 0,
             "ticks": ""
            },
            "colorscale": [
             [
              0.0,
              "#0d0887"
             ],
             [
              0.1111111111111111,
              "#46039f"
             ],
             [
              0.2222222222222222,
              "#7201a8"
             ],
             [
              0.3333333333333333,
              "#9c179e"
             ],
             [
              0.4444444444444444,
              "#bd3786"
             ],
             [
              0.5555555555555556,
              "#d8576b"
             ],
             [
              0.6666666666666666,
              "#ed7953"
             ],
             [
              0.7777777777777778,
              "#fb9f3a"
             ],
             [
              0.8888888888888888,
              "#fdca26"
             ],
             [
              1.0,
              "#f0f921"
             ]
            ]
           }
          ],
          "choropleth": [
           {
            "type": "choropleth",
            "colorbar": {
             "outlinewidth": 0,
             "ticks": ""
            }
           }
          ],
          "histogram2d": [
           {
            "type": "histogram2d",
            "colorbar": {
             "outlinewidth": 0,
             "ticks": ""
            },
            "colorscale": [
             [
              0.0,
              "#0d0887"
             ],
             [
              0.1111111111111111,
              "#46039f"
             ],
             [
              0.2222222222222222,
              "#7201a8"
             ],
             [
              0.3333333333333333,
              "#9c179e"
             ],
             [
              0.4444444444444444,
              "#bd3786"
             ],
             [
              0.5555555555555556,
              "#d8576b"
             ],
             [
              0.6666666666666666,
              "#ed7953"
             ],
             [
              0.7777777777777778,
              "#fb9f3a"
             ],
             [
              0.8888888888888888,
              "#fdca26"
             ],
             [
              1.0,
              "#f0f921"
             ]
            ]
           }
          ],
          "heatmap": [
           {
            "type": "heatmap",
            "colorbar": {
             "outlinewidth": 0,
             "ticks": ""
            },
            "colorscale": [
             [
              0.0,
              "#0d0887"
             ],
             [
              0.1111111111111111,
              "#46039f"
             ],
             [
              0.2222222222222222,
              "#7201a8"
             ],
             [
              0.3333333333333333,
              "#9c179e"
             ],
             [
              0.4444444444444444,
              "#bd3786"
             ],
             [
              0.5555555555555556,
              "#d8576b"
             ],
             [
              0.6666666666666666,
              "#ed7953"
             ],
             [
              0.7777777777777778,
              "#fb9f3a"
             ],
             [
              0.8888888888888888,
              "#fdca26"
             ],
             [
              1.0,
              "#f0f921"
             ]
            ]
           }
          ],
          "contourcarpet": [
           {
            "type": "contourcarpet",
            "colorbar": {
             "outlinewidth": 0,
             "ticks": ""
            }
           }
          ],
          "contour": [
           {
            "type": "contour",
            "colorbar": {
             "outlinewidth": 0,
             "ticks": ""
            },
            "colorscale": [
             [
              0.0,
              "#0d0887"
             ],
             [
              0.1111111111111111,
              "#46039f"
             ],
             [
              0.2222222222222222,
              "#7201a8"
             ],
             [
              0.3333333333333333,
              "#9c179e"
             ],
             [
              0.4444444444444444,
              "#bd3786"
             ],
             [
              0.5555555555555556,
              "#d8576b"
             ],
             [
              0.6666666666666666,
              "#ed7953"
             ],
             [
              0.7777777777777778,
              "#fb9f3a"
             ],
             [
              0.8888888888888888,
              "#fdca26"
             ],
             [
              1.0,
              "#f0f921"
             ]
            ]
           }
          ],
          "surface": [
           {
            "type": "surface",
            "colorbar": {
             "outlinewidth": 0,
             "ticks": ""
            },
            "colorscale": [
             [
              0.0,
              "#0d0887"
             ],
             [
              0.1111111111111111,
              "#46039f"
             ],
             [
              0.2222222222222222,
              "#7201a8"
             ],
             [
              0.3333333333333333,
              "#9c179e"
             ],
             [
              0.4444444444444444,
              "#bd3786"
             ],
             [
              0.5555555555555556,
              "#d8576b"
             ],
             [
              0.6666666666666666,
              "#ed7953"
             ],
             [
              0.7777777777777778,
              "#fb9f3a"
             ],
             [
              0.8888888888888888,
              "#fdca26"
             ],
             [
              1.0,
              "#f0f921"
             ]
            ]
           }
          ],
          "mesh3d": [
           {
            "type": "mesh3d",
            "colorbar": {
             "outlinewidth": 0,
             "ticks": ""
            }
           }
          ],
          "scatter": [
           {
            "marker": {
             "line": {
              "color": "#283442"
             }
            },
            "type": "scatter"
           }
          ],
          "parcoords": [
           {
            "type": "parcoords",
            "line": {
             "colorbar": {
              "outlinewidth": 0,
              "ticks": ""
             }
            }
           }
          ],
          "scatterpolargl": [
           {
            "type": "scatterpolargl",
            "marker": {
             "colorbar": {
              "outlinewidth": 0,
              "ticks": ""
             }
            }
           }
          ],
          "bar": [
           {
            "error_x": {
             "color": "#f2f5fa"
            },
            "error_y": {
             "color": "#f2f5fa"
            },
            "marker": {
             "line": {
              "color": "rgb(17,17,17)",
              "width": 0.5
             },
             "pattern": {
              "fillmode": "overlay",
              "size": 10,
              "solidity": 0.2
             }
            },
            "type": "bar"
           }
          ],
          "scattergeo": [
           {
            "type": "scattergeo",
            "marker": {
             "colorbar": {
              "outlinewidth": 0,
              "ticks": ""
             }
            }
           }
          ],
          "scatterpolar": [
           {
            "type": "scatterpolar",
            "marker": {
             "colorbar": {
              "outlinewidth": 0,
              "ticks": ""
             }
            }
           }
          ],
          "histogram": [
           {
            "marker": {
             "pattern": {
              "fillmode": "overlay",
              "size": 10,
              "solidity": 0.2
             }
            },
            "type": "histogram"
           }
          ],
          "scattergl": [
           {
            "marker": {
             "line": {
              "color": "#283442"
             }
            },
            "type": "scattergl"
           }
          ],
          "scatter3d": [
           {
            "type": "scatter3d",
            "line": {
             "colorbar": {
              "outlinewidth": 0,
              "ticks": ""
             }
            },
            "marker": {
             "colorbar": {
              "outlinewidth": 0,
              "ticks": ""
             }
            }
           }
          ],
          "scattermap": [
           {
            "type": "scattermap",
            "marker": {
             "colorbar": {
              "outlinewidth": 0,
              "ticks": ""
             }
            }
           }
          ],
          "scattermapbox": [
           {
            "type": "scattermapbox",
            "marker": {
             "colorbar": {
              "outlinewidth": 0,
              "ticks": ""
             }
            }
           }
          ],
          "scatterternary": [
           {
            "type": "scatterternary",
            "marker": {
             "colorbar": {
              "outlinewidth": 0,
              "ticks": ""
             }
            }
           }
          ],
          "scattercarpet": [
           {
            "type": "scattercarpet",
            "marker": {
             "colorbar": {
              "outlinewidth": 0,
              "ticks": ""
             }
            }
           }
          ],
          "carpet": [
           {
            "aaxis": {
             "endlinecolor": "#A2B1C6",
             "gridcolor": "#506784",
             "linecolor": "#506784",
             "minorgridcolor": "#506784",
             "startlinecolor": "#A2B1C6"
            },
            "baxis": {
             "endlinecolor": "#A2B1C6",
             "gridcolor": "#506784",
             "linecolor": "#506784",
             "minorgridcolor": "#506784",
             "startlinecolor": "#A2B1C6"
            },
            "type": "carpet"
           }
          ],
          "table": [
           {
            "cells": {
             "fill": {
              "color": "#506784"
             },
             "line": {
              "color": "rgb(17,17,17)"
             }
            },
            "header": {
             "fill": {
              "color": "#2a3f5f"
             },
             "line": {
              "color": "rgb(17,17,17)"
             }
            },
            "type": "table"
           }
          ],
          "barpolar": [
           {
            "marker": {
             "line": {
              "color": "rgb(17,17,17)",
              "width": 0.5
             },
             "pattern": {
              "fillmode": "overlay",
              "size": 10,
              "solidity": 0.2
             }
            },
            "type": "barpolar"
           }
          ],
          "pie": [
           {
            "automargin": true,
            "type": "pie"
           }
          ]
         },
         "layout": {
          "autotypenumbers": "strict",
          "colorway": [
           "#636efa",
           "#EF553B",
           "#00cc96",
           "#ab63fa",
           "#FFA15A",
           "#19d3f3",
           "#FF6692",
           "#B6E880",
           "#FF97FF",
           "#FECB52"
          ],
          "font": {
           "color": "#f2f5fa"
          },
          "hovermode": "closest",
          "hoverlabel": {
           "align": "left"
          },
          "paper_bgcolor": "rgb(17,17,17)",
          "plot_bgcolor": "rgb(17,17,17)",
          "polar": {
           "bgcolor": "rgb(17,17,17)",
           "angularaxis": {
            "gridcolor": "#506784",
            "linecolor": "#506784",
            "ticks": ""
           },
           "radialaxis": {
            "gridcolor": "#506784",
            "linecolor": "#506784",
            "ticks": ""
           }
          },
          "ternary": {
           "bgcolor": "rgb(17,17,17)",
           "aaxis": {
            "gridcolor": "#506784",
            "linecolor": "#506784",
            "ticks": ""
           },
           "baxis": {
            "gridcolor": "#506784",
            "linecolor": "#506784",
            "ticks": ""
           },
           "caxis": {
            "gridcolor": "#506784",
            "linecolor": "#506784",
            "ticks": ""
           }
          },
          "coloraxis": {
           "colorbar": {
            "outlinewidth": 0,
            "ticks": ""
           }
          },
          "colorscale": {
           "sequential": [
            [
             0.0,
             "#0d0887"
            ],
            [
             0.1111111111111111,
             "#46039f"
            ],
            [
             0.2222222222222222,
             "#7201a8"
            ],
            [
             0.3333333333333333,
             "#9c179e"
            ],
            [
             0.4444444444444444,
             "#bd3786"
            ],
            [
             0.5555555555555556,
             "#d8576b"
            ],
            [
             0.6666666666666666,
             "#ed7953"
            ],
            [
             0.7777777777777778,
             "#fb9f3a"
            ],
            [
             0.8888888888888888,
             "#fdca26"
            ],
            [
             1.0,
             "#f0f921"
            ]
           ],
           "sequentialminus": [
            [
             0.0,
             "#0d0887"
            ],
            [
             0.1111111111111111,
             "#46039f"
            ],
            [
             0.2222222222222222,
             "#7201a8"
            ],
            [
             0.3333333333333333,
             "#9c179e"
            ],
            [
             0.4444444444444444,
             "#bd3786"
            ],
            [
             0.5555555555555556,
             "#d8576b"
            ],
            [
             0.6666666666666666,
             "#ed7953"
            ],
            [
             0.7777777777777778,
             "#fb9f3a"
            ],
            [
             0.8888888888888888,
             "#fdca26"
            ],
            [
             1.0,
             "#f0f921"
            ]
           ],
           "diverging": [
            [
             0,
             "#8e0152"
            ],
            [
             0.1,
             "#c51b7d"
            ],
            [
             0.2,
             "#de77ae"
            ],
            [
             0.3,
             "#f1b6da"
            ],
            [
             0.4,
             "#fde0ef"
            ],
            [
             0.5,
             "#f7f7f7"
            ],
            [
             0.6,
             "#e6f5d0"
            ],
            [
             0.7,
             "#b8e186"
            ],
            [
             0.8,
             "#7fbc41"
            ],
            [
             0.9,
             "#4d9221"
            ],
            [
             1,
             "#276419"
            ]
           ]
          },
          "xaxis": {
           "gridcolor": "#283442",
           "linecolor": "#506784",
           "ticks": "",
           "title": {
            "standoff": 15
           },
           "zerolinecolor": "#283442",
           "automargin": true,
           "zerolinewidth": 2
          },
          "yaxis": {
           "gridcolor": "#283442",
           "linecolor": "#506784",
           "ticks": "",
           "title": {
            "standoff": 15
           },
           "zerolinecolor": "#283442",
           "automargin": true,
           "zerolinewidth": 2
          },
          "scene": {
           "xaxis": {
            "backgroundcolor": "rgb(17,17,17)",
            "gridcolor": "#506784",
            "linecolor": "#506784",
            "showbackground": true,
            "ticks": "",
            "zerolinecolor": "#C8D4E3",
            "gridwidth": 2
           },
           "yaxis": {
            "backgroundcolor": "rgb(17,17,17)",
            "gridcolor": "#506784",
            "linecolor": "#506784",
            "showbackground": true,
            "ticks": "",
            "zerolinecolor": "#C8D4E3",
            "gridwidth": 2
           },
           "zaxis": {
            "backgroundcolor": "rgb(17,17,17)",
            "gridcolor": "#506784",
            "linecolor": "#506784",
            "showbackground": true,
            "ticks": "",
            "zerolinecolor": "#C8D4E3",
            "gridwidth": 2
           }
          },
          "shapedefaults": {
           "line": {
            "color": "#f2f5fa"
           }
          },
          "annotationdefaults": {
           "arrowcolor": "#f2f5fa",
           "arrowhead": 0,
           "arrowwidth": 1
          },
          "geo": {
           "bgcolor": "rgb(17,17,17)",
           "landcolor": "rgb(17,17,17)",
           "subunitcolor": "#506784",
           "showland": true,
           "showlakes": true,
           "lakecolor": "rgb(17,17,17)"
          },
          "title": {
           "x": 0.05
          },
          "updatemenudefaults": {
           "bgcolor": "#506784",
           "borderwidth": 0
          },
          "sliderdefaults": {
           "bgcolor": "#C8D4E3",
           "borderwidth": 1,
           "bordercolor": "rgb(17,17,17)",
           "tickwidth": 0
          },
          "mapbox": {
           "style": "dark"
          }
         }
        },
        "xaxis": {
         "anchor": "y",
         "domain": [
          0.0,
          1.0
         ],
         "title": {
          "text": "Клас LULC"
         },
         "tickangle": -45
        },
        "yaxis": {
         "anchor": "x",
         "domain": [
          0.0,
          1.0
         ],
         "title": {
          "text": "NMAD (м)"
         }
        },
        "legend": {
         "title": {
          "text": "DEM"
         },
         "tracegroupgap": 0
        },
        "title": {
         "text": " NMAD для кожного DEM у кожному класі землекористування"
        },
        "barmode": "group",
        "uniformtext": {
         "minsize": 8,
         "mode": "hide"
        }
       },
       "config": {
        "plotlyServerURL": "https://plot.ly"
       }
      }
     },
     "metadata": {},
     "output_type": "display_data"
    }
   ],
   "execution_count": 38
  },
  {
   "metadata": {
    "ExecuteTime": {
     "end_time": "2025-07-11T12:52:04.694529Z",
     "start_time": "2025-07-11T12:52:04.667450Z"
    }
   },
   "cell_type": "code",
   "source": [
    "import pandas as pd\n",
    "df[\"fab_dem_slope\"] = pd.to_numeric(df[\"fab_dem_slope\"], errors=\"coerce\")\n",
    "\n",
    "# Межі класів у градусах\n",
    "slope_bins = [0, 5, 10, 15, 20, 25, 30, float(\"inf\")]\n",
    "slope_labels = [\"0–5°\", \"5–10°\", \"10–15°\", \"15–20°\", \"20–25°\", \"25–30°\", \">30°\"]\n",
    "\n",
    "# Створення нової колонки з класом схилу\n",
    "df[\"slope_class\"] = pd.cut(\n",
    "    df[\"fab_dem_slope\"],  # або інший DEM\n",
    "    bins=slope_bins,\n",
    "    labels=slope_labels,\n",
    "    right=False  # межі включаються зліва: [ )\n",
    ")\n"
   ],
   "id": "eb2e226e574232ab",
   "outputs": [],
   "execution_count": 18
  },
  {
   "metadata": {
    "ExecuteTime": {
     "end_time": "2025-07-11T12:53:13.551070Z",
     "start_time": "2025-07-11T12:53:13.541490Z"
    }
   },
   "cell_type": "code",
   "source": [
    "df[\"slope_class\"].value_counts().sort_index()\n",
    "print(df[\"slope_class\"])\n"
   ],
   "id": "cb0c318492c617ad",
   "outputs": [
    {
     "name": "stdout",
     "output_type": "stream",
     "text": [
      "0          10–15°\n",
      "1          10–15°\n",
      "2          10–15°\n",
      "3          10–15°\n",
      "4          10–15°\n",
      "            ...  \n",
      "2022802    10–15°\n",
      "2022803    10–15°\n",
      "2022804    10–15°\n",
      "2022805    10–15°\n",
      "2022806    10–15°\n",
      "Name: slope_class, Length: 2022807, dtype: category\n",
      "Categories (7, object): ['0–5°' < '5–10°' < '10–15°' < '15–20°' < '20–25°' < '25–30°' < '>30°']\n"
     ]
    }
   ],
   "execution_count": 24
  },
  {
   "metadata": {
    "ExecuteTime": {
     "end_time": "2025-07-11T12:55:27.791544Z",
     "start_time": "2025-07-11T12:55:27.685682Z"
    }
   },
   "cell_type": "code",
   "source": [
    "# Колонки NMAD\n",
    "nmad_cols = [col for col in df.columns if col.startswith(\"nmad_\")]\n",
    "\n",
    "# Групування\n",
    "agg_by_slope = df.groupby(\"slope_class\", observed=True)[nmad_cols].median().reset_index()\n",
    "\n",
    "# Визначення найкращої DEM для кожного класу (мінімальний NMAD)\n",
    "agg_by_slope[\"best_dem\"] = agg_by_slope[nmad_cols].idxmin(axis=1)\n",
    "agg_by_slope[\"best_nmad\"] = agg_by_slope[nmad_cols].min(axis=1)\n",
    "\n"
   ],
   "id": "5bf02a34b499aea8",
   "outputs": [],
   "execution_count": 27
  },
  {
   "metadata": {
    "ExecuteTime": {
     "end_time": "2025-07-11T12:55:29.254530Z",
     "start_time": "2025-07-11T12:55:29.237607Z"
    }
   },
   "cell_type": "code",
   "source": [
    "import plotly.express as px\n",
    "\n",
    "fig = px.bar(\n",
    "    agg_by_slope,\n",
    "    x=\"slope_class\",\n",
    "    y=\"best_nmad\",\n",
    "    color=\"best_dem\",\n",
    "    title=\"DEM з найменшою помилкою (NMAD) для кожного класу схилу\"\n",
    ")\n",
    "fig.show()\n",
    "\n"
   ],
   "id": "6d35c71d17db2958",
   "outputs": [
    {
     "data": {
      "application/vnd.plotly.v1+json": {
       "data": [
        {
         "hovertemplate": "best_dem=nmad_fab<br>slope_class=%{x}<br>best_nmad=%{y}<extra></extra>",
         "legendgroup": "nmad_fab",
         "marker": {
          "color": "#636efa",
          "pattern": {
           "shape": ""
          }
         },
         "name": "nmad_fab",
         "orientation": "v",
         "showlegend": true,
         "textposition": "auto",
         "x": [
          "0–5°",
          "5–10°",
          "10–15°",
          "15–20°",
          "20–25°",
          "25–30°",
          ">30°"
         ],
         "xaxis": "x",
         "y": {
          "dtype": "f8",
          "bdata": "aSAvWgYuBEB2Ke3DTBMCQEwOg/nLFgFAqkxHpUl2A0C4ToBhUR4JQMn0GOUFUhhAsOM3YG5OIUA="
         },
         "yaxis": "y",
         "type": "bar"
        }
       ],
       "layout": {
        "template": {
         "data": {
          "histogram2dcontour": [
           {
            "type": "histogram2dcontour",
            "colorbar": {
             "outlinewidth": 0,
             "ticks": ""
            },
            "colorscale": [
             [
              0.0,
              "#0d0887"
             ],
             [
              0.1111111111111111,
              "#46039f"
             ],
             [
              0.2222222222222222,
              "#7201a8"
             ],
             [
              0.3333333333333333,
              "#9c179e"
             ],
             [
              0.4444444444444444,
              "#bd3786"
             ],
             [
              0.5555555555555556,
              "#d8576b"
             ],
             [
              0.6666666666666666,
              "#ed7953"
             ],
             [
              0.7777777777777778,
              "#fb9f3a"
             ],
             [
              0.8888888888888888,
              "#fdca26"
             ],
             [
              1.0,
              "#f0f921"
             ]
            ]
           }
          ],
          "choropleth": [
           {
            "type": "choropleth",
            "colorbar": {
             "outlinewidth": 0,
             "ticks": ""
            }
           }
          ],
          "histogram2d": [
           {
            "type": "histogram2d",
            "colorbar": {
             "outlinewidth": 0,
             "ticks": ""
            },
            "colorscale": [
             [
              0.0,
              "#0d0887"
             ],
             [
              0.1111111111111111,
              "#46039f"
             ],
             [
              0.2222222222222222,
              "#7201a8"
             ],
             [
              0.3333333333333333,
              "#9c179e"
             ],
             [
              0.4444444444444444,
              "#bd3786"
             ],
             [
              0.5555555555555556,
              "#d8576b"
             ],
             [
              0.6666666666666666,
              "#ed7953"
             ],
             [
              0.7777777777777778,
              "#fb9f3a"
             ],
             [
              0.8888888888888888,
              "#fdca26"
             ],
             [
              1.0,
              "#f0f921"
             ]
            ]
           }
          ],
          "heatmap": [
           {
            "type": "heatmap",
            "colorbar": {
             "outlinewidth": 0,
             "ticks": ""
            },
            "colorscale": [
             [
              0.0,
              "#0d0887"
             ],
             [
              0.1111111111111111,
              "#46039f"
             ],
             [
              0.2222222222222222,
              "#7201a8"
             ],
             [
              0.3333333333333333,
              "#9c179e"
             ],
             [
              0.4444444444444444,
              "#bd3786"
             ],
             [
              0.5555555555555556,
              "#d8576b"
             ],
             [
              0.6666666666666666,
              "#ed7953"
             ],
             [
              0.7777777777777778,
              "#fb9f3a"
             ],
             [
              0.8888888888888888,
              "#fdca26"
             ],
             [
              1.0,
              "#f0f921"
             ]
            ]
           }
          ],
          "contourcarpet": [
           {
            "type": "contourcarpet",
            "colorbar": {
             "outlinewidth": 0,
             "ticks": ""
            }
           }
          ],
          "contour": [
           {
            "type": "contour",
            "colorbar": {
             "outlinewidth": 0,
             "ticks": ""
            },
            "colorscale": [
             [
              0.0,
              "#0d0887"
             ],
             [
              0.1111111111111111,
              "#46039f"
             ],
             [
              0.2222222222222222,
              "#7201a8"
             ],
             [
              0.3333333333333333,
              "#9c179e"
             ],
             [
              0.4444444444444444,
              "#bd3786"
             ],
             [
              0.5555555555555556,
              "#d8576b"
             ],
             [
              0.6666666666666666,
              "#ed7953"
             ],
             [
              0.7777777777777778,
              "#fb9f3a"
             ],
             [
              0.8888888888888888,
              "#fdca26"
             ],
             [
              1.0,
              "#f0f921"
             ]
            ]
           }
          ],
          "surface": [
           {
            "type": "surface",
            "colorbar": {
             "outlinewidth": 0,
             "ticks": ""
            },
            "colorscale": [
             [
              0.0,
              "#0d0887"
             ],
             [
              0.1111111111111111,
              "#46039f"
             ],
             [
              0.2222222222222222,
              "#7201a8"
             ],
             [
              0.3333333333333333,
              "#9c179e"
             ],
             [
              0.4444444444444444,
              "#bd3786"
             ],
             [
              0.5555555555555556,
              "#d8576b"
             ],
             [
              0.6666666666666666,
              "#ed7953"
             ],
             [
              0.7777777777777778,
              "#fb9f3a"
             ],
             [
              0.8888888888888888,
              "#fdca26"
             ],
             [
              1.0,
              "#f0f921"
             ]
            ]
           }
          ],
          "mesh3d": [
           {
            "type": "mesh3d",
            "colorbar": {
             "outlinewidth": 0,
             "ticks": ""
            }
           }
          ],
          "scatter": [
           {
            "marker": {
             "line": {
              "color": "#283442"
             }
            },
            "type": "scatter"
           }
          ],
          "parcoords": [
           {
            "type": "parcoords",
            "line": {
             "colorbar": {
              "outlinewidth": 0,
              "ticks": ""
             }
            }
           }
          ],
          "scatterpolargl": [
           {
            "type": "scatterpolargl",
            "marker": {
             "colorbar": {
              "outlinewidth": 0,
              "ticks": ""
             }
            }
           }
          ],
          "bar": [
           {
            "error_x": {
             "color": "#f2f5fa"
            },
            "error_y": {
             "color": "#f2f5fa"
            },
            "marker": {
             "line": {
              "color": "rgb(17,17,17)",
              "width": 0.5
             },
             "pattern": {
              "fillmode": "overlay",
              "size": 10,
              "solidity": 0.2
             }
            },
            "type": "bar"
           }
          ],
          "scattergeo": [
           {
            "type": "scattergeo",
            "marker": {
             "colorbar": {
              "outlinewidth": 0,
              "ticks": ""
             }
            }
           }
          ],
          "scatterpolar": [
           {
            "type": "scatterpolar",
            "marker": {
             "colorbar": {
              "outlinewidth": 0,
              "ticks": ""
             }
            }
           }
          ],
          "histogram": [
           {
            "marker": {
             "pattern": {
              "fillmode": "overlay",
              "size": 10,
              "solidity": 0.2
             }
            },
            "type": "histogram"
           }
          ],
          "scattergl": [
           {
            "marker": {
             "line": {
              "color": "#283442"
             }
            },
            "type": "scattergl"
           }
          ],
          "scatter3d": [
           {
            "type": "scatter3d",
            "line": {
             "colorbar": {
              "outlinewidth": 0,
              "ticks": ""
             }
            },
            "marker": {
             "colorbar": {
              "outlinewidth": 0,
              "ticks": ""
             }
            }
           }
          ],
          "scattermap": [
           {
            "type": "scattermap",
            "marker": {
             "colorbar": {
              "outlinewidth": 0,
              "ticks": ""
             }
            }
           }
          ],
          "scattermapbox": [
           {
            "type": "scattermapbox",
            "marker": {
             "colorbar": {
              "outlinewidth": 0,
              "ticks": ""
             }
            }
           }
          ],
          "scatterternary": [
           {
            "type": "scatterternary",
            "marker": {
             "colorbar": {
              "outlinewidth": 0,
              "ticks": ""
             }
            }
           }
          ],
          "scattercarpet": [
           {
            "type": "scattercarpet",
            "marker": {
             "colorbar": {
              "outlinewidth": 0,
              "ticks": ""
             }
            }
           }
          ],
          "carpet": [
           {
            "aaxis": {
             "endlinecolor": "#A2B1C6",
             "gridcolor": "#506784",
             "linecolor": "#506784",
             "minorgridcolor": "#506784",
             "startlinecolor": "#A2B1C6"
            },
            "baxis": {
             "endlinecolor": "#A2B1C6",
             "gridcolor": "#506784",
             "linecolor": "#506784",
             "minorgridcolor": "#506784",
             "startlinecolor": "#A2B1C6"
            },
            "type": "carpet"
           }
          ],
          "table": [
           {
            "cells": {
             "fill": {
              "color": "#506784"
             },
             "line": {
              "color": "rgb(17,17,17)"
             }
            },
            "header": {
             "fill": {
              "color": "#2a3f5f"
             },
             "line": {
              "color": "rgb(17,17,17)"
             }
            },
            "type": "table"
           }
          ],
          "barpolar": [
           {
            "marker": {
             "line": {
              "color": "rgb(17,17,17)",
              "width": 0.5
             },
             "pattern": {
              "fillmode": "overlay",
              "size": 10,
              "solidity": 0.2
             }
            },
            "type": "barpolar"
           }
          ],
          "pie": [
           {
            "automargin": true,
            "type": "pie"
           }
          ]
         },
         "layout": {
          "autotypenumbers": "strict",
          "colorway": [
           "#636efa",
           "#EF553B",
           "#00cc96",
           "#ab63fa",
           "#FFA15A",
           "#19d3f3",
           "#FF6692",
           "#B6E880",
           "#FF97FF",
           "#FECB52"
          ],
          "font": {
           "color": "#f2f5fa"
          },
          "hovermode": "closest",
          "hoverlabel": {
           "align": "left"
          },
          "paper_bgcolor": "rgb(17,17,17)",
          "plot_bgcolor": "rgb(17,17,17)",
          "polar": {
           "bgcolor": "rgb(17,17,17)",
           "angularaxis": {
            "gridcolor": "#506784",
            "linecolor": "#506784",
            "ticks": ""
           },
           "radialaxis": {
            "gridcolor": "#506784",
            "linecolor": "#506784",
            "ticks": ""
           }
          },
          "ternary": {
           "bgcolor": "rgb(17,17,17)",
           "aaxis": {
            "gridcolor": "#506784",
            "linecolor": "#506784",
            "ticks": ""
           },
           "baxis": {
            "gridcolor": "#506784",
            "linecolor": "#506784",
            "ticks": ""
           },
           "caxis": {
            "gridcolor": "#506784",
            "linecolor": "#506784",
            "ticks": ""
           }
          },
          "coloraxis": {
           "colorbar": {
            "outlinewidth": 0,
            "ticks": ""
           }
          },
          "colorscale": {
           "sequential": [
            [
             0.0,
             "#0d0887"
            ],
            [
             0.1111111111111111,
             "#46039f"
            ],
            [
             0.2222222222222222,
             "#7201a8"
            ],
            [
             0.3333333333333333,
             "#9c179e"
            ],
            [
             0.4444444444444444,
             "#bd3786"
            ],
            [
             0.5555555555555556,
             "#d8576b"
            ],
            [
             0.6666666666666666,
             "#ed7953"
            ],
            [
             0.7777777777777778,
             "#fb9f3a"
            ],
            [
             0.8888888888888888,
             "#fdca26"
            ],
            [
             1.0,
             "#f0f921"
            ]
           ],
           "sequentialminus": [
            [
             0.0,
             "#0d0887"
            ],
            [
             0.1111111111111111,
             "#46039f"
            ],
            [
             0.2222222222222222,
             "#7201a8"
            ],
            [
             0.3333333333333333,
             "#9c179e"
            ],
            [
             0.4444444444444444,
             "#bd3786"
            ],
            [
             0.5555555555555556,
             "#d8576b"
            ],
            [
             0.6666666666666666,
             "#ed7953"
            ],
            [
             0.7777777777777778,
             "#fb9f3a"
            ],
            [
             0.8888888888888888,
             "#fdca26"
            ],
            [
             1.0,
             "#f0f921"
            ]
           ],
           "diverging": [
            [
             0,
             "#8e0152"
            ],
            [
             0.1,
             "#c51b7d"
            ],
            [
             0.2,
             "#de77ae"
            ],
            [
             0.3,
             "#f1b6da"
            ],
            [
             0.4,
             "#fde0ef"
            ],
            [
             0.5,
             "#f7f7f7"
            ],
            [
             0.6,
             "#e6f5d0"
            ],
            [
             0.7,
             "#b8e186"
            ],
            [
             0.8,
             "#7fbc41"
            ],
            [
             0.9,
             "#4d9221"
            ],
            [
             1,
             "#276419"
            ]
           ]
          },
          "xaxis": {
           "gridcolor": "#283442",
           "linecolor": "#506784",
           "ticks": "",
           "title": {
            "standoff": 15
           },
           "zerolinecolor": "#283442",
           "automargin": true,
           "zerolinewidth": 2
          },
          "yaxis": {
           "gridcolor": "#283442",
           "linecolor": "#506784",
           "ticks": "",
           "title": {
            "standoff": 15
           },
           "zerolinecolor": "#283442",
           "automargin": true,
           "zerolinewidth": 2
          },
          "scene": {
           "xaxis": {
            "backgroundcolor": "rgb(17,17,17)",
            "gridcolor": "#506784",
            "linecolor": "#506784",
            "showbackground": true,
            "ticks": "",
            "zerolinecolor": "#C8D4E3",
            "gridwidth": 2
           },
           "yaxis": {
            "backgroundcolor": "rgb(17,17,17)",
            "gridcolor": "#506784",
            "linecolor": "#506784",
            "showbackground": true,
            "ticks": "",
            "zerolinecolor": "#C8D4E3",
            "gridwidth": 2
           },
           "zaxis": {
            "backgroundcolor": "rgb(17,17,17)",
            "gridcolor": "#506784",
            "linecolor": "#506784",
            "showbackground": true,
            "ticks": "",
            "zerolinecolor": "#C8D4E3",
            "gridwidth": 2
           }
          },
          "shapedefaults": {
           "line": {
            "color": "#f2f5fa"
           }
          },
          "annotationdefaults": {
           "arrowcolor": "#f2f5fa",
           "arrowhead": 0,
           "arrowwidth": 1
          },
          "geo": {
           "bgcolor": "rgb(17,17,17)",
           "landcolor": "rgb(17,17,17)",
           "subunitcolor": "#506784",
           "showland": true,
           "showlakes": true,
           "lakecolor": "rgb(17,17,17)"
          },
          "title": {
           "x": 0.05
          },
          "updatemenudefaults": {
           "bgcolor": "#506784",
           "borderwidth": 0
          },
          "sliderdefaults": {
           "bgcolor": "#C8D4E3",
           "borderwidth": 1,
           "bordercolor": "rgb(17,17,17)",
           "tickwidth": 0
          },
          "mapbox": {
           "style": "dark"
          }
         }
        },
        "xaxis": {
         "anchor": "y",
         "domain": [
          0.0,
          1.0
         ],
         "title": {
          "text": "slope_class"
         }
        },
        "yaxis": {
         "anchor": "x",
         "domain": [
          0.0,
          1.0
         ],
         "title": {
          "text": "best_nmad"
         }
        },
        "legend": {
         "title": {
          "text": "best_dem"
         },
         "tracegroupgap": 0
        },
        "title": {
         "text": "DEM з найменшою помилкою (NMAD) для кожного класу схилу"
        },
        "barmode": "relative"
       },
       "config": {
        "plotlyServerURL": "https://plot.ly"
       }
      }
     },
     "metadata": {},
     "output_type": "display_data"
    }
   ],
   "execution_count": 28
  },
  {
   "metadata": {
    "ExecuteTime": {
     "end_time": "2025-07-11T13:38:05.315579Z",
     "start_time": "2025-07-11T13:38:05.098990Z"
    }
   },
   "cell_type": "code",
   "source": [
    "import pandas as pd\n",
    "import plotly.express as px\n",
    "\n",
    "# Якщо ще не зроблено:\n",
    "df[\"fab_dem_slope\"] = pd.to_numeric(df[\"fab_dem_slope\"], errors=\"coerce\")\n",
    "\n",
    "# Класи схилів\n",
    "slope_bins = [0, 5, 10, 15, 20, 25, 30, float(\"inf\")]\n",
    "slope_labels = [\"0–5°\", \"5–10°\", \"10–15°\", \"15–20°\", \"20–25°\", \"25–30°\", \">30°\"]\n",
    "df[\"slope_class\"] = pd.cut(df[\"fab_dem_slope\"], bins=slope_bins, labels=slope_labels, right=False)\n",
    "\n",
    "# Колонки NMAD\n",
    "nmad_cols = [col for col in df.columns if col.startswith(\"nmad_\")]\n",
    "\n",
    "# Групування: медіани по кожному класу схилу\n",
    "agg_by_slope = df.groupby(\"slope_class\", observed=True)[nmad_cols].median().reset_index()\n",
    "\n",
    "# Перетворення в long format\n",
    "df_slope_long = agg_by_slope.melt(\n",
    "    id_vars=\"slope_class\",\n",
    "    value_vars=nmad_cols,\n",
    "    var_name=\"DEM\",\n",
    "    value_name=\"NMAD\"\n",
    ")\n",
    "\n",
    "# Форматування назв DEM\n",
    "df_slope_long[\"DEM\"] = df_slope_long[\"DEM\"].str.replace(\"nmad_\", \"\").str.upper()\n",
    "\n",
    "# Побудова графіка\n",
    "fig = px.bar(\n",
    "    df_slope_long,\n",
    "    x=\"slope_class\",\n",
    "    y=\"NMAD\",\n",
    "    color=\"DEM\",\n",
    "    barmode=\"group\",\n",
    "    text=\"NMAD\",\n",
    "    title=\"NMAD для кожного DEM по класах схилу\",\n",
    "    labels={\"slope_class\": \"Клас схилу\", \"NMAD\": \"NMAD (м)\", \"DEM\": \"DEM\"}\n",
    ")\n",
    "\n",
    "# Покращення вигляду\n",
    "fig.update_traces(texttemplate='%{text:.2f}', textposition='outside')\n",
    "fig.update_layout(uniformtext_minsize=8, uniformtext_mode='hide')\n",
    "\n",
    "fig.show()\n"
   ],
   "id": "def752198d2ab859",
   "outputs": [
    {
     "data": {
      "application/vnd.plotly.v1+json": {
       "data": [
        {
         "alignmentgroup": "True",
         "hovertemplate": "DEM=ALOS<br>Клас схилу=%{x}<br>NMAD (м)=%{text}<extra></extra>",
         "legendgroup": "ALOS",
         "marker": {
          "color": "#636efa",
          "pattern": {
           "shape": ""
          }
         },
         "name": "ALOS",
         "offsetgroup": "ALOS",
         "orientation": "v",
         "showlegend": true,
         "text": {
          "dtype": "f8",
          "bdata": "w+XtvgmcDEBvoFEVLtMOQIp4ZKzuhg1AEjZN6RhVEECrTM4/sIEVQNlgc2n7EixAItKRN26oMUA="
         },
         "textposition": "outside",
         "x": [
          "0–5°",
          "5–10°",
          "10–15°",
          "15–20°",
          "20–25°",
          "25–30°",
          ">30°"
         ],
         "xaxis": "x",
         "y": {
          "dtype": "f8",
          "bdata": "w+XtvgmcDEBvoFEVLtMOQIp4ZKzuhg1AEjZN6RhVEECrTM4/sIEVQNlgc2n7EixAItKRN26oMUA="
         },
         "yaxis": "y",
         "type": "bar",
         "texttemplate": "%{text:.2f}"
        },
        {
         "alignmentgroup": "True",
         "hovertemplate": "DEM=ASTER<br>Клас схилу=%{x}<br>NMAD (м)=%{text}<extra></extra>",
         "legendgroup": "ASTER",
         "marker": {
          "color": "#EF553B",
          "pattern": {
           "shape": ""
          }
         },
         "name": "ASTER",
         "offsetgroup": "ASTER",
         "orientation": "v",
         "showlegend": true,
         "text": {
          "dtype": "f8",
          "bdata": "sXTYM57oFUACL0UDFpMZQBeLgFSeHxtAWXXs+50BHECftmPqvDkhQMyvV1jchiRAC7DSk9FHKEA="
         },
         "textposition": "outside",
         "x": [
          "0–5°",
          "5–10°",
          "10–15°",
          "15–20°",
          "20–25°",
          "25–30°",
          ">30°"
         ],
         "xaxis": "x",
         "y": {
          "dtype": "f8",
          "bdata": "sXTYM57oFUACL0UDFpMZQBeLgFSeHxtAWXXs+50BHECftmPqvDkhQMyvV1jchiRAC7DSk9FHKEA="
         },
         "yaxis": "y",
         "type": "bar",
         "texttemplate": "%{text:.2f}"
        },
        {
         "alignmentgroup": "True",
         "hovertemplate": "DEM=COP<br>Клас схилу=%{x}<br>NMAD (м)=%{text}<extra></extra>",
         "legendgroup": "COP",
         "marker": {
          "color": "#00cc96",
          "pattern": {
           "shape": ""
          }
         },
         "name": "COP",
         "offsetgroup": "COP",
         "orientation": "v",
         "showlegend": true,
         "text": {
          "dtype": "f8",
          "bdata": "ESR6YxiSB0CXYXNpcToIQP6ZTvxaIgdA3yDxhgkyCUATsYEZ5woWQCITvSeFEjBAIgJ0aZq4M0A="
         },
         "textposition": "outside",
         "x": [
          "0–5°",
          "5–10°",
          "10–15°",
          "15–20°",
          "20–25°",
          "25–30°",
          ">30°"
         ],
         "xaxis": "x",
         "y": {
          "dtype": "f8",
          "bdata": "ESR6YxiSB0CXYXNpcToIQP6ZTvxaIgdA3yDxhgkyCUATsYEZ5woWQCITvSeFEjBAIgJ0aZq4M0A="
         },
         "yaxis": "y",
         "type": "bar",
         "texttemplate": "%{text:.2f}"
        },
        {
         "alignmentgroup": "True",
         "hovertemplate": "DEM=FAB<br>Клас схилу=%{x}<br>NMAD (м)=%{text}<extra></extra>",
         "legendgroup": "FAB",
         "marker": {
          "color": "#ab63fa",
          "pattern": {
           "shape": ""
          }
         },
         "name": "FAB",
         "offsetgroup": "FAB",
         "orientation": "v",
         "showlegend": true,
         "text": {
          "dtype": "f8",
          "bdata": "aSAvWgYuBEB2Ke3DTBMCQEwOg/nLFgFAqkxHpUl2A0C4ToBhUR4JQMn0GOUFUhhAsOM3YG5OIUA="
         },
         "textposition": "outside",
         "x": [
          "0–5°",
          "5–10°",
          "10–15°",
          "15–20°",
          "20–25°",
          "25–30°",
          ">30°"
         ],
         "xaxis": "x",
         "y": {
          "dtype": "f8",
          "bdata": "aSAvWgYuBEB2Ke3DTBMCQEwOg/nLFgFAqkxHpUl2A0C4ToBhUR4JQMn0GOUFUhhAsOM3YG5OIUA="
         },
         "yaxis": "y",
         "type": "bar",
         "texttemplate": "%{text:.2f}"
        },
        {
         "alignmentgroup": "True",
         "hovertemplate": "DEM=NASA<br>Клас схилу=%{x}<br>NMAD (м)=%{text}<extra></extra>",
         "legendgroup": "NASA",
         "marker": {
          "color": "#FFA15A",
          "pattern": {
           "shape": ""
          }
         },
         "name": "NASA",
         "offsetgroup": "NASA",
         "orientation": "v",
         "showlegend": true,
         "text": {
          "dtype": "f8",
          "bdata": "5W5A8GiaFED10DKcc2ITQOGX7mSQRBRASUt0lj9dFUALkOivM8QbQKZssqHRZSlA3bUqrqZMMkA="
         },
         "textposition": "outside",
         "x": [
          "0–5°",
          "5–10°",
          "10–15°",
          "15–20°",
          "20–25°",
          "25–30°",
          ">30°"
         ],
         "xaxis": "x",
         "y": {
          "dtype": "f8",
          "bdata": "5W5A8GiaFED10DKcc2ITQOGX7mSQRBRASUt0lj9dFUALkOivM8QbQKZssqHRZSlA3bUqrqZMMkA="
         },
         "yaxis": "y",
         "type": "bar",
         "texttemplate": "%{text:.2f}"
        },
        {
         "alignmentgroup": "True",
         "hovertemplate": "DEM=SRTM<br>Клас схилу=%{x}<br>NMAD (м)=%{text}<extra></extra>",
         "legendgroup": "SRTM",
         "marker": {
          "color": "#19d3f3",
          "pattern": {
           "shape": ""
          }
         },
         "name": "SRTM",
         "offsetgroup": "SRTM",
         "orientation": "v",
         "showlegend": true,
         "text": {
          "dtype": "f8",
          "bdata": "L6caYvmoCkBhXc4Rrr4LQMzWlvCcOQ5A347/AtmoEUBgryvB73wWQG8b64ezmR1AGDrLLNl/KEA="
         },
         "textposition": "outside",
         "x": [
          "0–5°",
          "5–10°",
          "10–15°",
          "15–20°",
          "20–25°",
          "25–30°",
          ">30°"
         ],
         "xaxis": "x",
         "y": {
          "dtype": "f8",
          "bdata": "L6caYvmoCkBhXc4Rrr4LQMzWlvCcOQ5A347/AtmoEUBgryvB73wWQG8b64ezmR1AGDrLLNl/KEA="
         },
         "yaxis": "y",
         "type": "bar",
         "texttemplate": "%{text:.2f}"
        },
        {
         "alignmentgroup": "True",
         "hovertemplate": "DEM=TAN<br>Клас схилу=%{x}<br>NMAD (м)=%{text}<extra></extra>",
         "legendgroup": "TAN",
         "marker": {
          "color": "#FF6692",
          "pattern": {
           "shape": ""
          }
         },
         "name": "TAN",
         "offsetgroup": "TAN",
         "orientation": "v",
         "showlegend": true,
         "text": {
          "dtype": "f8",
          "bdata": "PQ760tdPB0A4GDTjPPUHQErhD+R55AZAJlmHSM7xCEAIZjxbI9YVQCyLqjp/GjBAGIctoikVNEA="
         },
         "textposition": "outside",
         "x": [
          "0–5°",
          "5–10°",
          "10–15°",
          "15–20°",
          "20–25°",
          "25–30°",
          ">30°"
         ],
         "xaxis": "x",
         "y": {
          "dtype": "f8",
          "bdata": "PQ760tdPB0A4GDTjPPUHQErhD+R55AZAJlmHSM7xCEAIZjxbI9YVQCyLqjp/GjBAGIctoikVNEA="
         },
         "yaxis": "y",
         "type": "bar",
         "texttemplate": "%{text:.2f}"
        }
       ],
       "layout": {
        "template": {
         "data": {
          "histogram2dcontour": [
           {
            "type": "histogram2dcontour",
            "colorbar": {
             "outlinewidth": 0,
             "ticks": ""
            },
            "colorscale": [
             [
              0.0,
              "#0d0887"
             ],
             [
              0.1111111111111111,
              "#46039f"
             ],
             [
              0.2222222222222222,
              "#7201a8"
             ],
             [
              0.3333333333333333,
              "#9c179e"
             ],
             [
              0.4444444444444444,
              "#bd3786"
             ],
             [
              0.5555555555555556,
              "#d8576b"
             ],
             [
              0.6666666666666666,
              "#ed7953"
             ],
             [
              0.7777777777777778,
              "#fb9f3a"
             ],
             [
              0.8888888888888888,
              "#fdca26"
             ],
             [
              1.0,
              "#f0f921"
             ]
            ]
           }
          ],
          "choropleth": [
           {
            "type": "choropleth",
            "colorbar": {
             "outlinewidth": 0,
             "ticks": ""
            }
           }
          ],
          "histogram2d": [
           {
            "type": "histogram2d",
            "colorbar": {
             "outlinewidth": 0,
             "ticks": ""
            },
            "colorscale": [
             [
              0.0,
              "#0d0887"
             ],
             [
              0.1111111111111111,
              "#46039f"
             ],
             [
              0.2222222222222222,
              "#7201a8"
             ],
             [
              0.3333333333333333,
              "#9c179e"
             ],
             [
              0.4444444444444444,
              "#bd3786"
             ],
             [
              0.5555555555555556,
              "#d8576b"
             ],
             [
              0.6666666666666666,
              "#ed7953"
             ],
             [
              0.7777777777777778,
              "#fb9f3a"
             ],
             [
              0.8888888888888888,
              "#fdca26"
             ],
             [
              1.0,
              "#f0f921"
             ]
            ]
           }
          ],
          "heatmap": [
           {
            "type": "heatmap",
            "colorbar": {
             "outlinewidth": 0,
             "ticks": ""
            },
            "colorscale": [
             [
              0.0,
              "#0d0887"
             ],
             [
              0.1111111111111111,
              "#46039f"
             ],
             [
              0.2222222222222222,
              "#7201a8"
             ],
             [
              0.3333333333333333,
              "#9c179e"
             ],
             [
              0.4444444444444444,
              "#bd3786"
             ],
             [
              0.5555555555555556,
              "#d8576b"
             ],
             [
              0.6666666666666666,
              "#ed7953"
             ],
             [
              0.7777777777777778,
              "#fb9f3a"
             ],
             [
              0.8888888888888888,
              "#fdca26"
             ],
             [
              1.0,
              "#f0f921"
             ]
            ]
           }
          ],
          "contourcarpet": [
           {
            "type": "contourcarpet",
            "colorbar": {
             "outlinewidth": 0,
             "ticks": ""
            }
           }
          ],
          "contour": [
           {
            "type": "contour",
            "colorbar": {
             "outlinewidth": 0,
             "ticks": ""
            },
            "colorscale": [
             [
              0.0,
              "#0d0887"
             ],
             [
              0.1111111111111111,
              "#46039f"
             ],
             [
              0.2222222222222222,
              "#7201a8"
             ],
             [
              0.3333333333333333,
              "#9c179e"
             ],
             [
              0.4444444444444444,
              "#bd3786"
             ],
             [
              0.5555555555555556,
              "#d8576b"
             ],
             [
              0.6666666666666666,
              "#ed7953"
             ],
             [
              0.7777777777777778,
              "#fb9f3a"
             ],
             [
              0.8888888888888888,
              "#fdca26"
             ],
             [
              1.0,
              "#f0f921"
             ]
            ]
           }
          ],
          "surface": [
           {
            "type": "surface",
            "colorbar": {
             "outlinewidth": 0,
             "ticks": ""
            },
            "colorscale": [
             [
              0.0,
              "#0d0887"
             ],
             [
              0.1111111111111111,
              "#46039f"
             ],
             [
              0.2222222222222222,
              "#7201a8"
             ],
             [
              0.3333333333333333,
              "#9c179e"
             ],
             [
              0.4444444444444444,
              "#bd3786"
             ],
             [
              0.5555555555555556,
              "#d8576b"
             ],
             [
              0.6666666666666666,
              "#ed7953"
             ],
             [
              0.7777777777777778,
              "#fb9f3a"
             ],
             [
              0.8888888888888888,
              "#fdca26"
             ],
             [
              1.0,
              "#f0f921"
             ]
            ]
           }
          ],
          "mesh3d": [
           {
            "type": "mesh3d",
            "colorbar": {
             "outlinewidth": 0,
             "ticks": ""
            }
           }
          ],
          "scatter": [
           {
            "marker": {
             "line": {
              "color": "#283442"
             }
            },
            "type": "scatter"
           }
          ],
          "parcoords": [
           {
            "type": "parcoords",
            "line": {
             "colorbar": {
              "outlinewidth": 0,
              "ticks": ""
             }
            }
           }
          ],
          "scatterpolargl": [
           {
            "type": "scatterpolargl",
            "marker": {
             "colorbar": {
              "outlinewidth": 0,
              "ticks": ""
             }
            }
           }
          ],
          "bar": [
           {
            "error_x": {
             "color": "#f2f5fa"
            },
            "error_y": {
             "color": "#f2f5fa"
            },
            "marker": {
             "line": {
              "color": "rgb(17,17,17)",
              "width": 0.5
             },
             "pattern": {
              "fillmode": "overlay",
              "size": 10,
              "solidity": 0.2
             }
            },
            "type": "bar"
           }
          ],
          "scattergeo": [
           {
            "type": "scattergeo",
            "marker": {
             "colorbar": {
              "outlinewidth": 0,
              "ticks": ""
             }
            }
           }
          ],
          "scatterpolar": [
           {
            "type": "scatterpolar",
            "marker": {
             "colorbar": {
              "outlinewidth": 0,
              "ticks": ""
             }
            }
           }
          ],
          "histogram": [
           {
            "marker": {
             "pattern": {
              "fillmode": "overlay",
              "size": 10,
              "solidity": 0.2
             }
            },
            "type": "histogram"
           }
          ],
          "scattergl": [
           {
            "marker": {
             "line": {
              "color": "#283442"
             }
            },
            "type": "scattergl"
           }
          ],
          "scatter3d": [
           {
            "type": "scatter3d",
            "line": {
             "colorbar": {
              "outlinewidth": 0,
              "ticks": ""
             }
            },
            "marker": {
             "colorbar": {
              "outlinewidth": 0,
              "ticks": ""
             }
            }
           }
          ],
          "scattermap": [
           {
            "type": "scattermap",
            "marker": {
             "colorbar": {
              "outlinewidth": 0,
              "ticks": ""
             }
            }
           }
          ],
          "scattermapbox": [
           {
            "type": "scattermapbox",
            "marker": {
             "colorbar": {
              "outlinewidth": 0,
              "ticks": ""
             }
            }
           }
          ],
          "scatterternary": [
           {
            "type": "scatterternary",
            "marker": {
             "colorbar": {
              "outlinewidth": 0,
              "ticks": ""
             }
            }
           }
          ],
          "scattercarpet": [
           {
            "type": "scattercarpet",
            "marker": {
             "colorbar": {
              "outlinewidth": 0,
              "ticks": ""
             }
            }
           }
          ],
          "carpet": [
           {
            "aaxis": {
             "endlinecolor": "#A2B1C6",
             "gridcolor": "#506784",
             "linecolor": "#506784",
             "minorgridcolor": "#506784",
             "startlinecolor": "#A2B1C6"
            },
            "baxis": {
             "endlinecolor": "#A2B1C6",
             "gridcolor": "#506784",
             "linecolor": "#506784",
             "minorgridcolor": "#506784",
             "startlinecolor": "#A2B1C6"
            },
            "type": "carpet"
           }
          ],
          "table": [
           {
            "cells": {
             "fill": {
              "color": "#506784"
             },
             "line": {
              "color": "rgb(17,17,17)"
             }
            },
            "header": {
             "fill": {
              "color": "#2a3f5f"
             },
             "line": {
              "color": "rgb(17,17,17)"
             }
            },
            "type": "table"
           }
          ],
          "barpolar": [
           {
            "marker": {
             "line": {
              "color": "rgb(17,17,17)",
              "width": 0.5
             },
             "pattern": {
              "fillmode": "overlay",
              "size": 10,
              "solidity": 0.2
             }
            },
            "type": "barpolar"
           }
          ],
          "pie": [
           {
            "automargin": true,
            "type": "pie"
           }
          ]
         },
         "layout": {
          "autotypenumbers": "strict",
          "colorway": [
           "#636efa",
           "#EF553B",
           "#00cc96",
           "#ab63fa",
           "#FFA15A",
           "#19d3f3",
           "#FF6692",
           "#B6E880",
           "#FF97FF",
           "#FECB52"
          ],
          "font": {
           "color": "#f2f5fa"
          },
          "hovermode": "closest",
          "hoverlabel": {
           "align": "left"
          },
          "paper_bgcolor": "rgb(17,17,17)",
          "plot_bgcolor": "rgb(17,17,17)",
          "polar": {
           "bgcolor": "rgb(17,17,17)",
           "angularaxis": {
            "gridcolor": "#506784",
            "linecolor": "#506784",
            "ticks": ""
           },
           "radialaxis": {
            "gridcolor": "#506784",
            "linecolor": "#506784",
            "ticks": ""
           }
          },
          "ternary": {
           "bgcolor": "rgb(17,17,17)",
           "aaxis": {
            "gridcolor": "#506784",
            "linecolor": "#506784",
            "ticks": ""
           },
           "baxis": {
            "gridcolor": "#506784",
            "linecolor": "#506784",
            "ticks": ""
           },
           "caxis": {
            "gridcolor": "#506784",
            "linecolor": "#506784",
            "ticks": ""
           }
          },
          "coloraxis": {
           "colorbar": {
            "outlinewidth": 0,
            "ticks": ""
           }
          },
          "colorscale": {
           "sequential": [
            [
             0.0,
             "#0d0887"
            ],
            [
             0.1111111111111111,
             "#46039f"
            ],
            [
             0.2222222222222222,
             "#7201a8"
            ],
            [
             0.3333333333333333,
             "#9c179e"
            ],
            [
             0.4444444444444444,
             "#bd3786"
            ],
            [
             0.5555555555555556,
             "#d8576b"
            ],
            [
             0.6666666666666666,
             "#ed7953"
            ],
            [
             0.7777777777777778,
             "#fb9f3a"
            ],
            [
             0.8888888888888888,
             "#fdca26"
            ],
            [
             1.0,
             "#f0f921"
            ]
           ],
           "sequentialminus": [
            [
             0.0,
             "#0d0887"
            ],
            [
             0.1111111111111111,
             "#46039f"
            ],
            [
             0.2222222222222222,
             "#7201a8"
            ],
            [
             0.3333333333333333,
             "#9c179e"
            ],
            [
             0.4444444444444444,
             "#bd3786"
            ],
            [
             0.5555555555555556,
             "#d8576b"
            ],
            [
             0.6666666666666666,
             "#ed7953"
            ],
            [
             0.7777777777777778,
             "#fb9f3a"
            ],
            [
             0.8888888888888888,
             "#fdca26"
            ],
            [
             1.0,
             "#f0f921"
            ]
           ],
           "diverging": [
            [
             0,
             "#8e0152"
            ],
            [
             0.1,
             "#c51b7d"
            ],
            [
             0.2,
             "#de77ae"
            ],
            [
             0.3,
             "#f1b6da"
            ],
            [
             0.4,
             "#fde0ef"
            ],
            [
             0.5,
             "#f7f7f7"
            ],
            [
             0.6,
             "#e6f5d0"
            ],
            [
             0.7,
             "#b8e186"
            ],
            [
             0.8,
             "#7fbc41"
            ],
            [
             0.9,
             "#4d9221"
            ],
            [
             1,
             "#276419"
            ]
           ]
          },
          "xaxis": {
           "gridcolor": "#283442",
           "linecolor": "#506784",
           "ticks": "",
           "title": {
            "standoff": 15
           },
           "zerolinecolor": "#283442",
           "automargin": true,
           "zerolinewidth": 2
          },
          "yaxis": {
           "gridcolor": "#283442",
           "linecolor": "#506784",
           "ticks": "",
           "title": {
            "standoff": 15
           },
           "zerolinecolor": "#283442",
           "automargin": true,
           "zerolinewidth": 2
          },
          "scene": {
           "xaxis": {
            "backgroundcolor": "rgb(17,17,17)",
            "gridcolor": "#506784",
            "linecolor": "#506784",
            "showbackground": true,
            "ticks": "",
            "zerolinecolor": "#C8D4E3",
            "gridwidth": 2
           },
           "yaxis": {
            "backgroundcolor": "rgb(17,17,17)",
            "gridcolor": "#506784",
            "linecolor": "#506784",
            "showbackground": true,
            "ticks": "",
            "zerolinecolor": "#C8D4E3",
            "gridwidth": 2
           },
           "zaxis": {
            "backgroundcolor": "rgb(17,17,17)",
            "gridcolor": "#506784",
            "linecolor": "#506784",
            "showbackground": true,
            "ticks": "",
            "zerolinecolor": "#C8D4E3",
            "gridwidth": 2
           }
          },
          "shapedefaults": {
           "line": {
            "color": "#f2f5fa"
           }
          },
          "annotationdefaults": {
           "arrowcolor": "#f2f5fa",
           "arrowhead": 0,
           "arrowwidth": 1
          },
          "geo": {
           "bgcolor": "rgb(17,17,17)",
           "landcolor": "rgb(17,17,17)",
           "subunitcolor": "#506784",
           "showland": true,
           "showlakes": true,
           "lakecolor": "rgb(17,17,17)"
          },
          "title": {
           "x": 0.05
          },
          "updatemenudefaults": {
           "bgcolor": "#506784",
           "borderwidth": 0
          },
          "sliderdefaults": {
           "bgcolor": "#C8D4E3",
           "borderwidth": 1,
           "bordercolor": "rgb(17,17,17)",
           "tickwidth": 0
          },
          "mapbox": {
           "style": "dark"
          }
         }
        },
        "xaxis": {
         "anchor": "y",
         "domain": [
          0.0,
          1.0
         ],
         "title": {
          "text": "Клас схилу"
         }
        },
        "yaxis": {
         "anchor": "x",
         "domain": [
          0.0,
          1.0
         ],
         "title": {
          "text": "NMAD (м)"
         }
        },
        "legend": {
         "title": {
          "text": "DEM"
         },
         "tracegroupgap": 0
        },
        "title": {
         "text": "NMAD для кожного DEM по класах схилу"
        },
        "barmode": "group",
        "uniformtext": {
         "minsize": 8,
         "mode": "hide"
        }
       },
       "config": {
        "plotlyServerURL": "https://plot.ly"
       }
      }
     },
     "metadata": {},
     "output_type": "display_data"
    }
   ],
   "execution_count": 33
  },
  {
   "metadata": {
    "ExecuteTime": {
     "end_time": "2025-07-11T13:31:54.403650Z",
     "start_time": "2025-07-11T13:31:54.051747Z"
    }
   },
   "cell_type": "code",
   "source": [
    "nmad_cols = [\n",
    "    \"nmad_alos\", \"nmad_aster\", \"nmad_cop\",\n",
    "    \"nmad_fab\", \"nmad_nasa\", \"nmad_srtm\", \"nmad_tan\"\n",
    "]\n",
    "\n",
    "agg_by_geomorphon = df.groupby(\"fab_dem_geomorphon\", observed=True)[nmad_cols].median().reset_index()\n",
    "\n",
    "# Знаходимо найкращий DEM (мінімальний NMAD) для кожного геоморфону\n",
    "agg_by_geomorphon[\"best_dem\"] = agg_by_geomorphon[nmad_cols].idxmin(axis=1)\n",
    "agg_by_geomorphon[\"best_nmad\"] = agg_by_geomorphon[nmad_cols].min(axis=1)\n",
    "\n"
   ],
   "id": "a9ecb7b0367bf05c",
   "outputs": [],
   "execution_count": 29
  },
  {
   "metadata": {
    "ExecuteTime": {
     "end_time": "2025-07-11T13:34:00.927732Z",
     "start_time": "2025-07-11T13:34:00.924794Z"
    }
   },
   "cell_type": "code",
   "source": [
    "landform_names = {\n",
    "    1: \"Flat\",\n",
    "    2: \"Peak\",\n",
    "    3: \"Ridge\",\n",
    "    4: \"Shoulder\",\n",
    "    5: \"Spur\",\n",
    "    6: \"Slope\",\n",
    "    7: \"Hollow\",\n",
    "    8: \"Footslope\",\n",
    "    9: \"Valley\",\n",
    "    10: \"Pit\"\n",
    "}"
   ],
   "id": "a1b1bfc753631c5f",
   "outputs": [],
   "execution_count": 30
  },
  {
   "metadata": {
    "ExecuteTime": {
     "end_time": "2025-07-11T13:34:07.330096Z",
     "start_time": "2025-07-11T13:34:07.284260Z"
    }
   },
   "cell_type": "code",
   "source": [
    "import plotly.express as px\n",
    "\n",
    "# Додаємо назву геоморфону\n",
    "agg_by_geomorphon[\"landform\"] = agg_by_geomorphon[\"fab_dem_geomorphon\"].map(landform_names)\n",
    "\n",
    "# Сортуємо за порядком геоморфону (опційно)\n",
    "agg_by_geomorphon = agg_by_geomorphon.sort_values(\"fab_dem_geomorphon\")\n",
    "\n",
    "# Створюємо графік\n",
    "fig = px.bar(\n",
    "    agg_by_geomorphon,\n",
    "    x=\"landform\",\n",
    "    y=\"best_nmad\",\n",
    "    color=\"best_dem\",\n",
    "    text=\"best_nmad\",\n",
    "    title=\"Найкращий DEM (мінімальний NMAD) для кожного типу геоморфону\",\n",
    "    labels={\"best_nmad\": \"NMAD (м)\", \"landform\": \"Геоморфон\"}\n",
    ")\n",
    "\n",
    "# Додаткові налаштування\n",
    "fig.update_traces(texttemplate='%{text:.2f}', textposition='outside')\n",
    "fig.update_layout(uniformtext_minsize=8, uniformtext_mode='hide')\n",
    "\n",
    "fig.show()\n"
   ],
   "id": "5976b97a28086701",
   "outputs": [
    {
     "data": {
      "application/vnd.plotly.v1+json": {
       "data": [
        {
         "hovertemplate": "best_dem=nmad_fab<br>Геоморфон=%{x}<br>NMAD (м)=%{text}<extra></extra>",
         "legendgroup": "nmad_fab",
         "marker": {
          "color": "#636efa",
          "pattern": {
           "shape": ""
          }
         },
         "name": "nmad_fab",
         "orientation": "v",
         "showlegend": true,
         "text": {
          "dtype": "f8",
          "bdata": "zBX4LyX1AUBK0jmazMkBQItvHj30U/w/ioBtDkGeA0A6Ev6gh6YEQAGJNaZjowZAggCOPQUKAUCqkU/Z4h4HQER7HSdDkgJA"
         },
         "textposition": "outside",
         "x": [
          "Peak",
          "Ridge",
          "Shoulder",
          "Spur",
          "Slope",
          "Hollow",
          "Footslope",
          "Valley",
          "Pit"
         ],
         "xaxis": "x",
         "y": {
          "dtype": "f8",
          "bdata": "zBX4LyX1AUBK0jmazMkBQItvHj30U/w/ioBtDkGeA0A6Ev6gh6YEQAGJNaZjowZAggCOPQUKAUCqkU/Z4h4HQER7HSdDkgJA"
         },
         "yaxis": "y",
         "type": "bar",
         "texttemplate": "%{text:.2f}"
        }
       ],
       "layout": {
        "template": {
         "data": {
          "histogram2dcontour": [
           {
            "type": "histogram2dcontour",
            "colorbar": {
             "outlinewidth": 0,
             "ticks": ""
            },
            "colorscale": [
             [
              0.0,
              "#0d0887"
             ],
             [
              0.1111111111111111,
              "#46039f"
             ],
             [
              0.2222222222222222,
              "#7201a8"
             ],
             [
              0.3333333333333333,
              "#9c179e"
             ],
             [
              0.4444444444444444,
              "#bd3786"
             ],
             [
              0.5555555555555556,
              "#d8576b"
             ],
             [
              0.6666666666666666,
              "#ed7953"
             ],
             [
              0.7777777777777778,
              "#fb9f3a"
             ],
             [
              0.8888888888888888,
              "#fdca26"
             ],
             [
              1.0,
              "#f0f921"
             ]
            ]
           }
          ],
          "choropleth": [
           {
            "type": "choropleth",
            "colorbar": {
             "outlinewidth": 0,
             "ticks": ""
            }
           }
          ],
          "histogram2d": [
           {
            "type": "histogram2d",
            "colorbar": {
             "outlinewidth": 0,
             "ticks": ""
            },
            "colorscale": [
             [
              0.0,
              "#0d0887"
             ],
             [
              0.1111111111111111,
              "#46039f"
             ],
             [
              0.2222222222222222,
              "#7201a8"
             ],
             [
              0.3333333333333333,
              "#9c179e"
             ],
             [
              0.4444444444444444,
              "#bd3786"
             ],
             [
              0.5555555555555556,
              "#d8576b"
             ],
             [
              0.6666666666666666,
              "#ed7953"
             ],
             [
              0.7777777777777778,
              "#fb9f3a"
             ],
             [
              0.8888888888888888,
              "#fdca26"
             ],
             [
              1.0,
              "#f0f921"
             ]
            ]
           }
          ],
          "heatmap": [
           {
            "type": "heatmap",
            "colorbar": {
             "outlinewidth": 0,
             "ticks": ""
            },
            "colorscale": [
             [
              0.0,
              "#0d0887"
             ],
             [
              0.1111111111111111,
              "#46039f"
             ],
             [
              0.2222222222222222,
              "#7201a8"
             ],
             [
              0.3333333333333333,
              "#9c179e"
             ],
             [
              0.4444444444444444,
              "#bd3786"
             ],
             [
              0.5555555555555556,
              "#d8576b"
             ],
             [
              0.6666666666666666,
              "#ed7953"
             ],
             [
              0.7777777777777778,
              "#fb9f3a"
             ],
             [
              0.8888888888888888,
              "#fdca26"
             ],
             [
              1.0,
              "#f0f921"
             ]
            ]
           }
          ],
          "contourcarpet": [
           {
            "type": "contourcarpet",
            "colorbar": {
             "outlinewidth": 0,
             "ticks": ""
            }
           }
          ],
          "contour": [
           {
            "type": "contour",
            "colorbar": {
             "outlinewidth": 0,
             "ticks": ""
            },
            "colorscale": [
             [
              0.0,
              "#0d0887"
             ],
             [
              0.1111111111111111,
              "#46039f"
             ],
             [
              0.2222222222222222,
              "#7201a8"
             ],
             [
              0.3333333333333333,
              "#9c179e"
             ],
             [
              0.4444444444444444,
              "#bd3786"
             ],
             [
              0.5555555555555556,
              "#d8576b"
             ],
             [
              0.6666666666666666,
              "#ed7953"
             ],
             [
              0.7777777777777778,
              "#fb9f3a"
             ],
             [
              0.8888888888888888,
              "#fdca26"
             ],
             [
              1.0,
              "#f0f921"
             ]
            ]
           }
          ],
          "surface": [
           {
            "type": "surface",
            "colorbar": {
             "outlinewidth": 0,
             "ticks": ""
            },
            "colorscale": [
             [
              0.0,
              "#0d0887"
             ],
             [
              0.1111111111111111,
              "#46039f"
             ],
             [
              0.2222222222222222,
              "#7201a8"
             ],
             [
              0.3333333333333333,
              "#9c179e"
             ],
             [
              0.4444444444444444,
              "#bd3786"
             ],
             [
              0.5555555555555556,
              "#d8576b"
             ],
             [
              0.6666666666666666,
              "#ed7953"
             ],
             [
              0.7777777777777778,
              "#fb9f3a"
             ],
             [
              0.8888888888888888,
              "#fdca26"
             ],
             [
              1.0,
              "#f0f921"
             ]
            ]
           }
          ],
          "mesh3d": [
           {
            "type": "mesh3d",
            "colorbar": {
             "outlinewidth": 0,
             "ticks": ""
            }
           }
          ],
          "scatter": [
           {
            "marker": {
             "line": {
              "color": "#283442"
             }
            },
            "type": "scatter"
           }
          ],
          "parcoords": [
           {
            "type": "parcoords",
            "line": {
             "colorbar": {
              "outlinewidth": 0,
              "ticks": ""
             }
            }
           }
          ],
          "scatterpolargl": [
           {
            "type": "scatterpolargl",
            "marker": {
             "colorbar": {
              "outlinewidth": 0,
              "ticks": ""
             }
            }
           }
          ],
          "bar": [
           {
            "error_x": {
             "color": "#f2f5fa"
            },
            "error_y": {
             "color": "#f2f5fa"
            },
            "marker": {
             "line": {
              "color": "rgb(17,17,17)",
              "width": 0.5
             },
             "pattern": {
              "fillmode": "overlay",
              "size": 10,
              "solidity": 0.2
             }
            },
            "type": "bar"
           }
          ],
          "scattergeo": [
           {
            "type": "scattergeo",
            "marker": {
             "colorbar": {
              "outlinewidth": 0,
              "ticks": ""
             }
            }
           }
          ],
          "scatterpolar": [
           {
            "type": "scatterpolar",
            "marker": {
             "colorbar": {
              "outlinewidth": 0,
              "ticks": ""
             }
            }
           }
          ],
          "histogram": [
           {
            "marker": {
             "pattern": {
              "fillmode": "overlay",
              "size": 10,
              "solidity": 0.2
             }
            },
            "type": "histogram"
           }
          ],
          "scattergl": [
           {
            "marker": {
             "line": {
              "color": "#283442"
             }
            },
            "type": "scattergl"
           }
          ],
          "scatter3d": [
           {
            "type": "scatter3d",
            "line": {
             "colorbar": {
              "outlinewidth": 0,
              "ticks": ""
             }
            },
            "marker": {
             "colorbar": {
              "outlinewidth": 0,
              "ticks": ""
             }
            }
           }
          ],
          "scattermap": [
           {
            "type": "scattermap",
            "marker": {
             "colorbar": {
              "outlinewidth": 0,
              "ticks": ""
             }
            }
           }
          ],
          "scattermapbox": [
           {
            "type": "scattermapbox",
            "marker": {
             "colorbar": {
              "outlinewidth": 0,
              "ticks": ""
             }
            }
           }
          ],
          "scatterternary": [
           {
            "type": "scatterternary",
            "marker": {
             "colorbar": {
              "outlinewidth": 0,
              "ticks": ""
             }
            }
           }
          ],
          "scattercarpet": [
           {
            "type": "scattercarpet",
            "marker": {
             "colorbar": {
              "outlinewidth": 0,
              "ticks": ""
             }
            }
           }
          ],
          "carpet": [
           {
            "aaxis": {
             "endlinecolor": "#A2B1C6",
             "gridcolor": "#506784",
             "linecolor": "#506784",
             "minorgridcolor": "#506784",
             "startlinecolor": "#A2B1C6"
            },
            "baxis": {
             "endlinecolor": "#A2B1C6",
             "gridcolor": "#506784",
             "linecolor": "#506784",
             "minorgridcolor": "#506784",
             "startlinecolor": "#A2B1C6"
            },
            "type": "carpet"
           }
          ],
          "table": [
           {
            "cells": {
             "fill": {
              "color": "#506784"
             },
             "line": {
              "color": "rgb(17,17,17)"
             }
            },
            "header": {
             "fill": {
              "color": "#2a3f5f"
             },
             "line": {
              "color": "rgb(17,17,17)"
             }
            },
            "type": "table"
           }
          ],
          "barpolar": [
           {
            "marker": {
             "line": {
              "color": "rgb(17,17,17)",
              "width": 0.5
             },
             "pattern": {
              "fillmode": "overlay",
              "size": 10,
              "solidity": 0.2
             }
            },
            "type": "barpolar"
           }
          ],
          "pie": [
           {
            "automargin": true,
            "type": "pie"
           }
          ]
         },
         "layout": {
          "autotypenumbers": "strict",
          "colorway": [
           "#636efa",
           "#EF553B",
           "#00cc96",
           "#ab63fa",
           "#FFA15A",
           "#19d3f3",
           "#FF6692",
           "#B6E880",
           "#FF97FF",
           "#FECB52"
          ],
          "font": {
           "color": "#f2f5fa"
          },
          "hovermode": "closest",
          "hoverlabel": {
           "align": "left"
          },
          "paper_bgcolor": "rgb(17,17,17)",
          "plot_bgcolor": "rgb(17,17,17)",
          "polar": {
           "bgcolor": "rgb(17,17,17)",
           "angularaxis": {
            "gridcolor": "#506784",
            "linecolor": "#506784",
            "ticks": ""
           },
           "radialaxis": {
            "gridcolor": "#506784",
            "linecolor": "#506784",
            "ticks": ""
           }
          },
          "ternary": {
           "bgcolor": "rgb(17,17,17)",
           "aaxis": {
            "gridcolor": "#506784",
            "linecolor": "#506784",
            "ticks": ""
           },
           "baxis": {
            "gridcolor": "#506784",
            "linecolor": "#506784",
            "ticks": ""
           },
           "caxis": {
            "gridcolor": "#506784",
            "linecolor": "#506784",
            "ticks": ""
           }
          },
          "coloraxis": {
           "colorbar": {
            "outlinewidth": 0,
            "ticks": ""
           }
          },
          "colorscale": {
           "sequential": [
            [
             0.0,
             "#0d0887"
            ],
            [
             0.1111111111111111,
             "#46039f"
            ],
            [
             0.2222222222222222,
             "#7201a8"
            ],
            [
             0.3333333333333333,
             "#9c179e"
            ],
            [
             0.4444444444444444,
             "#bd3786"
            ],
            [
             0.5555555555555556,
             "#d8576b"
            ],
            [
             0.6666666666666666,
             "#ed7953"
            ],
            [
             0.7777777777777778,
             "#fb9f3a"
            ],
            [
             0.8888888888888888,
             "#fdca26"
            ],
            [
             1.0,
             "#f0f921"
            ]
           ],
           "sequentialminus": [
            [
             0.0,
             "#0d0887"
            ],
            [
             0.1111111111111111,
             "#46039f"
            ],
            [
             0.2222222222222222,
             "#7201a8"
            ],
            [
             0.3333333333333333,
             "#9c179e"
            ],
            [
             0.4444444444444444,
             "#bd3786"
            ],
            [
             0.5555555555555556,
             "#d8576b"
            ],
            [
             0.6666666666666666,
             "#ed7953"
            ],
            [
             0.7777777777777778,
             "#fb9f3a"
            ],
            [
             0.8888888888888888,
             "#fdca26"
            ],
            [
             1.0,
             "#f0f921"
            ]
           ],
           "diverging": [
            [
             0,
             "#8e0152"
            ],
            [
             0.1,
             "#c51b7d"
            ],
            [
             0.2,
             "#de77ae"
            ],
            [
             0.3,
             "#f1b6da"
            ],
            [
             0.4,
             "#fde0ef"
            ],
            [
             0.5,
             "#f7f7f7"
            ],
            [
             0.6,
             "#e6f5d0"
            ],
            [
             0.7,
             "#b8e186"
            ],
            [
             0.8,
             "#7fbc41"
            ],
            [
             0.9,
             "#4d9221"
            ],
            [
             1,
             "#276419"
            ]
           ]
          },
          "xaxis": {
           "gridcolor": "#283442",
           "linecolor": "#506784",
           "ticks": "",
           "title": {
            "standoff": 15
           },
           "zerolinecolor": "#283442",
           "automargin": true,
           "zerolinewidth": 2
          },
          "yaxis": {
           "gridcolor": "#283442",
           "linecolor": "#506784",
           "ticks": "",
           "title": {
            "standoff": 15
           },
           "zerolinecolor": "#283442",
           "automargin": true,
           "zerolinewidth": 2
          },
          "scene": {
           "xaxis": {
            "backgroundcolor": "rgb(17,17,17)",
            "gridcolor": "#506784",
            "linecolor": "#506784",
            "showbackground": true,
            "ticks": "",
            "zerolinecolor": "#C8D4E3",
            "gridwidth": 2
           },
           "yaxis": {
            "backgroundcolor": "rgb(17,17,17)",
            "gridcolor": "#506784",
            "linecolor": "#506784",
            "showbackground": true,
            "ticks": "",
            "zerolinecolor": "#C8D4E3",
            "gridwidth": 2
           },
           "zaxis": {
            "backgroundcolor": "rgb(17,17,17)",
            "gridcolor": "#506784",
            "linecolor": "#506784",
            "showbackground": true,
            "ticks": "",
            "zerolinecolor": "#C8D4E3",
            "gridwidth": 2
           }
          },
          "shapedefaults": {
           "line": {
            "color": "#f2f5fa"
           }
          },
          "annotationdefaults": {
           "arrowcolor": "#f2f5fa",
           "arrowhead": 0,
           "arrowwidth": 1
          },
          "geo": {
           "bgcolor": "rgb(17,17,17)",
           "landcolor": "rgb(17,17,17)",
           "subunitcolor": "#506784",
           "showland": true,
           "showlakes": true,
           "lakecolor": "rgb(17,17,17)"
          },
          "title": {
           "x": 0.05
          },
          "updatemenudefaults": {
           "bgcolor": "#506784",
           "borderwidth": 0
          },
          "sliderdefaults": {
           "bgcolor": "#C8D4E3",
           "borderwidth": 1,
           "bordercolor": "rgb(17,17,17)",
           "tickwidth": 0
          },
          "mapbox": {
           "style": "dark"
          }
         }
        },
        "xaxis": {
         "anchor": "y",
         "domain": [
          0.0,
          1.0
         ],
         "title": {
          "text": "Геоморфон"
         }
        },
        "yaxis": {
         "anchor": "x",
         "domain": [
          0.0,
          1.0
         ],
         "title": {
          "text": "NMAD (м)"
         }
        },
        "legend": {
         "title": {
          "text": "best_dem"
         },
         "tracegroupgap": 0
        },
        "title": {
         "text": "Найкращий DEM (мінімальний NMAD) для кожного типу геоморфону"
        },
        "barmode": "relative",
        "uniformtext": {
         "minsize": 8,
         "mode": "hide"
        }
       },
       "config": {
        "plotlyServerURL": "https://plot.ly"
       }
      }
     },
     "metadata": {},
     "output_type": "display_data"
    }
   ],
   "execution_count": 31
  },
  {
   "metadata": {
    "ExecuteTime": {
     "end_time": "2025-07-11T13:35:52.827048Z",
     "start_time": "2025-07-11T13:35:52.790501Z"
    }
   },
   "cell_type": "code",
   "source": [
    "import pandas as pd\n",
    "import plotly.express as px\n",
    "\n",
    "# Додаємо назву геоморфону\n",
    "agg_by_geomorphon[\"landform\"] = agg_by_geomorphon[\"fab_dem_geomorphon\"].map(landform_names)\n",
    "\n",
    "# Сортуємо\n",
    "agg_by_geomorphon = agg_by_geomorphon.sort_values(\"fab_dem_geomorphon\")\n",
    "\n",
    "# Вибираємо тільки NMAD-стовпці + landform\n",
    "nmad_cols = [\n",
    "    \"nmad_alos\", \"nmad_aster\", \"nmad_cop\", \"nmad_fab\",\n",
    "    \"nmad_nasa\", \"nmad_srtm\", \"nmad_tan\"\n",
    "]\n",
    "\n",
    "# Перетворюємо в long-form (melt)\n",
    "df_long = agg_by_geomorphon[[\"landform\"] + nmad_cols].melt(\n",
    "    id_vars=\"landform\",\n",
    "    value_vars=nmad_cols,\n",
    "    var_name=\"DEM\",\n",
    "    value_name=\"NMAD\"\n",
    ")\n",
    "\n",
    "# Видаляємо префікс для кращого вигляду\n",
    "df_long[\"DEM\"] = df_long[\"DEM\"].str.replace(\"nmad_\", \"\").str.upper()\n",
    "\n",
    "# Побудова групованого графіка\n",
    "fig = px.bar(\n",
    "    df_long,\n",
    "    x=\"landform\",\n",
    "    y=\"NMAD\",\n",
    "    color=\"DEM\",\n",
    "    barmode=\"group\",\n",
    "    text=\"NMAD\",\n",
    "    title=\"NMAD для кожного DEM по геоморфонах\",\n",
    "    labels={\"landform\": \"Геоморфон\", \"NMAD\": \"NMAD (м)\", \"DEM\": \"DEM\"}\n",
    ")\n",
    "\n",
    "# Покращуємо вигляд\n",
    "fig.update_traces(texttemplate='%{text:.2f}', textposition='outside')\n",
    "fig.update_layout(uniformtext_minsize=8, uniformtext_mode='hide')\n",
    "\n",
    "fig.show()\n"
   ],
   "id": "1d61a7b4e5f93ea3",
   "outputs": [
    {
     "data": {
      "application/vnd.plotly.v1+json": {
       "data": [
        {
         "alignmentgroup": "True",
         "hovertemplate": "DEM=ALOS<br>Геоморфон=%{x}<br>NMAD (м)=%{text}<extra></extra>",
         "legendgroup": "ALOS",
         "marker": {
          "color": "#636efa",
          "pattern": {
           "shape": ""
          }
         },
         "name": "ALOS",
         "offsetgroup": "ALOS",
         "orientation": "v",
         "showlegend": true,
         "text": {
          "dtype": "f8",
          "bdata": "0FjRequbC0ACl722oGkOQDmiGkBNmw1A2pR7JpEkEEBkyRLnHqoQQOJjV1p6HxJA1+nX1jezDkAJUS+d/+oUQK6cvwkBNgxA"
         },
         "textposition": "outside",
         "x": [
          "Peak",
          "Ridge",
          "Shoulder",
          "Spur",
          "Slope",
          "Hollow",
          "Footslope",
          "Valley",
          "Pit"
         ],
         "xaxis": "x",
         "y": {
          "dtype": "f8",
          "bdata": "0FjRequbC0ACl722oGkOQDmiGkBNmw1A2pR7JpEkEEBkyRLnHqoQQOJjV1p6HxJA1+nX1jezDkAJUS+d/+oUQK6cvwkBNgxA"
         },
         "yaxis": "y",
         "type": "bar",
         "texttemplate": "%{text:.2f}"
        },
        {
         "alignmentgroup": "True",
         "hovertemplate": "DEM=ASTER<br>Геоморфон=%{x}<br>NMAD (м)=%{text}<extra></extra>",
         "legendgroup": "ASTER",
         "marker": {
          "color": "#EF553B",
          "pattern": {
           "shape": ""
          }
         },
         "name": "ASTER",
         "offsetgroup": "ASTER",
         "orientation": "v",
         "showlegend": true,
         "text": {
          "dtype": "f8",
          "bdata": "/jsFr3jfF0DlVJ16xX4ZQCkE7Wka+whApexuVGNMGkBWUkn4aHUcQNe53GAvTyBAXtmWXIz6GkC54qlH55chQBBZmxAubBtA"
         },
         "textposition": "outside",
         "x": [
          "Peak",
          "Ridge",
          "Shoulder",
          "Spur",
          "Slope",
          "Hollow",
          "Footslope",
          "Valley",
          "Pit"
         ],
         "xaxis": "x",
         "y": {
          "dtype": "f8",
          "bdata": "/jsFr3jfF0DlVJ16xX4ZQCkE7Wka+whApexuVGNMGkBWUkn4aHUcQNe53GAvTyBAXtmWXIz6GkC54qlH55chQBBZmxAubBtA"
         },
         "yaxis": "y",
         "type": "bar",
         "texttemplate": "%{text:.2f}"
        },
        {
         "alignmentgroup": "True",
         "hovertemplate": "DEM=COP<br>Геоморфон=%{x}<br>NMAD (м)=%{text}<extra></extra>",
         "legendgroup": "COP",
         "marker": {
          "color": "#00cc96",
          "pattern": {
           "shape": ""
          }
         },
         "name": "COP",
         "offsetgroup": "COP",
         "orientation": "v",
         "showlegend": true,
         "text": {
          "dtype": "f8",
          "bdata": "XBpG5hxeCECaaCWtLMMHQMJjI7VxHgRAYP12bRhOCUCakigPGrMKQEfyKDo1RQ1AIBqbsfGpDEAynfkwRx4WQJDnS7niPwhA"
         },
         "textposition": "outside",
         "x": [
          "Peak",
          "Ridge",
          "Shoulder",
          "Spur",
          "Slope",
          "Hollow",
          "Footslope",
          "Valley",
          "Pit"
         ],
         "xaxis": "x",
         "y": {
          "dtype": "f8",
          "bdata": "XBpG5hxeCECaaCWtLMMHQMJjI7VxHgRAYP12bRhOCUCakigPGrMKQEfyKDo1RQ1AIBqbsfGpDEAynfkwRx4WQJDnS7niPwhA"
         },
         "yaxis": "y",
         "type": "bar",
         "texttemplate": "%{text:.2f}"
        },
        {
         "alignmentgroup": "True",
         "hovertemplate": "DEM=FAB<br>Геоморфон=%{x}<br>NMAD (м)=%{text}<extra></extra>",
         "legendgroup": "FAB",
         "marker": {
          "color": "#ab63fa",
          "pattern": {
           "shape": ""
          }
         },
         "name": "FAB",
         "offsetgroup": "FAB",
         "orientation": "v",
         "showlegend": true,
         "text": {
          "dtype": "f8",
          "bdata": "zBX4LyX1AUBK0jmazMkBQItvHj30U/w/ioBtDkGeA0A6Ev6gh6YEQAGJNaZjowZAggCOPQUKAUCqkU/Z4h4HQER7HSdDkgJA"
         },
         "textposition": "outside",
         "x": [
          "Peak",
          "Ridge",
          "Shoulder",
          "Spur",
          "Slope",
          "Hollow",
          "Footslope",
          "Valley",
          "Pit"
         ],
         "xaxis": "x",
         "y": {
          "dtype": "f8",
          "bdata": "zBX4LyX1AUBK0jmazMkBQItvHj30U/w/ioBtDkGeA0A6Ev6gh6YEQAGJNaZjowZAggCOPQUKAUCqkU/Z4h4HQER7HSdDkgJA"
         },
         "yaxis": "y",
         "type": "bar",
         "texttemplate": "%{text:.2f}"
        },
        {
         "alignmentgroup": "True",
         "hovertemplate": "DEM=NASA<br>Геоморфон=%{x}<br>NMAD (м)=%{text}<extra></extra>",
         "legendgroup": "NASA",
         "marker": {
          "color": "#FFA15A",
          "pattern": {
           "shape": ""
          }
         },
         "name": "NASA",
         "offsetgroup": "NASA",
         "orientation": "v",
         "showlegend": true,
         "text": {
          "dtype": "f8",
          "bdata": "mn+R4X7bCEAESQrRtFkSQLOWCK+UwA5AUBJKX6sKFUBoWua+whUXQFocctg+nBlAbUCYJWnmF0BReDmR6zwdQD8z/0P7kRVA"
         },
         "textposition": "outside",
         "x": [
          "Peak",
          "Ridge",
          "Shoulder",
          "Spur",
          "Slope",
          "Hollow",
          "Footslope",
          "Valley",
          "Pit"
         ],
         "xaxis": "x",
         "y": {
          "dtype": "f8",
          "bdata": "mn+R4X7bCEAESQrRtFkSQLOWCK+UwA5AUBJKX6sKFUBoWua+whUXQFocctg+nBlAbUCYJWnmF0BReDmR6zwdQD8z/0P7kRVA"
         },
         "yaxis": "y",
         "type": "bar",
         "texttemplate": "%{text:.2f}"
        },
        {
         "alignmentgroup": "True",
         "hovertemplate": "DEM=SRTM<br>Геоморфон=%{x}<br>NMAD (м)=%{text}<extra></extra>",
         "legendgroup": "SRTM",
         "marker": {
          "color": "#19d3f3",
          "pattern": {
           "shape": ""
          }
         },
         "name": "SRTM",
         "offsetgroup": "SRTM",
         "orientation": "v",
         "showlegend": true,
         "text": {
          "dtype": "f8",
          "bdata": "2gdvtNDLCkDGjfRYCWsJQNPmXOVcs/0//Y0RP2HMD0AyUqqOfJ4RQFfc4PrsmxNAStRd2U5GEEC5v3T/K/MVQJVU10bDBhNA"
         },
         "textposition": "outside",
         "x": [
          "Peak",
          "Ridge",
          "Shoulder",
          "Spur",
          "Slope",
          "Hollow",
          "Footslope",
          "Valley",
          "Pit"
         ],
         "xaxis": "x",
         "y": {
          "dtype": "f8",
          "bdata": "2gdvtNDLCkDGjfRYCWsJQNPmXOVcs/0//Y0RP2HMD0AyUqqOfJ4RQFfc4PrsmxNAStRd2U5GEEC5v3T/K/MVQJVU10bDBhNA"
         },
         "yaxis": "y",
         "type": "bar",
         "texttemplate": "%{text:.2f}"
        },
        {
         "alignmentgroup": "True",
         "hovertemplate": "DEM=TAN<br>Геоморфон=%{x}<br>NMAD (м)=%{text}<extra></extra>",
         "legendgroup": "TAN",
         "marker": {
          "color": "#FF6692",
          "pattern": {
           "shape": ""
          }
         },
         "name": "TAN",
         "offsetgroup": "TAN",
         "orientation": "v",
         "showlegend": true,
         "text": {
          "dtype": "f8",
          "bdata": "JlY85GABCEAMVoJqWHEHQKFikKpSyQNAjjheJpsPCUCU/9Noy2QKQDlR5npq+gxAx+7WMn1EDECj2D9P3ZkVQG7RnbvYHAhA"
         },
         "textposition": "outside",
         "x": [
          "Peak",
          "Ridge",
          "Shoulder",
          "Spur",
          "Slope",
          "Hollow",
          "Footslope",
          "Valley",
          "Pit"
         ],
         "xaxis": "x",
         "y": {
          "dtype": "f8",
          "bdata": "JlY85GABCEAMVoJqWHEHQKFikKpSyQNAjjheJpsPCUCU/9Noy2QKQDlR5npq+gxAx+7WMn1EDECj2D9P3ZkVQG7RnbvYHAhA"
         },
         "yaxis": "y",
         "type": "bar",
         "texttemplate": "%{text:.2f}"
        }
       ],
       "layout": {
        "template": {
         "data": {
          "histogram2dcontour": [
           {
            "type": "histogram2dcontour",
            "colorbar": {
             "outlinewidth": 0,
             "ticks": ""
            },
            "colorscale": [
             [
              0.0,
              "#0d0887"
             ],
             [
              0.1111111111111111,
              "#46039f"
             ],
             [
              0.2222222222222222,
              "#7201a8"
             ],
             [
              0.3333333333333333,
              "#9c179e"
             ],
             [
              0.4444444444444444,
              "#bd3786"
             ],
             [
              0.5555555555555556,
              "#d8576b"
             ],
             [
              0.6666666666666666,
              "#ed7953"
             ],
             [
              0.7777777777777778,
              "#fb9f3a"
             ],
             [
              0.8888888888888888,
              "#fdca26"
             ],
             [
              1.0,
              "#f0f921"
             ]
            ]
           }
          ],
          "choropleth": [
           {
            "type": "choropleth",
            "colorbar": {
             "outlinewidth": 0,
             "ticks": ""
            }
           }
          ],
          "histogram2d": [
           {
            "type": "histogram2d",
            "colorbar": {
             "outlinewidth": 0,
             "ticks": ""
            },
            "colorscale": [
             [
              0.0,
              "#0d0887"
             ],
             [
              0.1111111111111111,
              "#46039f"
             ],
             [
              0.2222222222222222,
              "#7201a8"
             ],
             [
              0.3333333333333333,
              "#9c179e"
             ],
             [
              0.4444444444444444,
              "#bd3786"
             ],
             [
              0.5555555555555556,
              "#d8576b"
             ],
             [
              0.6666666666666666,
              "#ed7953"
             ],
             [
              0.7777777777777778,
              "#fb9f3a"
             ],
             [
              0.8888888888888888,
              "#fdca26"
             ],
             [
              1.0,
              "#f0f921"
             ]
            ]
           }
          ],
          "heatmap": [
           {
            "type": "heatmap",
            "colorbar": {
             "outlinewidth": 0,
             "ticks": ""
            },
            "colorscale": [
             [
              0.0,
              "#0d0887"
             ],
             [
              0.1111111111111111,
              "#46039f"
             ],
             [
              0.2222222222222222,
              "#7201a8"
             ],
             [
              0.3333333333333333,
              "#9c179e"
             ],
             [
              0.4444444444444444,
              "#bd3786"
             ],
             [
              0.5555555555555556,
              "#d8576b"
             ],
             [
              0.6666666666666666,
              "#ed7953"
             ],
             [
              0.7777777777777778,
              "#fb9f3a"
             ],
             [
              0.8888888888888888,
              "#fdca26"
             ],
             [
              1.0,
              "#f0f921"
             ]
            ]
           }
          ],
          "contourcarpet": [
           {
            "type": "contourcarpet",
            "colorbar": {
             "outlinewidth": 0,
             "ticks": ""
            }
           }
          ],
          "contour": [
           {
            "type": "contour",
            "colorbar": {
             "outlinewidth": 0,
             "ticks": ""
            },
            "colorscale": [
             [
              0.0,
              "#0d0887"
             ],
             [
              0.1111111111111111,
              "#46039f"
             ],
             [
              0.2222222222222222,
              "#7201a8"
             ],
             [
              0.3333333333333333,
              "#9c179e"
             ],
             [
              0.4444444444444444,
              "#bd3786"
             ],
             [
              0.5555555555555556,
              "#d8576b"
             ],
             [
              0.6666666666666666,
              "#ed7953"
             ],
             [
              0.7777777777777778,
              "#fb9f3a"
             ],
             [
              0.8888888888888888,
              "#fdca26"
             ],
             [
              1.0,
              "#f0f921"
             ]
            ]
           }
          ],
          "surface": [
           {
            "type": "surface",
            "colorbar": {
             "outlinewidth": 0,
             "ticks": ""
            },
            "colorscale": [
             [
              0.0,
              "#0d0887"
             ],
             [
              0.1111111111111111,
              "#46039f"
             ],
             [
              0.2222222222222222,
              "#7201a8"
             ],
             [
              0.3333333333333333,
              "#9c179e"
             ],
             [
              0.4444444444444444,
              "#bd3786"
             ],
             [
              0.5555555555555556,
              "#d8576b"
             ],
             [
              0.6666666666666666,
              "#ed7953"
             ],
             [
              0.7777777777777778,
              "#fb9f3a"
             ],
             [
              0.8888888888888888,
              "#fdca26"
             ],
             [
              1.0,
              "#f0f921"
             ]
            ]
           }
          ],
          "mesh3d": [
           {
            "type": "mesh3d",
            "colorbar": {
             "outlinewidth": 0,
             "ticks": ""
            }
           }
          ],
          "scatter": [
           {
            "marker": {
             "line": {
              "color": "#283442"
             }
            },
            "type": "scatter"
           }
          ],
          "parcoords": [
           {
            "type": "parcoords",
            "line": {
             "colorbar": {
              "outlinewidth": 0,
              "ticks": ""
             }
            }
           }
          ],
          "scatterpolargl": [
           {
            "type": "scatterpolargl",
            "marker": {
             "colorbar": {
              "outlinewidth": 0,
              "ticks": ""
             }
            }
           }
          ],
          "bar": [
           {
            "error_x": {
             "color": "#f2f5fa"
            },
            "error_y": {
             "color": "#f2f5fa"
            },
            "marker": {
             "line": {
              "color": "rgb(17,17,17)",
              "width": 0.5
             },
             "pattern": {
              "fillmode": "overlay",
              "size": 10,
              "solidity": 0.2
             }
            },
            "type": "bar"
           }
          ],
          "scattergeo": [
           {
            "type": "scattergeo",
            "marker": {
             "colorbar": {
              "outlinewidth": 0,
              "ticks": ""
             }
            }
           }
          ],
          "scatterpolar": [
           {
            "type": "scatterpolar",
            "marker": {
             "colorbar": {
              "outlinewidth": 0,
              "ticks": ""
             }
            }
           }
          ],
          "histogram": [
           {
            "marker": {
             "pattern": {
              "fillmode": "overlay",
              "size": 10,
              "solidity": 0.2
             }
            },
            "type": "histogram"
           }
          ],
          "scattergl": [
           {
            "marker": {
             "line": {
              "color": "#283442"
             }
            },
            "type": "scattergl"
           }
          ],
          "scatter3d": [
           {
            "type": "scatter3d",
            "line": {
             "colorbar": {
              "outlinewidth": 0,
              "ticks": ""
             }
            },
            "marker": {
             "colorbar": {
              "outlinewidth": 0,
              "ticks": ""
             }
            }
           }
          ],
          "scattermap": [
           {
            "type": "scattermap",
            "marker": {
             "colorbar": {
              "outlinewidth": 0,
              "ticks": ""
             }
            }
           }
          ],
          "scattermapbox": [
           {
            "type": "scattermapbox",
            "marker": {
             "colorbar": {
              "outlinewidth": 0,
              "ticks": ""
             }
            }
           }
          ],
          "scatterternary": [
           {
            "type": "scatterternary",
            "marker": {
             "colorbar": {
              "outlinewidth": 0,
              "ticks": ""
             }
            }
           }
          ],
          "scattercarpet": [
           {
            "type": "scattercarpet",
            "marker": {
             "colorbar": {
              "outlinewidth": 0,
              "ticks": ""
             }
            }
           }
          ],
          "carpet": [
           {
            "aaxis": {
             "endlinecolor": "#A2B1C6",
             "gridcolor": "#506784",
             "linecolor": "#506784",
             "minorgridcolor": "#506784",
             "startlinecolor": "#A2B1C6"
            },
            "baxis": {
             "endlinecolor": "#A2B1C6",
             "gridcolor": "#506784",
             "linecolor": "#506784",
             "minorgridcolor": "#506784",
             "startlinecolor": "#A2B1C6"
            },
            "type": "carpet"
           }
          ],
          "table": [
           {
            "cells": {
             "fill": {
              "color": "#506784"
             },
             "line": {
              "color": "rgb(17,17,17)"
             }
            },
            "header": {
             "fill": {
              "color": "#2a3f5f"
             },
             "line": {
              "color": "rgb(17,17,17)"
             }
            },
            "type": "table"
           }
          ],
          "barpolar": [
           {
            "marker": {
             "line": {
              "color": "rgb(17,17,17)",
              "width": 0.5
             },
             "pattern": {
              "fillmode": "overlay",
              "size": 10,
              "solidity": 0.2
             }
            },
            "type": "barpolar"
           }
          ],
          "pie": [
           {
            "automargin": true,
            "type": "pie"
           }
          ]
         },
         "layout": {
          "autotypenumbers": "strict",
          "colorway": [
           "#636efa",
           "#EF553B",
           "#00cc96",
           "#ab63fa",
           "#FFA15A",
           "#19d3f3",
           "#FF6692",
           "#B6E880",
           "#FF97FF",
           "#FECB52"
          ],
          "font": {
           "color": "#f2f5fa"
          },
          "hovermode": "closest",
          "hoverlabel": {
           "align": "left"
          },
          "paper_bgcolor": "rgb(17,17,17)",
          "plot_bgcolor": "rgb(17,17,17)",
          "polar": {
           "bgcolor": "rgb(17,17,17)",
           "angularaxis": {
            "gridcolor": "#506784",
            "linecolor": "#506784",
            "ticks": ""
           },
           "radialaxis": {
            "gridcolor": "#506784",
            "linecolor": "#506784",
            "ticks": ""
           }
          },
          "ternary": {
           "bgcolor": "rgb(17,17,17)",
           "aaxis": {
            "gridcolor": "#506784",
            "linecolor": "#506784",
            "ticks": ""
           },
           "baxis": {
            "gridcolor": "#506784",
            "linecolor": "#506784",
            "ticks": ""
           },
           "caxis": {
            "gridcolor": "#506784",
            "linecolor": "#506784",
            "ticks": ""
           }
          },
          "coloraxis": {
           "colorbar": {
            "outlinewidth": 0,
            "ticks": ""
           }
          },
          "colorscale": {
           "sequential": [
            [
             0.0,
             "#0d0887"
            ],
            [
             0.1111111111111111,
             "#46039f"
            ],
            [
             0.2222222222222222,
             "#7201a8"
            ],
            [
             0.3333333333333333,
             "#9c179e"
            ],
            [
             0.4444444444444444,
             "#bd3786"
            ],
            [
             0.5555555555555556,
             "#d8576b"
            ],
            [
             0.6666666666666666,
             "#ed7953"
            ],
            [
             0.7777777777777778,
             "#fb9f3a"
            ],
            [
             0.8888888888888888,
             "#fdca26"
            ],
            [
             1.0,
             "#f0f921"
            ]
           ],
           "sequentialminus": [
            [
             0.0,
             "#0d0887"
            ],
            [
             0.1111111111111111,
             "#46039f"
            ],
            [
             0.2222222222222222,
             "#7201a8"
            ],
            [
             0.3333333333333333,
             "#9c179e"
            ],
            [
             0.4444444444444444,
             "#bd3786"
            ],
            [
             0.5555555555555556,
             "#d8576b"
            ],
            [
             0.6666666666666666,
             "#ed7953"
            ],
            [
             0.7777777777777778,
             "#fb9f3a"
            ],
            [
             0.8888888888888888,
             "#fdca26"
            ],
            [
             1.0,
             "#f0f921"
            ]
           ],
           "diverging": [
            [
             0,
             "#8e0152"
            ],
            [
             0.1,
             "#c51b7d"
            ],
            [
             0.2,
             "#de77ae"
            ],
            [
             0.3,
             "#f1b6da"
            ],
            [
             0.4,
             "#fde0ef"
            ],
            [
             0.5,
             "#f7f7f7"
            ],
            [
             0.6,
             "#e6f5d0"
            ],
            [
             0.7,
             "#b8e186"
            ],
            [
             0.8,
             "#7fbc41"
            ],
            [
             0.9,
             "#4d9221"
            ],
            [
             1,
             "#276419"
            ]
           ]
          },
          "xaxis": {
           "gridcolor": "#283442",
           "linecolor": "#506784",
           "ticks": "",
           "title": {
            "standoff": 15
           },
           "zerolinecolor": "#283442",
           "automargin": true,
           "zerolinewidth": 2
          },
          "yaxis": {
           "gridcolor": "#283442",
           "linecolor": "#506784",
           "ticks": "",
           "title": {
            "standoff": 15
           },
           "zerolinecolor": "#283442",
           "automargin": true,
           "zerolinewidth": 2
          },
          "scene": {
           "xaxis": {
            "backgroundcolor": "rgb(17,17,17)",
            "gridcolor": "#506784",
            "linecolor": "#506784",
            "showbackground": true,
            "ticks": "",
            "zerolinecolor": "#C8D4E3",
            "gridwidth": 2
           },
           "yaxis": {
            "backgroundcolor": "rgb(17,17,17)",
            "gridcolor": "#506784",
            "linecolor": "#506784",
            "showbackground": true,
            "ticks": "",
            "zerolinecolor": "#C8D4E3",
            "gridwidth": 2
           },
           "zaxis": {
            "backgroundcolor": "rgb(17,17,17)",
            "gridcolor": "#506784",
            "linecolor": "#506784",
            "showbackground": true,
            "ticks": "",
            "zerolinecolor": "#C8D4E3",
            "gridwidth": 2
           }
          },
          "shapedefaults": {
           "line": {
            "color": "#f2f5fa"
           }
          },
          "annotationdefaults": {
           "arrowcolor": "#f2f5fa",
           "arrowhead": 0,
           "arrowwidth": 1
          },
          "geo": {
           "bgcolor": "rgb(17,17,17)",
           "landcolor": "rgb(17,17,17)",
           "subunitcolor": "#506784",
           "showland": true,
           "showlakes": true,
           "lakecolor": "rgb(17,17,17)"
          },
          "title": {
           "x": 0.05
          },
          "updatemenudefaults": {
           "bgcolor": "#506784",
           "borderwidth": 0
          },
          "sliderdefaults": {
           "bgcolor": "#C8D4E3",
           "borderwidth": 1,
           "bordercolor": "rgb(17,17,17)",
           "tickwidth": 0
          },
          "mapbox": {
           "style": "dark"
          }
         }
        },
        "xaxis": {
         "anchor": "y",
         "domain": [
          0.0,
          1.0
         ],
         "title": {
          "text": "Геоморфон"
         }
        },
        "yaxis": {
         "anchor": "x",
         "domain": [
          0.0,
          1.0
         ],
         "title": {
          "text": "NMAD (м)"
         }
        },
        "legend": {
         "title": {
          "text": "DEM"
         },
         "tracegroupgap": 0
        },
        "title": {
         "text": "NMAD для кожного DEM по геоморфонах"
        },
        "barmode": "group",
        "uniformtext": {
         "minsize": 8,
         "mode": "hide"
        }
       },
       "config": {
        "plotlyServerURL": "https://plot.ly"
       }
      }
     },
     "metadata": {},
     "output_type": "display_data"
    }
   ],
   "execution_count": 32
  },
  {
   "metadata": {
    "ExecuteTime": {
     "end_time": "2025-07-11T13:43:11.669206Z",
     "start_time": "2025-07-11T13:43:11.615650Z"
    }
   },
   "cell_type": "code",
   "source": [
    "import pandas as pd\n",
    "\n",
    "# Переконайся, що значення числові\n",
    "df[\"fab_dem_2000\"] = pd.to_numeric(df[\"fab_dem_2000\"], errors=\"coerce\")\n",
    "\n",
    "# Створюємо класи HAND: 0–1, 1–2, ..., 9–10\n",
    "bins = list(range(0, 11)) + [float(\"inf\")]  # 0–10 + >10\n",
    "labels = [f\"{i} м\" for i in range(1, 11)] + [\">10 м\"]\n",
    "\n",
    "# Присвоюємо клас\n",
    "df[\"hand_class\"] = pd.cut(\n",
    "    df[\"fab_dem_2000\"],\n",
    "    bins=bins,\n",
    "    labels=labels,\n",
    "    right=False  # включає ліву межу: [)\n",
    ")\n",
    "\n",
    "# Перевіримо\n",
    "print(df[\"hand_class\"].value_counts().sort_index())\n"
   ],
   "id": "d3c7a6f88f60c634",
   "outputs": [
    {
     "name": "stdout",
     "output_type": "stream",
     "text": [
      "hand_class\n",
      "1 м         6366\n",
      "2 м        16456\n",
      "3 м        20075\n",
      "4 м        18505\n",
      "5 м        12934\n",
      "6 м         8258\n",
      "7 м        10134\n",
      "8 м         7736\n",
      "9 м         5687\n",
      "10 м        7271\n",
      ">10 м    1656613\n",
      "Name: count, dtype: int64\n"
     ]
    }
   ],
   "execution_count": 35
  },
  {
   "metadata": {
    "ExecuteTime": {
     "end_time": "2025-07-11T13:43:49.273978Z",
     "start_time": "2025-07-11T13:43:49.151964Z"
    }
   },
   "cell_type": "code",
   "source": [
    "nmad_columns = [\n",
    "    \"nmad_alos\", \"nmad_aster\", \"nmad_cop\",\n",
    "    \"nmad_fab\", \"nmad_nasa\", \"nmad_srtm\", \"nmad_tan\"\n",
    "]\n",
    "\n",
    "# Групування по класах HAND\n",
    "agg_by_hand = df.groupby(\"hand_class\", observed=True)[nmad_columns].median().reset_index()\n",
    "\n",
    "# Перетворюємо в long-form для графіка\n",
    "hand_long = agg_by_hand.melt(\n",
    "    id_vars=\"hand_class\",\n",
    "    value_vars=nmad_columns,\n",
    "    var_name=\"DEM\",\n",
    "    value_name=\"NMAD\"\n",
    ")\n",
    "\n",
    "# Форматуємо назви DEM\n",
    "hand_long[\"DEM\"] = hand_long[\"DEM\"].str.replace(\"nmad_\", \"\").str.upper()\n"
   ],
   "id": "7a52854f5102851e",
   "outputs": [],
   "execution_count": 36
  },
  {
   "metadata": {
    "ExecuteTime": {
     "end_time": "2025-07-11T14:07:31.979845Z",
     "start_time": "2025-07-11T14:07:31.951771Z"
    }
   },
   "cell_type": "code",
   "source": [
    "import plotly.express as px\n",
    "\n",
    "fig = px.bar(\n",
    "    hand_long,\n",
    "    x=\"hand_class\",\n",
    "    y=\"NMAD\",\n",
    "    color=\"DEM\",\n",
    "    barmode=\"group\",\n",
    "    text=\"NMAD\",\n",
    "    title=\"NMAD для кожного DEM у класах HAND (висота над руслом)\",\n",
    "    labels={\"hand_class\": \"HAND (м)\", \"NMAD\": \"NMAD (м)\", \"DEM\": \"DEM\"}\n",
    ")\n",
    "\n",
    "fig.update_traces(texttemplate='%{text:.2f}', textposition='outside')\n",
    "fig.update_layout(\n",
    "    xaxis_tickangle=-45,\n",
    "    uniformtext_minsize=8,\n",
    "    uniformtext_mode='hide'\n",
    ")\n",
    "\n",
    "fig.show()\n"
   ],
   "id": "e4597eaef587693d",
   "outputs": [
    {
     "data": {
      "application/vnd.plotly.v1+json": {
       "data": [
        {
         "alignmentgroup": "True",
         "hovertemplate": "DEM=ALOS<br>HAND (м)=%{x}<br>NMAD (м)=%{text}<extra></extra>",
         "legendgroup": "ALOS",
         "marker": {
          "color": "#636efa",
          "pattern": {
           "shape": ""
          }
         },
         "name": "ALOS",
         "offsetgroup": "ALOS",
         "orientation": "v",
         "showlegend": true,
         "text": {
          "dtype": "f8",
          "bdata": "CKwcWnQQB0CBpS0Jc9cNQM+G+gLDgg1ACljTq8HQEECFykCvpYIPQFvzt/PvRBJAm0mHPXEFFECSRwWpXiEQQHF345Pg1xFA/ls+7aNyEEDVMR068boQQA=="
         },
         "textposition": "outside",
         "x": [
          "1 м",
          "2 м",
          "3 м",
          "4 м",
          "5 м",
          "6 м",
          "7 м",
          "8 м",
          "9 м",
          "10 м",
          ">10 м"
         ],
         "xaxis": "x",
         "y": {
          "dtype": "f8",
          "bdata": "CKwcWnQQB0CBpS0Jc9cNQM+G+gLDgg1ACljTq8HQEECFykCvpYIPQFvzt/PvRBJAm0mHPXEFFECSRwWpXiEQQHF345Pg1xFA/ls+7aNyEEDVMR068boQQA=="
         },
         "yaxis": "y",
         "type": "bar",
         "texttemplate": "%{text:.2f}"
        },
        {
         "alignmentgroup": "True",
         "hovertemplate": "DEM=ASTER<br>HAND (м)=%{x}<br>NMAD (м)=%{text}<extra></extra>",
         "legendgroup": "ASTER",
         "marker": {
          "color": "#EF553B",
          "pattern": {
           "shape": ""
          }
         },
         "name": "ASTER",
         "offsetgroup": "ASTER",
         "orientation": "v",
         "showlegend": true,
         "text": {
          "dtype": "f8",
          "bdata": "S2Wv0hAtF0Cvn1bRi3wcQMVEHQx50BpAkgiTPRXxHEB+SRCueMkdQEvPifOGHxhA2gkJYpXjHEBMtIEqYMoaQKE6AOJciiNACbuQWMg3IEAB8eiQ3HwcQA=="
         },
         "textposition": "outside",
         "x": [
          "1 м",
          "2 м",
          "3 м",
          "4 м",
          "5 м",
          "6 м",
          "7 м",
          "8 м",
          "9 м",
          "10 м",
          ">10 м"
         ],
         "xaxis": "x",
         "y": {
          "dtype": "f8",
          "bdata": "S2Wv0hAtF0Cvn1bRi3wcQMVEHQx50BpAkgiTPRXxHEB+SRCueMkdQEvPifOGHxhA2gkJYpXjHEBMtIEqYMoaQKE6AOJciiNACbuQWMg3IEAB8eiQ3HwcQA=="
         },
         "yaxis": "y",
         "type": "bar",
         "texttemplate": "%{text:.2f}"
        },
        {
         "alignmentgroup": "True",
         "hovertemplate": "DEM=COP<br>HAND (м)=%{x}<br>NMAD (м)=%{text}<extra></extra>",
         "legendgroup": "COP",
         "marker": {
          "color": "#00cc96",
          "pattern": {
           "shape": ""
          }
         },
         "name": "COP",
         "offsetgroup": "COP",
         "orientation": "v",
         "showlegend": true,
         "text": {
          "dtype": "f8",
          "bdata": "2pyXef/uB0DsiajT6QMGQG+3lQMEqgpAc84xxRplEEBSllzFdqsQQDZLp79WVQhADzYGQoEKDkDl1EUKg/4HQP5VlAHYoAlAANhYHULxDkBM/6bBEOgKQA=="
         },
         "textposition": "outside",
         "x": [
          "1 м",
          "2 м",
          "3 м",
          "4 м",
          "5 м",
          "6 м",
          "7 м",
          "8 м",
          "9 м",
          "10 м",
          ">10 м"
         ],
         "xaxis": "x",
         "y": {
          "dtype": "f8",
          "bdata": "2pyXef/uB0DsiajT6QMGQG+3lQMEqgpAc84xxRplEEBSllzFdqsQQDZLp79WVQhADzYGQoEKDkDl1EUKg/4HQP5VlAHYoAlAANhYHULxDkBM/6bBEOgKQA=="
         },
         "yaxis": "y",
         "type": "bar",
         "texttemplate": "%{text:.2f}"
        },
        {
         "alignmentgroup": "True",
         "hovertemplate": "DEM=FAB<br>HAND (м)=%{x}<br>NMAD (м)=%{text}<extra></extra>",
         "legendgroup": "FAB",
         "marker": {
          "color": "#ab63fa",
          "pattern": {
           "shape": ""
          }
         },
         "name": "FAB",
         "offsetgroup": "FAB",
         "orientation": "v",
         "showlegend": true,
         "text": {
          "dtype": "f8",
          "bdata": "OksTtn9R/D94otOpkRYCQCQ/1p382AJAl0B2g8mhA0DMbTVGypcGQAC7C+97gABAzlSgFp0IBEBee8N9ZI8DQDtMchsox/8/7WOc0NXcBEDb6weGEZMEQA=="
         },
         "textposition": "outside",
         "x": [
          "1 м",
          "2 м",
          "3 м",
          "4 м",
          "5 м",
          "6 м",
          "7 м",
          "8 м",
          "9 м",
          "10 м",
          ">10 м"
         ],
         "xaxis": "x",
         "y": {
          "dtype": "f8",
          "bdata": "OksTtn9R/D94otOpkRYCQCQ/1p382AJAl0B2g8mhA0DMbTVGypcGQAC7C+97gABAzlSgFp0IBEBee8N9ZI8DQDtMchsox/8/7WOc0NXcBEDb6weGEZMEQA=="
         },
         "yaxis": "y",
         "type": "bar",
         "texttemplate": "%{text:.2f}"
        },
        {
         "alignmentgroup": "True",
         "hovertemplate": "DEM=NASA<br>HAND (м)=%{x}<br>NMAD (м)=%{text}<extra></extra>",
         "legendgroup": "NASA",
         "marker": {
          "color": "#FFA15A",
          "pattern": {
           "shape": ""
          }
         },
         "name": "NASA",
         "offsetgroup": "NASA",
         "orientation": "v",
         "showlegend": true,
         "text": {
          "dtype": "f8",
          "bdata": "+C+HOJkbE0Bb9Giq888SQIjAqQ+KfxJA3i9XULJwGECB/M9Q8DUVQFcoa+U5UxhAGMikdQqkFkDuCSKcDLoaQDMxb3rSgBtAI8uqvscyFEDPbsomjLoWQA=="
         },
         "textposition": "outside",
         "x": [
          "1 м",
          "2 м",
          "3 м",
          "4 м",
          "5 м",
          "6 м",
          "7 м",
          "8 м",
          "9 м",
          "10 м",
          ">10 м"
         ],
         "xaxis": "x",
         "y": {
          "dtype": "f8",
          "bdata": "+C+HOJkbE0Bb9Giq888SQIjAqQ+KfxJA3i9XULJwGECB/M9Q8DUVQFcoa+U5UxhAGMikdQqkFkDuCSKcDLoaQDMxb3rSgBtAI8uqvscyFEDPbsomjLoWQA=="
         },
         "yaxis": "y",
         "type": "bar",
         "texttemplate": "%{text:.2f}"
        },
        {
         "alignmentgroup": "True",
         "hovertemplate": "DEM=SRTM<br>HAND (м)=%{x}<br>NMAD (м)=%{text}<extra></extra>",
         "legendgroup": "SRTM",
         "marker": {
          "color": "#19d3f3",
          "pattern": {
           "shape": ""
          }
         },
         "name": "SRTM",
         "offsetgroup": "SRTM",
         "orientation": "v",
         "showlegend": true,
         "text": {
          "dtype": "f8",
          "bdata": "SpuoSh7WD0Ao8TDtxQQTQJr9ZIwjqxJAIMDBKIyCEkC4yeGTzK0XQHFdyq9HVhJAJ54qOptTEUBCHnRkEUQTQFVLL3vnExFAz/5wV9s+D0CfWC7A7RURQA=="
         },
         "textposition": "outside",
         "x": [
          "1 м",
          "2 м",
          "3 м",
          "4 м",
          "5 м",
          "6 м",
          "7 м",
          "8 м",
          "9 м",
          "10 м",
          ">10 м"
         ],
         "xaxis": "x",
         "y": {
          "dtype": "f8",
          "bdata": "SpuoSh7WD0Ao8TDtxQQTQJr9ZIwjqxJAIMDBKIyCEkC4yeGTzK0XQHFdyq9HVhJAJ54qOptTEUBCHnRkEUQTQFVLL3vnExFAz/5wV9s+D0CfWC7A7RURQA=="
         },
         "yaxis": "y",
         "type": "bar",
         "texttemplate": "%{text:.2f}"
        },
        {
         "alignmentgroup": "True",
         "hovertemplate": "DEM=TAN<br>HAND (м)=%{x}<br>NMAD (м)=%{text}<extra></extra>",
         "legendgroup": "TAN",
         "marker": {
          "color": "#FF6692",
          "pattern": {
           "shape": ""
          }
         },
         "name": "TAN",
         "offsetgroup": "TAN",
         "orientation": "v",
         "showlegend": true,
         "text": {
          "dtype": "f8",
          "bdata": "0VB3+WVTB0AUKfV2idkFQGIDQLrpVwpAJpU44RhMEEDb0Hgi6LIOQJyqaRd3AAhAiJNsdQ2TDUDuEQO4KAEIQNogOl9DlAlASquSyCq+DkDXpOPFhZ0KQA=="
         },
         "textposition": "outside",
         "x": [
          "1 м",
          "2 м",
          "3 м",
          "4 м",
          "5 м",
          "6 м",
          "7 м",
          "8 м",
          "9 м",
          "10 м",
          ">10 м"
         ],
         "xaxis": "x",
         "y": {
          "dtype": "f8",
          "bdata": "0VB3+WVTB0AUKfV2idkFQGIDQLrpVwpAJpU44RhMEEDb0Hgi6LIOQJyqaRd3AAhAiJNsdQ2TDUDuEQO4KAEIQNogOl9DlAlASquSyCq+DkDXpOPFhZ0KQA=="
         },
         "yaxis": "y",
         "type": "bar",
         "texttemplate": "%{text:.2f}"
        }
       ],
       "layout": {
        "template": {
         "data": {
          "histogram2dcontour": [
           {
            "type": "histogram2dcontour",
            "colorbar": {
             "outlinewidth": 0,
             "ticks": ""
            },
            "colorscale": [
             [
              0.0,
              "#0d0887"
             ],
             [
              0.1111111111111111,
              "#46039f"
             ],
             [
              0.2222222222222222,
              "#7201a8"
             ],
             [
              0.3333333333333333,
              "#9c179e"
             ],
             [
              0.4444444444444444,
              "#bd3786"
             ],
             [
              0.5555555555555556,
              "#d8576b"
             ],
             [
              0.6666666666666666,
              "#ed7953"
             ],
             [
              0.7777777777777778,
              "#fb9f3a"
             ],
             [
              0.8888888888888888,
              "#fdca26"
             ],
             [
              1.0,
              "#f0f921"
             ]
            ]
           }
          ],
          "choropleth": [
           {
            "type": "choropleth",
            "colorbar": {
             "outlinewidth": 0,
             "ticks": ""
            }
           }
          ],
          "histogram2d": [
           {
            "type": "histogram2d",
            "colorbar": {
             "outlinewidth": 0,
             "ticks": ""
            },
            "colorscale": [
             [
              0.0,
              "#0d0887"
             ],
             [
              0.1111111111111111,
              "#46039f"
             ],
             [
              0.2222222222222222,
              "#7201a8"
             ],
             [
              0.3333333333333333,
              "#9c179e"
             ],
             [
              0.4444444444444444,
              "#bd3786"
             ],
             [
              0.5555555555555556,
              "#d8576b"
             ],
             [
              0.6666666666666666,
              "#ed7953"
             ],
             [
              0.7777777777777778,
              "#fb9f3a"
             ],
             [
              0.8888888888888888,
              "#fdca26"
             ],
             [
              1.0,
              "#f0f921"
             ]
            ]
           }
          ],
          "heatmap": [
           {
            "type": "heatmap",
            "colorbar": {
             "outlinewidth": 0,
             "ticks": ""
            },
            "colorscale": [
             [
              0.0,
              "#0d0887"
             ],
             [
              0.1111111111111111,
              "#46039f"
             ],
             [
              0.2222222222222222,
              "#7201a8"
             ],
             [
              0.3333333333333333,
              "#9c179e"
             ],
             [
              0.4444444444444444,
              "#bd3786"
             ],
             [
              0.5555555555555556,
              "#d8576b"
             ],
             [
              0.6666666666666666,
              "#ed7953"
             ],
             [
              0.7777777777777778,
              "#fb9f3a"
             ],
             [
              0.8888888888888888,
              "#fdca26"
             ],
             [
              1.0,
              "#f0f921"
             ]
            ]
           }
          ],
          "contourcarpet": [
           {
            "type": "contourcarpet",
            "colorbar": {
             "outlinewidth": 0,
             "ticks": ""
            }
           }
          ],
          "contour": [
           {
            "type": "contour",
            "colorbar": {
             "outlinewidth": 0,
             "ticks": ""
            },
            "colorscale": [
             [
              0.0,
              "#0d0887"
             ],
             [
              0.1111111111111111,
              "#46039f"
             ],
             [
              0.2222222222222222,
              "#7201a8"
             ],
             [
              0.3333333333333333,
              "#9c179e"
             ],
             [
              0.4444444444444444,
              "#bd3786"
             ],
             [
              0.5555555555555556,
              "#d8576b"
             ],
             [
              0.6666666666666666,
              "#ed7953"
             ],
             [
              0.7777777777777778,
              "#fb9f3a"
             ],
             [
              0.8888888888888888,
              "#fdca26"
             ],
             [
              1.0,
              "#f0f921"
             ]
            ]
           }
          ],
          "surface": [
           {
            "type": "surface",
            "colorbar": {
             "outlinewidth": 0,
             "ticks": ""
            },
            "colorscale": [
             [
              0.0,
              "#0d0887"
             ],
             [
              0.1111111111111111,
              "#46039f"
             ],
             [
              0.2222222222222222,
              "#7201a8"
             ],
             [
              0.3333333333333333,
              "#9c179e"
             ],
             [
              0.4444444444444444,
              "#bd3786"
             ],
             [
              0.5555555555555556,
              "#d8576b"
             ],
             [
              0.6666666666666666,
              "#ed7953"
             ],
             [
              0.7777777777777778,
              "#fb9f3a"
             ],
             [
              0.8888888888888888,
              "#fdca26"
             ],
             [
              1.0,
              "#f0f921"
             ]
            ]
           }
          ],
          "mesh3d": [
           {
            "type": "mesh3d",
            "colorbar": {
             "outlinewidth": 0,
             "ticks": ""
            }
           }
          ],
          "scatter": [
           {
            "marker": {
             "line": {
              "color": "#283442"
             }
            },
            "type": "scatter"
           }
          ],
          "parcoords": [
           {
            "type": "parcoords",
            "line": {
             "colorbar": {
              "outlinewidth": 0,
              "ticks": ""
             }
            }
           }
          ],
          "scatterpolargl": [
           {
            "type": "scatterpolargl",
            "marker": {
             "colorbar": {
              "outlinewidth": 0,
              "ticks": ""
             }
            }
           }
          ],
          "bar": [
           {
            "error_x": {
             "color": "#f2f5fa"
            },
            "error_y": {
             "color": "#f2f5fa"
            },
            "marker": {
             "line": {
              "color": "rgb(17,17,17)",
              "width": 0.5
             },
             "pattern": {
              "fillmode": "overlay",
              "size": 10,
              "solidity": 0.2
             }
            },
            "type": "bar"
           }
          ],
          "scattergeo": [
           {
            "type": "scattergeo",
            "marker": {
             "colorbar": {
              "outlinewidth": 0,
              "ticks": ""
             }
            }
           }
          ],
          "scatterpolar": [
           {
            "type": "scatterpolar",
            "marker": {
             "colorbar": {
              "outlinewidth": 0,
              "ticks": ""
             }
            }
           }
          ],
          "histogram": [
           {
            "marker": {
             "pattern": {
              "fillmode": "overlay",
              "size": 10,
              "solidity": 0.2
             }
            },
            "type": "histogram"
           }
          ],
          "scattergl": [
           {
            "marker": {
             "line": {
              "color": "#283442"
             }
            },
            "type": "scattergl"
           }
          ],
          "scatter3d": [
           {
            "type": "scatter3d",
            "line": {
             "colorbar": {
              "outlinewidth": 0,
              "ticks": ""
             }
            },
            "marker": {
             "colorbar": {
              "outlinewidth": 0,
              "ticks": ""
             }
            }
           }
          ],
          "scattermap": [
           {
            "type": "scattermap",
            "marker": {
             "colorbar": {
              "outlinewidth": 0,
              "ticks": ""
             }
            }
           }
          ],
          "scattermapbox": [
           {
            "type": "scattermapbox",
            "marker": {
             "colorbar": {
              "outlinewidth": 0,
              "ticks": ""
             }
            }
           }
          ],
          "scatterternary": [
           {
            "type": "scatterternary",
            "marker": {
             "colorbar": {
              "outlinewidth": 0,
              "ticks": ""
             }
            }
           }
          ],
          "scattercarpet": [
           {
            "type": "scattercarpet",
            "marker": {
             "colorbar": {
              "outlinewidth": 0,
              "ticks": ""
             }
            }
           }
          ],
          "carpet": [
           {
            "aaxis": {
             "endlinecolor": "#A2B1C6",
             "gridcolor": "#506784",
             "linecolor": "#506784",
             "minorgridcolor": "#506784",
             "startlinecolor": "#A2B1C6"
            },
            "baxis": {
             "endlinecolor": "#A2B1C6",
             "gridcolor": "#506784",
             "linecolor": "#506784",
             "minorgridcolor": "#506784",
             "startlinecolor": "#A2B1C6"
            },
            "type": "carpet"
           }
          ],
          "table": [
           {
            "cells": {
             "fill": {
              "color": "#506784"
             },
             "line": {
              "color": "rgb(17,17,17)"
             }
            },
            "header": {
             "fill": {
              "color": "#2a3f5f"
             },
             "line": {
              "color": "rgb(17,17,17)"
             }
            },
            "type": "table"
           }
          ],
          "barpolar": [
           {
            "marker": {
             "line": {
              "color": "rgb(17,17,17)",
              "width": 0.5
             },
             "pattern": {
              "fillmode": "overlay",
              "size": 10,
              "solidity": 0.2
             }
            },
            "type": "barpolar"
           }
          ],
          "pie": [
           {
            "automargin": true,
            "type": "pie"
           }
          ]
         },
         "layout": {
          "autotypenumbers": "strict",
          "colorway": [
           "#636efa",
           "#EF553B",
           "#00cc96",
           "#ab63fa",
           "#FFA15A",
           "#19d3f3",
           "#FF6692",
           "#B6E880",
           "#FF97FF",
           "#FECB52"
          ],
          "font": {
           "color": "#f2f5fa"
          },
          "hovermode": "closest",
          "hoverlabel": {
           "align": "left"
          },
          "paper_bgcolor": "rgb(17,17,17)",
          "plot_bgcolor": "rgb(17,17,17)",
          "polar": {
           "bgcolor": "rgb(17,17,17)",
           "angularaxis": {
            "gridcolor": "#506784",
            "linecolor": "#506784",
            "ticks": ""
           },
           "radialaxis": {
            "gridcolor": "#506784",
            "linecolor": "#506784",
            "ticks": ""
           }
          },
          "ternary": {
           "bgcolor": "rgb(17,17,17)",
           "aaxis": {
            "gridcolor": "#506784",
            "linecolor": "#506784",
            "ticks": ""
           },
           "baxis": {
            "gridcolor": "#506784",
            "linecolor": "#506784",
            "ticks": ""
           },
           "caxis": {
            "gridcolor": "#506784",
            "linecolor": "#506784",
            "ticks": ""
           }
          },
          "coloraxis": {
           "colorbar": {
            "outlinewidth": 0,
            "ticks": ""
           }
          },
          "colorscale": {
           "sequential": [
            [
             0.0,
             "#0d0887"
            ],
            [
             0.1111111111111111,
             "#46039f"
            ],
            [
             0.2222222222222222,
             "#7201a8"
            ],
            [
             0.3333333333333333,
             "#9c179e"
            ],
            [
             0.4444444444444444,
             "#bd3786"
            ],
            [
             0.5555555555555556,
             "#d8576b"
            ],
            [
             0.6666666666666666,
             "#ed7953"
            ],
            [
             0.7777777777777778,
             "#fb9f3a"
            ],
            [
             0.8888888888888888,
             "#fdca26"
            ],
            [
             1.0,
             "#f0f921"
            ]
           ],
           "sequentialminus": [
            [
             0.0,
             "#0d0887"
            ],
            [
             0.1111111111111111,
             "#46039f"
            ],
            [
             0.2222222222222222,
             "#7201a8"
            ],
            [
             0.3333333333333333,
             "#9c179e"
            ],
            [
             0.4444444444444444,
             "#bd3786"
            ],
            [
             0.5555555555555556,
             "#d8576b"
            ],
            [
             0.6666666666666666,
             "#ed7953"
            ],
            [
             0.7777777777777778,
             "#fb9f3a"
            ],
            [
             0.8888888888888888,
             "#fdca26"
            ],
            [
             1.0,
             "#f0f921"
            ]
           ],
           "diverging": [
            [
             0,
             "#8e0152"
            ],
            [
             0.1,
             "#c51b7d"
            ],
            [
             0.2,
             "#de77ae"
            ],
            [
             0.3,
             "#f1b6da"
            ],
            [
             0.4,
             "#fde0ef"
            ],
            [
             0.5,
             "#f7f7f7"
            ],
            [
             0.6,
             "#e6f5d0"
            ],
            [
             0.7,
             "#b8e186"
            ],
            [
             0.8,
             "#7fbc41"
            ],
            [
             0.9,
             "#4d9221"
            ],
            [
             1,
             "#276419"
            ]
           ]
          },
          "xaxis": {
           "gridcolor": "#283442",
           "linecolor": "#506784",
           "ticks": "",
           "title": {
            "standoff": 15
           },
           "zerolinecolor": "#283442",
           "automargin": true,
           "zerolinewidth": 2
          },
          "yaxis": {
           "gridcolor": "#283442",
           "linecolor": "#506784",
           "ticks": "",
           "title": {
            "standoff": 15
           },
           "zerolinecolor": "#283442",
           "automargin": true,
           "zerolinewidth": 2
          },
          "scene": {
           "xaxis": {
            "backgroundcolor": "rgb(17,17,17)",
            "gridcolor": "#506784",
            "linecolor": "#506784",
            "showbackground": true,
            "ticks": "",
            "zerolinecolor": "#C8D4E3",
            "gridwidth": 2
           },
           "yaxis": {
            "backgroundcolor": "rgb(17,17,17)",
            "gridcolor": "#506784",
            "linecolor": "#506784",
            "showbackground": true,
            "ticks": "",
            "zerolinecolor": "#C8D4E3",
            "gridwidth": 2
           },
           "zaxis": {
            "backgroundcolor": "rgb(17,17,17)",
            "gridcolor": "#506784",
            "linecolor": "#506784",
            "showbackground": true,
            "ticks": "",
            "zerolinecolor": "#C8D4E3",
            "gridwidth": 2
           }
          },
          "shapedefaults": {
           "line": {
            "color": "#f2f5fa"
           }
          },
          "annotationdefaults": {
           "arrowcolor": "#f2f5fa",
           "arrowhead": 0,
           "arrowwidth": 1
          },
          "geo": {
           "bgcolor": "rgb(17,17,17)",
           "landcolor": "rgb(17,17,17)",
           "subunitcolor": "#506784",
           "showland": true,
           "showlakes": true,
           "lakecolor": "rgb(17,17,17)"
          },
          "title": {
           "x": 0.05
          },
          "updatemenudefaults": {
           "bgcolor": "#506784",
           "borderwidth": 0
          },
          "sliderdefaults": {
           "bgcolor": "#C8D4E3",
           "borderwidth": 1,
           "bordercolor": "rgb(17,17,17)",
           "tickwidth": 0
          },
          "mapbox": {
           "style": "dark"
          }
         }
        },
        "xaxis": {
         "anchor": "y",
         "domain": [
          0.0,
          1.0
         ],
         "title": {
          "text": "HAND (м)"
         },
         "tickangle": -45
        },
        "yaxis": {
         "anchor": "x",
         "domain": [
          0.0,
          1.0
         ],
         "title": {
          "text": "NMAD (м)"
         }
        },
        "legend": {
         "title": {
          "text": "DEM"
         },
         "tracegroupgap": 0
        },
        "title": {
         "text": "NMAD для кожного DEM у класах HAND (висота над руслом)"
        },
        "barmode": "group",
        "uniformtext": {
         "minsize": 8,
         "mode": "hide"
        }
       },
       "config": {
        "plotlyServerURL": "https://plot.ly"
       }
      }
     },
     "metadata": {},
     "output_type": "display_data"
    }
   ],
   "execution_count": 39
  },
  {
   "metadata": {
    "ExecuteTime": {
     "end_time": "2025-07-11T12:37:24.316206Z",
     "start_time": "2025-07-11T12:37:13.434515Z"
    }
   },
   "cell_type": "code",
   "source": [
    "import plotly.express as px\n",
    "\n",
    "df_melted = df.melt(\n",
    "    value_vars=[\n",
    "        'nmad_alos', 'nmad_aster', 'nmad_cop',\n",
    "        'nmad_fab', 'nmad_nasa', 'nmad_srtm', 'nmad_tan'\n",
    "    ],\n",
    "    var_name='DEM',\n",
    "    value_name='NMAD'\n",
    ")\n",
    "\n",
    "fig = px.box(df_melted, x='DEM', y='NMAD', title='NMAD (error) distribution per DEM')\n",
    "fig.show()\n"
   ],
   "id": "d7f75ad84fb644f7",
   "outputs": [],
   "execution_count": 19
  },
  {
   "metadata": {
    "jupyter": {
     "is_executing": true
    }
   },
   "cell_type": "code",
   "source": [
    "dem_cols = ['nmad_alos', 'nmad_aster', 'nmad_cop', 'nmad_fab', 'nmad_nasa', 'nmad_srtm', 'nmad_tan']\n",
    "df['best_dem'] = df[dem_cols].idxmin(axis=1).str.replace('nmad_', '')\n"
   ],
   "id": "9cc30eb1c8824367",
   "outputs": [],
   "execution_count": null
  },
  {
   "metadata": {
    "ExecuteTime": {
     "end_time": "2025-07-11T09:51:37.571936Z",
     "start_time": "2025-07-11T09:51:33.454717Z"
    }
   },
   "cell_type": "code",
   "source": [
    "import duckdb\n",
    "import pandas as pd\n",
    "import numpy as np\n",
    "\n",
    "# Налаштування\n",
    "input_parquet = \"data/nmad_all.parquet\"  # твій вхідний файл\n",
    "output_parquet = \"data/cdf_precomputed.parquet\"  # файл, який збережеш\n",
    "thresholds = np.arange(0, 51, 1)  # або будь-які інші пороги\n",
    "dem_list = [\"alos\", \"aster\", \"cop\", \"fab\", \"nasa\", \"srtm\", \"tan\"]\n",
    "\n",
    "# Підключення до DuckDB\n",
    "con = duckdb.connect()\n",
    "cdf_data = []\n",
    "\n",
    "# Розрахунок CDF для кожної DEM\n",
    "for dem in dem_list:\n",
    "    dem_col = f\"nmad_{dem}\"\n",
    "    union_sql = \"\\nUNION ALL\\n\".join([\n",
    "        f\"\"\"\n",
    "        SELECT {t} AS threshold,\n",
    "               COUNT(*) FILTER (WHERE {dem_col} <= {t}) * 1.0 / COUNT(*) AS cdf\n",
    "        FROM '{input_parquet}'\n",
    "        WHERE {dem_col} IS NOT NULL\n",
    "        \"\"\" for t in thresholds\n",
    "    ])\n",
    "    df = con.execute(union_sql).fetchdf()\n",
    "    df[\"DEM\"] = dem.upper()\n",
    "    cdf_data.append(df)\n",
    "\n",
    "# Об'єднуємо результати\n",
    "cdf_df = pd.concat(cdf_data, ignore_index=True)\n",
    "con.close()\n",
    "\n",
    "# Зберігаємо в Parquet (або Feather)\n",
    "cdf_df.to_parquet(output_parquet, index=False)  # або .to_feather(...)\n",
    "print(f\"✅ Збережено CDF у: {output_parquet}\")\n"
   ],
   "id": "5a5cda16442f14fb",
   "outputs": [
    {
     "name": "stdout",
     "output_type": "stream",
     "text": [
      "✅ Збережено CDF у: data/cdf_precomputed.parquet\n"
     ]
    }
   ],
   "execution_count": 9
  },
  {
   "metadata": {
    "ExecuteTime": {
     "end_time": "2025-07-10T18:26:43.560973Z",
     "start_time": "2025-07-10T18:26:43.558829Z"
    }
   },
   "cell_type": "code",
   "source": "import pandas as pd",
   "id": "d65bc18d815d6976",
   "outputs": [],
   "execution_count": 2
  },
  {
   "metadata": {
    "ExecuteTime": {
     "end_time": "2025-07-11T09:03:48.401756Z",
     "start_time": "2025-07-11T09:03:48.149572Z"
    }
   },
   "cell_type": "code",
   "source": "df = pd.read_parquet(\"data/nmad_all.parquet\")",
   "id": "f3010b412a8b1456",
   "outputs": [],
   "execution_count": 2
  },
  {
   "metadata": {
    "ExecuteTime": {
     "end_time": "2025-07-11T09:03:49.388063Z",
     "start_time": "2025-07-11T09:03:49.384535Z"
    }
   },
   "cell_type": "code",
   "source": "print(df.head())",
   "id": "fccf8a70d1f1a87",
   "outputs": [
    {
     "name": "stdout",
     "output_type": "stream",
     "text": [
      "   nmad_alos  nmad_aster   nmad_cop  nmad_fab  nmad_nasa  nmad_srtm   nmad_tan\n",
      "0  25.328853    6.590363  19.522465  1.244900  10.331885   4.992167  19.569005\n",
      "1  25.328853    6.590363  19.522465  1.244900  10.331885   4.992167  19.569005\n",
      "2  11.163797    7.251307  20.183409  1.905845  10.992830   5.653111  20.229949\n",
      "3  11.163797    7.251307  20.183409  1.905845  10.992830   5.653111  20.229949\n",
      "4  10.143605    6.231114  19.163216  0.885652   9.972637   4.632919  19.209756\n"
     ]
    }
   ],
   "execution_count": 3
  },
  {
   "metadata": {
    "ExecuteTime": {
     "end_time": "2025-07-11T09:04:14.418245Z",
     "start_time": "2025-07-11T09:03:51.127598Z"
    }
   },
   "cell_type": "code",
   "source": [
    "import matplotlib.pyplot as plt\n",
    "import seaborn as sns\n",
    "\n",
    "# Побудова гістограм NMAD для кожної DEM\n",
    "dems = ['nmad_alos', 'nmad_aster', 'nmad_cop', 'nmad_fab', 'nmad_nasa', 'nmad_srtm', 'nmad_tan']\n",
    "\n",
    "# Створюємо окрему гістограму для кожного DEM\n",
    "for dem in dems:\n",
    "    plt.figure(figsize=(8, 4))\n",
    "    sns.histplot(df[dem], bins=100, kde=True)\n",
    "    plt.title(f'Гістограма NMAD для {dem.upper()}')\n",
    "    plt.xlabel('NMAD (м)')\n",
    "    plt.ylabel('Кількість точок')\n",
    "    plt.grid(True)\n",
    "    plt.tight_layout()\n",
    "    plt.show()\n"
   ],
   "id": "284e83a9593e5787",
   "outputs": [
    {
     "data": {
      "text/plain": [
       "<Figure size 800x400 with 1 Axes>"
      ],
      "image/png": "[encoded data removed]"
     },
     "metadata": {},
     "output_type": "display_data"
    },
    {
     "data": {
      "text/plain": [
       "<Figure size 800x400 with 1 Axes>"
      ],
      "image/png": "[encoded data removed]"
     },
     "metadata": {},
     "output_type": "display_data"
    },
    {
     "data": {
      "text/plain": [
       "<Figure size 800x400 with 1 Axes>"
      ],
      "image/png": "[encoded data removed]"
     },
     "metadata": {},
     "output_type": "display_data"
    },
    {
     "data": {
      "text/plain": [
       "<Figure size 800x400 with 1 Axes>"
      ],
      "image/png": "[encoded data removed]"
     },
     "metadata": {},
     "output_type": "display_data"
    },
    {
     "data": {
      "text/plain": [
       "<Figure size 800x400 with 1 Axes>"
      ],
      "image/png": "[encoded data removed]"
     },
     "metadata": {},
     "output_type": "display_data"
    },
    {
     "data": {
      "text/plain": [
       "<Figure size 800x400 with 1 Axes>"
      ],
      "image/png": "[encoded data removed]"
     },
     "metadata": {},
     "output_type": "display_data"
    },
    {
     "data": {
      "text/plain": [
       "<Figure size 800x400 with 1 Axes>"
      ],
      "image/png": "[encoded data removed]"
     },
     "metadata": {},
     "output_type": "display_data"
    }
   ],
   "execution_count": 4
  },
  {
   "metadata": {
    "ExecuteTime": {
     "end_time": "2025-07-10T18:27:17.235567Z",
     "start_time": "2025-07-10T18:27:17.233212Z"
    }
   },
   "cell_type": "code",
   "source": [
    "def plot_cdf(data, column, label=None):\n",
    "    sorted_data = data[column].dropna().sort_values()\n",
    "    cdf = sorted_data.rank(method='average', pct=True)  # нормалізоване ранжування\n",
    "    plt.plot(sorted_data, cdf, label=label)\n"
   ],
   "id": "4c13331fa0787923",
   "outputs": [],
   "execution_count": 6
  },
  {
   "metadata": {
    "ExecuteTime": {
     "end_time": "2025-07-10T18:27:26.177530Z",
     "start_time": "2025-07-10T18:27:18.682309Z"
    }
   },
   "cell_type": "code",
   "source": [
    "plt.figure(figsize=(10, 6))\n",
    "\n",
    "dem_columns = [\n",
    "    \"nmad_fab\", \"nmad_srtm\", \"nmad_alos\",\n",
    "    \"nmad_aster\", \"nmad_nasa\", \"nmad_tan\", \"nmad_cop\"\n",
    "]\n",
    "\n",
    "for col in dem_columns:\n",
    "    plot_cdf(df[df[col] < 40], col, label=col.upper())  # фільтр < 40 м — видаляємо артефакти\n",
    "\n",
    "plt.xlabel(\"NMAD (м)\")\n",
    "plt.ylabel(\"Частка точок ≤ X\")\n",
    "plt.title(\"CDF (кумулятивна функція) для NMAD DEM-моделей\")\n",
    "plt.legend()\n",
    "plt.grid(True)\n",
    "plt.tight_layout()\n",
    "plt.show()\n"
   ],
   "id": "a4cf07ecade1d79e",
   "outputs": [
    {
     "data": {
      "text/plain": [
       "<Figure size 1000x600 with 1 Axes>"
      ],
      "image/png": "[encoded data removed]"
     },
     "metadata": {},
     "output_type": "display_data"
    }
   ],
   "execution_count": 7
  },
  {
   "metadata": {
    "jupyter": {
     "is_executing": true
    },
    "ExecuteTime": {
     "end_time": "2025-07-10T18:16:56.292220200Z",
     "start_time": "2025-07-10T18:15:45.943312Z"
    }
   },
   "cell_type": "code",
   "source": "",
   "id": "dd138c1fbbd55d41",
   "outputs": [
    {
     "data": {
      "text/plain": [
       "FloatProgress(value=0.0, layout=Layout(width='auto'), style=ProgressStyle(bar_color='black'))"
      ],
      "application/vnd.jupyter.widget-view+json": {
       "version_major": 2,
       "version_minor": 0,
       "model_id": "4340089fedd4444196c5f114bc87cc8f"
      }
     },
     "metadata": {},
     "output_type": "display_data"
    },
    {
     "data": {
      "text/plain": [
       "FloatProgress(value=0.0, layout=Layout(width='auto'), style=ProgressStyle(bar_color='black'))"
      ],
      "application/vnd.jupyter.widget-view+json": {
       "version_major": 2,
       "version_minor": 0,
       "model_id": "cb185ab2279a49fa99b46d75944c7a26"
      }
     },
     "metadata": {},
     "output_type": "display_data"
    }
   ],
   "execution_count": null
  },
  {
   "metadata": {
    "ExecuteTime": {
     "end_time": "2025-07-10T17:05:32.958581Z",
     "start_time": "2025-07-10T17:05:32.799789Z"
    }
   },
   "cell_type": "code",
   "source": [
    "\n",
    "\n",
    "# Створимо категорії для slope (наприклад, 4 групи)\n",
    "df[\"slope_cat\"] = pd.cut(df[\"slope\"], bins=[0, 5, 15, 25, 90], labels=[\"0–5%\", \"5–15%\", \"15–25%\", \">25%\"])\n",
    "\n",
    "# Групуємо: яка модель найчастіше обрана як best_dem в кожній категорії slope\n",
    "slope_best = df.groupby([\"slope_cat\", \"best_dem\"]).size().reset_index(name=\"count\")\n",
    "\n",
    "# Візуалізуємо\n",
    "plt.figure(figsize=(10, 6))\n",
    "sns.barplot(data=slope_best, x=\"slope_cat\", y=\"count\", hue=\"best_dem\")\n",
    "plt.title(\"Найкраща DEM модель залежно від похилу (slope)\")\n",
    "plt.xlabel(\"Категорія похилу\")\n",
    "plt.ylabel(\"Кількість пікселів\")\n",
    "plt.legend(title=\"Best DEM\")\n",
    "plt.tight_layout()\n",
    "plt.show()\n"
   ],
   "id": "57276f644103f807",
   "outputs": [
    {
     "name": "stderr",
     "output_type": "stream",
     "text": [
      "/tmp/ipykernel_76980/2705957854.py:12: FutureWarning: The default of observed=False is deprecated and will be changed to True in a future version of pandas. Pass observed=False to retain current behavior or observed=True to adopt the future default and silence this warning.\n",
      "  slope_best = df.groupby([\"slope_cat\", \"best_dem\"]).size().reset_index(name=\"count\")\n"
     ]
    },
    {
     "data": {
      "text/plain": [
       "<Figure size 1000x600 with 1 Axes>"
      ],
      "image/png": "[encoded data removed]"
     },
     "metadata": {},
     "output_type": "display_data"
    }
   ],
   "execution_count": 42
  },
  {
   "metadata": {
    "ExecuteTime": {
     "end_time": "2025-07-10T17:05:58.073062Z",
     "start_time": "2025-07-10T17:05:57.952510Z"
    }
   },
   "cell_type": "code",
   "source": [
    "lulc_best = df.groupby([\"lulc\", \"best_dem\"]).size().reset_index(name=\"count\")\n",
    "\n",
    "plt.figure(figsize=(12, 6))\n",
    "sns.barplot(data=lulc_best, x=\"lulc\", y=\"count\", hue=\"best_dem\")\n",
    "plt.title(\"Найкраща DEM модель по класах LULC\")\n",
    "plt.xlabel(\"LULC клас\")\n",
    "plt.ylabel(\"Кількість пікселів\")\n",
    "plt.legend(title=\"Best DEM\")\n",
    "plt.tight_layout()\n",
    "plt.show()\n"
   ],
   "id": "e31453246325534e",
   "outputs": [
    {
     "data": {
      "text/plain": [
       "<Figure size 1200x600 with 1 Axes>"
      ],
      "image/png": "[encoded data removed]"
     },
     "metadata": {},
     "output_type": "display_data"
    }
   ],
   "execution_count": 43
  },
  {
   "metadata": {
    "ExecuteTime": {
     "end_time": "2025-07-10T17:06:07.702397Z",
     "start_time": "2025-07-10T17:06:07.645860Z"
    }
   },
   "cell_type": "code",
   "source": [
    "mean_nmad = df[[\n",
    "    \"nmad_alos\", \"nmad_aster\", \"nmad_cop\", \"nmad_fab\",\n",
    "    \"nmad_nasa\", \"nmad_srtm\", \"nmad_tan\"\n",
    "]].mean().sort_values()\n",
    "\n",
    "print(mean_nmad)\n",
    "import matplotlib.pyplot as plt\n",
    "\n",
    "mean_nmad.plot(kind=\"bar\", figsize=(8, 5), color=\"skyblue\")\n",
    "plt.title(\"Середнє значення NMAD для кожної DEM-моделі\")\n",
    "plt.ylabel(\"NMAD (м)\")\n",
    "plt.xlabel(\"DEM модель\")\n",
    "plt.xticks(rotation=45)\n",
    "plt.tight_layout()\n",
    "plt.grid(True)\n",
    "plt.show()\n"
   ],
   "id": "8f57bcc5a8aa673d",
   "outputs": [
    {
     "name": "stdout",
     "output_type": "stream",
     "text": [
      "nmad_nasa     4.931662\n",
      "nmad_srtm     5.374988\n",
      "nmad_fab      5.438515\n",
      "nmad_alos     5.919334\n",
      "nmad_cop      6.041962\n",
      "nmad_tan      6.046557\n",
      "nmad_aster    6.251135\n",
      "dtype: float64\n"
     ]
    },
    {
     "data": {
      "text/plain": [
       "<Figure size 800x500 with 1 Axes>"
      ],
      "image/png": "[encoded data removed]"
     },
     "metadata": {},
     "output_type": "display_data"
    }
   ],
   "execution_count": 44
  },
  {
   "metadata": {
    "ExecuteTime": {
     "end_time": "2025-07-10T17:06:20.740574Z",
     "start_time": "2025-07-10T17:06:20.230741Z"
    }
   },
   "cell_type": "code",
   "source": [
    "import seaborn as sns\n",
    "\n",
    "nmad_cols = [\n",
    "    \"nmad_alos\", \"nmad_aster\", \"nmad_cop\", \"nmad_fab\",\n",
    "    \"nmad_nasa\", \"nmad_srtm\", \"nmad_tan\"\n",
    "]\n",
    "\n",
    "df_melted = df[nmad_cols].melt(var_name=\"DEM\", value_name=\"NMAD\")\n",
    "\n",
    "plt.figure(figsize=(10, 6))\n",
    "sns.boxplot(data=df_melted, x=\"DEM\", y=\"NMAD\")\n",
    "plt.xticks(rotation=45)\n",
    "plt.title(\"Розподіл NMAD для DEM-моделей (Boxplot)\")\n",
    "plt.tight_layout()\n",
    "plt.show()\n"
   ],
   "id": "db6cb73f205f8b68",
   "outputs": [
    {
     "data": {
      "text/plain": [
       "<Figure size 1000x600 with 1 Axes>"
      ],
      "image/png": "[encoded data removed]"
     },
     "metadata": {},
     "output_type": "display_data"
    }
   ],
   "execution_count": 45
  },
  {
   "metadata": {
    "ExecuteTime": {
     "end_time": "2025-07-10T17:06:37.824462Z",
     "start_time": "2025-07-10T17:06:37.727541Z"
    }
   },
   "cell_type": "code",
   "source": [
    "import seaborn as sns\n",
    "sns.histplot(df[\"nmad_aster\"], bins=100)\n"
   ],
   "id": "bd64c09feee77f8e",
   "outputs": [
    {
     "data": {
      "text/plain": [
       "<Axes: xlabel='nmad_aster', ylabel='Count'>"
      ]
     },
     "execution_count": 46,
     "metadata": {},
     "output_type": "execute_result"
    },
    {
     "data": {
      "text/plain": [
       "<Figure size 640x480 with 1 Axes>"
      ],
      "image/png": "[encoded data removed]"
     },
     "metadata": {},
     "output_type": "display_data"
    }
   ],
   "execution_count": 46
  },
  {
   "metadata": {
    "ExecuteTime": {
     "end_time": "2025-07-10T16:38:51.342253Z",
     "start_time": "2025-07-10T16:38:45.564772Z"
    }
   },
   "cell_type": "code",
   "source": [
    "import os\n",
    "import pandas as pd\n",
    "import matplotlib.pyplot as plt\n",
    "from sklearn.ensemble import RandomForestClassifier\n",
    "from sklearn.preprocessing import OneHotEncoder\n",
    "from sklearn.compose import ColumnTransformer\n",
    "from sklearn.pipeline import Pipeline\n",
    "from sklearn.model_selection import train_test_split\n",
    "from sklearn.metrics import accuracy_score, classification_report, confusion_matrix\n",
    "\n",
    "# Створення директорії\n",
    "os.makedirs(\"data\", exist_ok=True)\n",
    "\n",
    "# Завантаження\n",
    "df = pd.read_parquet(\"data/nmad_best_dem.parquet\")\n",
    "df = df.dropna(subset=[\"lulc\", \"geomorphon\"])\n",
    "\n",
    "\n",
    "# Вхідні змінні та ціль\n",
    "X = df[[\n",
    "    \"lulc\", \"geomorphon\",\n",
    "    \"slope\", \"hand\", \"twi\", \"dist_river\",\n",
    "    \"nmad_alos\", \"nmad_aster\", \"nmad_cop\", \"nmad_fab\",\n",
    "    \"nmad_nasa\", \"nmad_srtm\", \"nmad_tan\"\n",
    "]]\n",
    "y = df[\"best_dem\"]\n",
    "\n",
    "# Визначення типів ознак\n",
    "categorical_features = [\"lulc\", \"geomorphon\"]\n",
    "numerical_features = [\n",
    "    \"slope\", \"hand\", \"twi\", \"dist_river\",\n",
    "    \"nmad_alos\", \"nmad_aster\", \"nmad_cop\", \"nmad_fab\",\n",
    "    \"nmad_nasa\", \"nmad_srtm\", \"nmad_tan\"\n",
    "]\n",
    "\n",
    "# Побудова пайплайну\n",
    "preprocessor = ColumnTransformer([\n",
    "    (\"cat\", OneHotEncoder(handle_unknown=\"ignore\"), categorical_features),\n",
    "    (\"num\", \"passthrough\", numerical_features)\n",
    "])\n",
    "\n",
    "pipeline = Pipeline([\n",
    "    (\"preprocessor\", preprocessor),\n",
    "    (\"classifier\", RandomForestClassifier(n_estimators=100, class_weight=\"balanced\", random_state=42))\n",
    "])\n",
    "\n",
    "# Train-test split\n",
    "X_train, X_test, y_train, y_test = train_test_split(X, y, test_size=0.2, random_state=42)\n",
    "\n",
    "# Навчання\n",
    "pipeline.fit(X_train, y_train)\n",
    "\n",
    "# Передбачення\n",
    "y_pred = pipeline.predict(X_test)\n",
    "\n",
    "# Оцінка\n",
    "print(\"🎯 Accuracy:\", accuracy_score(y_test, y_pred))\n",
    "print(\"\\n📊 Classification Report:\\n\", classification_report(y_test, y_pred))\n",
    "print(\"\\n🧩 Confusion Matrix:\\n\", confusion_matrix(y_test, y_pred))\n",
    "\n",
    "# Важливість ознак (тільки для RandomForest)\n",
    "model = pipeline.named_steps[\"classifier\"]\n",
    "feature_names = pipeline.named_steps[\"preprocessor\"].get_feature_names_out()\n",
    "importances = model.feature_importances_\n",
    "\n",
    "# Візуалізація\n",
    "plt.figure(figsize=(12, 6))\n",
    "plt.barh(feature_names, importances)\n",
    "plt.title(\"🌲 Важливість ознак у Random Forest\")\n",
    "plt.xlabel(\"Importance\")\n",
    "plt.tight_layout()\n",
    "plt.show()\n"
   ],
   "id": "a5ef200ff125179d",
   "outputs": [
    {
     "name": "stdout",
     "output_type": "stream",
     "text": [
      "🎯 Accuracy: 0.8201027317300957\n",
      "\n",
      "📊 Classification Report:\n",
      "               precision    recall  f1-score   support\n",
      "\n",
      "        alos       0.83      0.98      0.90      2149\n",
      "       aster       0.81      0.86      0.83      1072\n",
      "  copernicus       0.63      0.75      0.69      1005\n",
      "         fab       0.87      0.84      0.86      1632\n",
      "        nasa       0.89      0.84      0.87      1258\n",
      "        srtm       0.92      0.78      0.84      1008\n",
      "         tan       0.37      0.05      0.09       442\n",
      "\n",
      "    accuracy                           0.82      8566\n",
      "   macro avg       0.76      0.73      0.72      8566\n",
      "weighted avg       0.81      0.82      0.80      8566\n",
      "\n",
      "\n",
      "🧩 Confusion Matrix:\n",
      " [[2105   12    7   17    4    4    0]\n",
      " [  85  921    7   28   21    9    1]\n",
      " [  67   57  758   61   19    8   35]\n",
      " [  95   51   51 1377   41   14    3]\n",
      " [  82   40   15   37 1058   26    0]\n",
      " [  78   52   12   42   40  783    1]\n",
      " [  32   11  347   23    3    3   23]]\n"
     ]
    },
    {
     "name": "stderr",
     "output_type": "stream",
     "text": [
      "/tmp/ipykernel_76980/2714682171.py:71: UserWarning: Glyph 127794 (\\N{EVERGREEN TREE}) missing from font(s) DejaVu Sans.\n",
      "  plt.tight_layout()\n",
      "/home/niko/miniforge3/envs/geohydroai/lib/python3.11/site-packages/IPython/core/pylabtools.py:170: UserWarning: Glyph 127794 (\\N{EVERGREEN TREE}) missing from font(s) DejaVu Sans.\n",
      "  fig.canvas.print_figure(bytes_io, **kw)\n"
     ]
    },
    {
     "data": {
      "text/plain": [
       "<Figure size 1200x600 with 1 Axes>"
      ],
      "image/png": "[encoded data removed]"
     },
     "metadata": {},
     "output_type": "display_data"
    }
   ],
   "execution_count": 36
  },
  {
   "metadata": {
    "ExecuteTime": {
     "end_time": "2025-07-10T15:49:41.074734Z",
     "start_time": "2025-07-10T15:49:40.487570Z"
    }
   },
   "cell_type": "code",
   "source": [
    "import joblib\n",
    "import numpy as np\n",
    "\n",
    "# Завантаження моделі та енкодера\n",
    "model = joblib.load(\"data/model_best_dem.pkl\")\n",
    "landform_encoder = joblib.load(\"data/landform_encoder.pkl\")\n",
    "\n",
    "def predict_best_dem(slope, hand, twi, dist_river, landform_str):\n",
    "    # Кодуємо landform\n",
    "    landform_encoded = landform_encoder.transform([landform_str])[0]\n",
    "\n",
    "    # Формуємо вхідні дані\n",
    "    features = np.array([[landform_encoded, slope, hand, twi, dist_river]])\n",
    "\n",
    "    # Прогнозуємо найкращий DEM\n",
    "    prediction = model.predict(features)[0]\n",
    "\n",
    "    return prediction\n"
   ],
   "id": "d59d2da13feb38a4",
   "outputs": [],
   "execution_count": 20
  },
  {
   "metadata": {
    "ExecuteTime": {
     "end_time": "2025-07-10T15:50:53.892350Z",
     "start_time": "2025-07-10T15:50:53.846210Z"
    }
   },
   "cell_type": "code",
   "source": [
    "\n",
    "\n",
    "best = predict_best_dem(\n",
    "    slope=10,\n",
    "    hand=3,\n",
    "    twi=7,\n",
    "    dist_river=180,\n",
    "    landform_str=\"Trees\"  # ← те, що було у твоїх даних\n",
    ")\n",
    "\n",
    "print(\"🌍 Найкращий DEM для цієї точки:\", best)\n"
   ],
   "id": "6a8e6e195eba42c7",
   "outputs": [
    {
     "ename": "ValueError",
     "evalue": "y contains previously unseen labels: 'Trees'",
     "output_type": "error",
     "traceback": [
      "\u001B[31m---------------------------------------------------------------------------\u001B[39m",
      "\u001B[31mKeyError\u001B[39m                                  Traceback (most recent call last)",
      "\u001B[36mFile \u001B[39m\u001B[32m~/miniforge3/envs/geohydroai/lib/python3.11/site-packages/sklearn/utils/_encode.py:235\u001B[39m, in \u001B[36m_encode\u001B[39m\u001B[34m(values, uniques, check_unknown)\u001B[39m\n\u001B[32m    234\u001B[39m \u001B[38;5;28;01mtry\u001B[39;00m:\n\u001B[32m--> \u001B[39m\u001B[32m235\u001B[39m     \u001B[38;5;28;01mreturn\u001B[39;00m \u001B[43m_map_to_integer\u001B[49m\u001B[43m(\u001B[49m\u001B[43mvalues\u001B[49m\u001B[43m,\u001B[49m\u001B[43m \u001B[49m\u001B[43muniques\u001B[49m\u001B[43m)\u001B[49m\n\u001B[32m    236\u001B[39m \u001B[38;5;28;01mexcept\u001B[39;00m \u001B[38;5;167;01mKeyError\u001B[39;00m \u001B[38;5;28;01mas\u001B[39;00m e:\n",
      "\u001B[36mFile \u001B[39m\u001B[32m~/miniforge3/envs/geohydroai/lib/python3.11/site-packages/sklearn/utils/_encode.py:174\u001B[39m, in \u001B[36m_map_to_integer\u001B[39m\u001B[34m(values, uniques)\u001B[39m\n\u001B[32m    173\u001B[39m table = _nandict({val: i \u001B[38;5;28;01mfor\u001B[39;00m i, val \u001B[38;5;129;01min\u001B[39;00m \u001B[38;5;28menumerate\u001B[39m(uniques)})\n\u001B[32m--> \u001B[39m\u001B[32m174\u001B[39m \u001B[38;5;28;01mreturn\u001B[39;00m xp.asarray(\u001B[43m[\u001B[49m\u001B[43mtable\u001B[49m\u001B[43m[\u001B[49m\u001B[43mv\u001B[49m\u001B[43m]\u001B[49m\u001B[43m \u001B[49m\u001B[38;5;28;43;01mfor\u001B[39;49;00m\u001B[43m \u001B[49m\u001B[43mv\u001B[49m\u001B[43m \u001B[49m\u001B[38;5;129;43;01min\u001B[39;49;00m\u001B[43m \u001B[49m\u001B[43mvalues\u001B[49m\u001B[43m]\u001B[49m, device=device(values))\n",
      "\u001B[36mFile \u001B[39m\u001B[32m~/miniforge3/envs/geohydroai/lib/python3.11/site-packages/sklearn/utils/_encode.py:174\u001B[39m, in \u001B[36m<listcomp>\u001B[39m\u001B[34m(.0)\u001B[39m\n\u001B[32m    173\u001B[39m table = _nandict({val: i \u001B[38;5;28;01mfor\u001B[39;00m i, val \u001B[38;5;129;01min\u001B[39;00m \u001B[38;5;28menumerate\u001B[39m(uniques)})\n\u001B[32m--> \u001B[39m\u001B[32m174\u001B[39m \u001B[38;5;28;01mreturn\u001B[39;00m xp.asarray([\u001B[43mtable\u001B[49m\u001B[43m[\u001B[49m\u001B[43mv\u001B[49m\u001B[43m]\u001B[49m \u001B[38;5;28;01mfor\u001B[39;00m v \u001B[38;5;129;01min\u001B[39;00m values], device=device(values))\n",
      "\u001B[36mFile \u001B[39m\u001B[32m~/miniforge3/envs/geohydroai/lib/python3.11/site-packages/sklearn/utils/_encode.py:167\u001B[39m, in \u001B[36m_nandict.__missing__\u001B[39m\u001B[34m(self, key)\u001B[39m\n\u001B[32m    166\u001B[39m     \u001B[38;5;28;01mreturn\u001B[39;00m \u001B[38;5;28mself\u001B[39m.nan_value\n\u001B[32m--> \u001B[39m\u001B[32m167\u001B[39m \u001B[38;5;28;01mraise\u001B[39;00m \u001B[38;5;167;01mKeyError\u001B[39;00m(key)\n",
      "\u001B[31mKeyError\u001B[39m: 'Trees'",
      "\nDuring handling of the above exception, another exception occurred:\n",
      "\u001B[31mValueError\u001B[39m                                Traceback (most recent call last)",
      "\u001B[36mCell\u001B[39m\u001B[36m \u001B[39m\u001B[32mIn[22]\u001B[39m\u001B[32m, line 1\u001B[39m\n\u001B[32m----> \u001B[39m\u001B[32m1\u001B[39m best = \u001B[43mpredict_best_dem\u001B[49m\u001B[43m(\u001B[49m\n\u001B[32m      2\u001B[39m \u001B[43m    \u001B[49m\u001B[43mslope\u001B[49m\u001B[43m=\u001B[49m\u001B[32;43m10\u001B[39;49m\u001B[43m,\u001B[49m\n\u001B[32m      3\u001B[39m \u001B[43m    \u001B[49m\u001B[43mhand\u001B[49m\u001B[43m=\u001B[49m\u001B[32;43m3\u001B[39;49m\u001B[43m,\u001B[49m\n\u001B[32m      4\u001B[39m \u001B[43m    \u001B[49m\u001B[43mtwi\u001B[49m\u001B[43m=\u001B[49m\u001B[32;43m7\u001B[39;49m\u001B[43m,\u001B[49m\n\u001B[32m      5\u001B[39m \u001B[43m    \u001B[49m\u001B[43mdist_river\u001B[49m\u001B[43m=\u001B[49m\u001B[32;43m180\u001B[39;49m\u001B[43m,\u001B[49m\n\u001B[32m      6\u001B[39m \u001B[43m    \u001B[49m\u001B[43mlandform_str\u001B[49m\u001B[43m=\u001B[49m\u001B[33;43m\"\u001B[39;49m\u001B[33;43mTrees\u001B[39;49m\u001B[33;43m\"\u001B[39;49m\u001B[43m  \u001B[49m\u001B[38;5;66;43;03m# ← те, що було у твоїх даних\u001B[39;49;00m\n\u001B[32m      7\u001B[39m \u001B[43m)\u001B[49m\n\u001B[32m      9\u001B[39m \u001B[38;5;28mprint\u001B[39m(\u001B[33m\"\u001B[39m\u001B[33m🌍 Найкращий DEM для цієї точки:\u001B[39m\u001B[33m\"\u001B[39m, best)\n",
      "\u001B[36mCell\u001B[39m\u001B[36m \u001B[39m\u001B[32mIn[20]\u001B[39m\u001B[32m, line 10\u001B[39m, in \u001B[36mpredict_best_dem\u001B[39m\u001B[34m(slope, hand, twi, dist_river, landform_str)\u001B[39m\n\u001B[32m      8\u001B[39m \u001B[38;5;28;01mdef\u001B[39;00m\u001B[38;5;250m \u001B[39m\u001B[34mpredict_best_dem\u001B[39m(slope, hand, twi, dist_river, landform_str):\n\u001B[32m      9\u001B[39m     \u001B[38;5;66;03m# Кодуємо landform\u001B[39;00m\n\u001B[32m---> \u001B[39m\u001B[32m10\u001B[39m     landform_encoded = \u001B[43mlandform_encoder\u001B[49m\u001B[43m.\u001B[49m\u001B[43mtransform\u001B[49m\u001B[43m(\u001B[49m\u001B[43m[\u001B[49m\u001B[43mlandform_str\u001B[49m\u001B[43m]\u001B[49m\u001B[43m)\u001B[49m[\u001B[32m0\u001B[39m]\n\u001B[32m     12\u001B[39m     \u001B[38;5;66;03m# Формуємо вхідні дані\u001B[39;00m\n\u001B[32m     13\u001B[39m     features = np.array([[landform_encoded, slope, hand, twi, dist_river]])\n",
      "\u001B[36mFile \u001B[39m\u001B[32m~/miniforge3/envs/geohydroai/lib/python3.11/site-packages/sklearn/preprocessing/_label.py:134\u001B[39m, in \u001B[36mLabelEncoder.transform\u001B[39m\u001B[34m(self, y)\u001B[39m\n\u001B[32m    131\u001B[39m \u001B[38;5;28;01mif\u001B[39;00m _num_samples(y) == \u001B[32m0\u001B[39m:\n\u001B[32m    132\u001B[39m     \u001B[38;5;28;01mreturn\u001B[39;00m xp.asarray([])\n\u001B[32m--> \u001B[39m\u001B[32m134\u001B[39m \u001B[38;5;28;01mreturn\u001B[39;00m \u001B[43m_encode\u001B[49m\u001B[43m(\u001B[49m\u001B[43my\u001B[49m\u001B[43m,\u001B[49m\u001B[43m \u001B[49m\u001B[43muniques\u001B[49m\u001B[43m=\u001B[49m\u001B[38;5;28;43mself\u001B[39;49m\u001B[43m.\u001B[49m\u001B[43mclasses_\u001B[49m\u001B[43m)\u001B[49m\n",
      "\u001B[36mFile \u001B[39m\u001B[32m~/miniforge3/envs/geohydroai/lib/python3.11/site-packages/sklearn/utils/_encode.py:237\u001B[39m, in \u001B[36m_encode\u001B[39m\u001B[34m(values, uniques, check_unknown)\u001B[39m\n\u001B[32m    235\u001B[39m         \u001B[38;5;28;01mreturn\u001B[39;00m _map_to_integer(values, uniques)\n\u001B[32m    236\u001B[39m     \u001B[38;5;28;01mexcept\u001B[39;00m \u001B[38;5;167;01mKeyError\u001B[39;00m \u001B[38;5;28;01mas\u001B[39;00m e:\n\u001B[32m--> \u001B[39m\u001B[32m237\u001B[39m         \u001B[38;5;28;01mraise\u001B[39;00m \u001B[38;5;167;01mValueError\u001B[39;00m(\u001B[33mf\u001B[39m\u001B[33m\"\u001B[39m\u001B[33my contains previously unseen labels: \u001B[39m\u001B[38;5;132;01m{\u001B[39;00me\u001B[38;5;132;01m}\u001B[39;00m\u001B[33m\"\u001B[39m)\n\u001B[32m    238\u001B[39m \u001B[38;5;28;01melse\u001B[39;00m:\n\u001B[32m    239\u001B[39m     \u001B[38;5;28;01mif\u001B[39;00m check_unknown:\n",
      "\u001B[31mValueError\u001B[39m: y contains previously unseen labels: 'Trees'"
     ]
    }
   ],
   "execution_count": 22
  },
  {
   "metadata": {
    "ExecuteTime": {
     "end_time": "2025-07-10T15:35:30.858416Z",
     "start_time": "2025-07-10T15:35:30.557386Z"
    }
   },
   "cell_type": "code",
   "source": [
    "# train_model_enhanced.py\n",
    "\n",
    "import pandas as pd\n",
    "from sklearn.ensemble import RandomForestClassifier\n",
    "from sklearn.model_selection import train_test_split\n",
    "from sklearn.preprocessing import LabelEncoder\n",
    "import joblib\n",
    "import os\n",
    "\n",
    "# Створюємо директорію для моделі, якщо її ще немає\n",
    "os.makedirs(\"data\", exist_ok=True)\n",
    "\n",
    "# Завантажуємо parquet з оцінками похибок і DEM\n",
    "df = pd.read_parquet(\"data/nmad_best_dem.parquet\")\n",
    "\n",
    "# 🔎 Фільтруємо лише ті точки, де HAND < 10 метрів — критично важлива зона\n",
    "df = df[df[\"hand\"] < 10]\n",
    "\n",
    "# 🎯 Кодуємо landform у числовий формат\n",
    "le = LabelEncoder()\n",
    "df[\"landform_encoded\"] = le.fit_transform(df[\"landform\"])\n",
    "\n",
    "# 🧾 Вхідні ознаки — враховуємо як геоморфологію, так і NMAD-похибки DEM\n",
    "X = df[[\n",
    "    \"landform_encoded\", \"slope\", \"hand\", \"twi\", \"dist_river\",\n",
    "    \"nmad_alos\", \"nmad_aster\", \"nmad_cop\", \"nmad_fab\",\n",
    "    \"nmad_nasa\", \"nmad_srtm\", \"nmad_tan\"\n",
    "]]\n",
    "\n",
    "# 🎯 Цільова змінна — яка DEM є найкращою\n",
    "y = df[\"best_dem\"]\n",
    "\n",
    "# 🔀 Розділення на тренувальну і тестову вибірки\n",
    "X_train, X_test, y_train, y_test = train_test_split(\n",
    "    X, y, test_size=0.2, random_state=42\n",
    ")\n",
    "\n",
    "# 🌳 Навчання RandomForest\n",
    "model = RandomForestClassifier(n_estimators=100, random_state=42)\n",
    "model.fit(X_train, y_train)\n",
    "\n",
    "# 💾 Зберігаємо модель і енкодер\n",
    "joblib.dump(model, \"data/model_best_dem_enhanced.pkl\")\n",
    "joblib.dump(le, \"data/landform_encoder.pkl\")\n",
    "\n",
    "print(\"✅ Збережено model_best_dem_enhanced.pkl і landform_encoder.pkl\")\n"
   ],
   "id": "850d3ce129d80866",
   "outputs": [
    {
     "name": "stdout",
     "output_type": "stream",
     "text": [
      "✅ Збережено model_best_dem_enhanced.pkl і landform_encoder.pkl\n"
     ]
    }
   ],
   "execution_count": 13
  }
 ],
 "metadata": {
  "kernelspec": {
   "display_name": "Python 3",
   "language": "python",
   "name": "python3"
  },
  "language_info": {
   "codemirror_mode": {
    "name": "ipython",
    "version": 2
   },
   "file_extension": ".py",
   "mimetype": "text/x-python",
   "name": "python",
   "nbconvert_exporter": "python",
   "pygments_lexer": "ipython2",
   "version": "2.7.6"
  }
 },
 "nbformat": 4,
 "nbformat_minor": 5
}
