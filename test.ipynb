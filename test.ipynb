{
 "cells": [
  {
   "cell_type": "code",
   "id": "initial_id",
   "metadata": {
    "collapsed": true
   },
   "source": [
    ""
   ],
   "outputs": [],
   "execution_count": null
  },
  {
   "metadata": {},
   "cell_type": "code",
   "source": "import dask.dataframe as dd\n",
   "id": "f0c6229063b3fdbf",
   "outputs": [],
   "execution_count": null
  },
  {
   "metadata": {},
   "cell_type": "code",
   "source": "df = dd.read_parquet(\"data/icesat2_dem_filtered_fixed_1.parquet\")\n",
   "id": "f5932996e2163d70",
   "outputs": [],
   "execution_count": null
  },
  {
   "metadata": {},
   "cell_type": "code",
   "source": [
    "for x in  df.columns:\n",
    "    print(x)\n"
   ],
   "id": "2435185f1e938978",
   "outputs": [],
   "execution_count": null
  },
  {
   "metadata": {},
   "cell_type": "code",
   "source": [
    "import duckdb\n",
    "\n",
    "duckdb.sql(\"\"\"\n",
    "    COPY (\n",
    "        SELECT * EXCLUDE geometry FROM 'data/icesat2_dem.parquet'\n",
    "        WHERE atl03_cnf = 4 AND atl08_class = 1\n",
    "    )\n",
    "    TO 'data/icesat2_dem_filtered.parquet' (FORMAT PARQUET)\n",
    "\"\"\")\n"
   ],
   "id": "f86defbe648dafcd",
   "outputs": [],
   "execution_count": null
  },
  {
   "metadata": {},
   "cell_type": "code",
   "source": [
    "import duckdb\n",
    "\n",
    "# 1. Відкриваємо Parquet як DuckDB-таблицю\n",
    "duckdb.sql(\"\"\"\n",
    "    CREATE OR REPLACE TABLE temp_table AS\n",
    "    SELECT\n",
    "        *,\n",
    "        \"copernicus_dеm_slope\" AS \"copernicus_dem_slope\"\n",
    "    FROM 'data/icesat2_dem_filtered.parquet'\n",
    "\"\"\")\n",
    "\n",
    "# 2. Видаляємо стару колонку з кирилицею (опціонально)\n",
    "duckdb.sql(\"\"\"\n",
    "    ALTER TABLE temp_table DROP COLUMN \"copernicus_dеm_slope\"\n",
    "\"\"\")\n",
    "\n",
    "# 3. Зберігаємо як новий Parquet-файл з правильними назвами колонок\n",
    "duckdb.sql(\"\"\"\n",
    "    COPY temp_table TO 'data/icesat2_dem_filtered_fixed.parquet' (FORMAT PARQUET)\n",
    "\"\"\")\n"
   ],
   "id": "fd6a8cb85ae33960",
   "outputs": [],
   "execution_count": null
  },
  {
   "metadata": {},
   "cell_type": "code",
   "source": [
    "import pandas as pd\n",
    "\n",
    "# 1. Завантажуємо Parquet\n",
    "df = pd.read_parquet(\"data/icesat2_dem_filtered.parquet\")\n",
    "\n",
    "# 2. Замінюємо всі кириличні “е” на латиничні “e” в усіх назвах колонок\n",
    "df.columns = [col.replace(\"е\", \"e\") for col in df.columns]\n",
    "\n",
    "# 3. Зберігаємо новий файл\n",
    "df.to_parquet(\"data/icesat2_dem_filtered_fixed_1.parquet\")\n"
   ],
   "id": "8a014c7f6b8758e4",
   "outputs": [],
   "execution_count": null
  },
  {
   "metadata": {},
   "cell_type": "code",
   "source": [
    "import pandas as pd\n",
    "df = pd.read_parquet(\"data/icesat2_dem_filtered_fixed_1.parquet\")\n",
    "print(df[\"lulc_class\"].unique())\n",
    "print(df[\"copernicus_dem_landform\"].unique())\n"
   ],
   "id": "ef15420b6317d87b",
   "outputs": [],
   "execution_count": null
  },
  {
   "metadata": {},
   "cell_type": "code",
   "source": [
    "import duckdb\n",
    "parquet_file = \"data/icesat2_dem_filtered_fixed_1.parquet\"\n",
    "dem = \"copernicus_dem\"\n",
    "\n",
    "# Унікальні LULC класи\n",
    "print(duckdb.sql(f\"SELECT DISTINCT lulc_name FROM '{parquet_file}' WHERE delta_{dem} IS NOT NULL\").df())\n",
    "\n",
    "# Унікальні landform класи\n",
    "print(duckdb.sql(f\"SELECT DISTINCT {dem}_landform FROM '{parquet_file}' WHERE {dem}_landform IS NOT NULL\").df())\n"
   ],
   "id": "95f9811470cdeb3",
   "outputs": [],
   "execution_count": null
  },
  {
   "metadata": {},
   "cell_type": "code",
   "source": [
    "import duckdb\n",
    "parquet_file = \"data/icesat2_dem_filtered_fixed_1.parquet\"\n",
    "duckdb.sql(f\"PRAGMA table_info('{parquet_file}')\").df()\n"
   ],
   "id": "55061dce09e1198d",
   "outputs": [],
   "execution_count": null
  },
  {
   "metadata": {},
   "cell_type": "code",
   "source": [
    "dem = \"alos_dem\"\n",
    "sql = f\"SELECT COUNT(*) as n FROM '{parquet_file}' WHERE delta_{dem} IS NOT NULL\"\n",
    "print(duckdb.sql(sql).df())\n"
   ],
   "id": "2a928228af348afe",
   "outputs": [],
   "execution_count": null
  },
  {
   "metadata": {},
   "cell_type": "code",
   "source": [
    "sql = f\"SELECT COUNT(*) as n FROM '{parquet_file}' WHERE {dem}_slope IS NOT NULL\"\n",
    "print(duckdb.sql(sql).df())\n"
   ],
   "id": "914d45f16b70eb4a",
   "outputs": [],
   "execution_count": null
  },
  {
   "metadata": {},
   "cell_type": "code",
   "source": [
    "sql = f\"SELECT DISTINCT delta_{dem} FROM '{parquet_file}' LIMIT 10\"\n",
    "print(duckdb.sql(sql).df())"
   ],
   "id": "762b0f0d12160829",
   "outputs": [],
   "execution_count": null
  },
  {
   "metadata": {},
   "cell_type": "code",
   "source": [
    "import duckdb\n",
    "parquet_file = \"data/icesat2_dem_filtered_fixed_1.parquet\"\n",
    "dem = \"alos_dem\"\n",
    "dff = duckdb.sql(f\"SELECT delta_{dem} FROM '{parquet_file}' WHERE delta_{dem} IS NOT NULL LIMIT 20\").df()\n",
    "print(dff.head())\n",
    "print(dff.shape)\n",
    "\n"
   ],
   "id": "589425418d809bb5",
   "outputs": [],
   "execution_count": null
  },
  {
   "metadata": {},
   "cell_type": "code",
   "source": [
    "import duckdb\n",
    "parquet_file = \"data/icesat2_dem_filtered_fixed_1.parquet\"\n",
    "dem = \"alos_dem\"\n",
    "print(\"Check if parquet readable and not empty...\")\n",
    "dff = duckdb.sql(f\"SELECT delta_{dem} FROM '{parquet_file}' WHERE delta_{dem} IS NOT NULL\").df()\n",
    "print(dff)\n"
   ],
   "id": "3c01e5519a6e7518",
   "outputs": [],
   "execution_count": null
  },
  {
   "metadata": {},
   "cell_type": "code",
   "source": [
    "import plotly.graph_objects as go\n",
    "fig = go.Figure()\n",
    "fig.add_box(y=dff[f\"delta_{dem}\"], name=f\"delta_{dem}\")\n",
    "fig.show()\n"
   ],
   "id": "5751cf03def43212",
   "outputs": [],
   "execution_count": null
  }
 ],
 "metadata": {
  "kernelspec": {
   "display_name": "Python 3",
   "language": "python",
   "name": "python3"
  },
  "language_info": {
   "codemirror_mode": {
    "name": "ipython",
    "version": 2
   },
   "file_extension": ".py",
   "mimetype": "text/x-python",
   "name": "python",
   "nbconvert_exporter": "python",
   "pygments_lexer": "ipython2",
   "version": "2.7.6"
  }
 },
 "nbformat": 4,
 "nbformat_minor": 5
}
