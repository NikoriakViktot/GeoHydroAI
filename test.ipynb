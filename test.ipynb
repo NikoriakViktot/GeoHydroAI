{
 "cells": [
  {
   "cell_type": "code",
   "id": "initial_id",
   "metadata": {
    "collapsed": true
   },
   "source": [
    ""
   ],
   "outputs": [],
   "execution_count": null
  },
  {
   "metadata": {
    "ExecuteTime": {
     "end_time": "2025-07-08T06:43:00.516506Z",
     "start_time": "2025-07-08T06:42:59.474155Z"
    }
   },
   "cell_type": "code",
   "source": "import dask.dataframe as dd\n",
   "id": "f0c6229063b3fdbf",
   "outputs": [],
   "execution_count": 1
  },
  {
   "metadata": {},
   "cell_type": "code",
   "outputs": [],
   "execution_count": null,
   "source": "",
   "id": "fe6d87e159b51288"
  },
  {
   "metadata": {
    "ExecuteTime": {
     "end_time": "2025-07-08T06:43:01.439613Z",
     "start_time": "2025-07-08T06:43:01.223644Z"
    }
   },
   "cell_type": "code",
   "source": "df = dd.read_parquet(\"data/tracks_4326.parquet\")\n",
   "id": "f5932996e2163d70",
   "outputs": [],
   "execution_count": 2
  },
  {
   "metadata": {
    "ExecuteTime": {
     "end_time": "2025-07-08T06:43:03.242500Z",
     "start_time": "2025-07-08T06:43:03.240183Z"
    }
   },
   "cell_type": "code",
   "source": [
    "for x in  df.columns:\n",
    "    print(x)\n"
   ],
   "id": "2435185f1e938978",
   "outputs": [
    {
     "name": "stdout",
     "output_type": "stream",
     "text": [
      "region\n",
      "sc_orient\n",
      "track\n",
      "segment_dist\n",
      "solar_elevation\n",
      "segment_id\n",
      "background_rate\n",
      "cycle\n",
      "pair\n",
      "rgt\n",
      "snowcover\n",
      "yapc_score\n",
      "height\n",
      "y_atc\n",
      "landcover\n",
      "x_atc\n",
      "relief\n",
      "quality_ph\n",
      "atl03_cnf\n",
      "atl08_class\n",
      "spot\n",
      "time\n",
      "geoid_height\n",
      "orthometric_height\n",
      "h_alos_dem\n",
      "delta_alos_dem\n",
      "abs_delta_alos_dem\n",
      "h_aster_dem\n",
      "delta_aster_dem\n",
      "abs_delta_aster_dem\n",
      "h_copernicus_dеm\n",
      "delta_copernicus_dеm\n",
      "abs_delta_copernicus_dеm\n",
      "h_fab_dem\n",
      "delta_fab_dem\n",
      "abs_delta_fab_dem\n",
      "h_nasa_dem\n",
      "delta_nasa_dem\n",
      "abs_delta_nasa_dem\n",
      "h_srtm_dem\n",
      "delta_srtm_dem\n",
      "abs_delta_srtm_dem\n",
      "h_tan_dem\n",
      "delta_tan_dem\n",
      "abs_delta_tan_dem\n",
      "year\n",
      "lulc_class\n",
      "lulc_name\n",
      "alos_dem_slope\n",
      "aster_dem_slope\n",
      "copernicus_dеm_slope\n",
      "fab_dem_slope\n",
      "nasa_dem_slope\n",
      "srtm_dem_slope\n",
      "tan_dem_slope\n",
      "alos_dem_geomorphon\n",
      "alos_dem_landform\n",
      "aster_dem_geomorphon\n",
      "aster_dem_landform\n",
      "copernicus_dеm_geomorphon\n",
      "copernicus_dеm_landform\n",
      "fab_dem_geomorphon\n",
      "fab_dem_landform\n",
      "nasa_dem_geomorphon\n",
      "nasa_dem_landform\n",
      "srtm_dem_geomorphon\n",
      "srtm_dem_landform\n",
      "tan_dem_geomorphon\n",
      "tan_dem_landform\n",
      "alos_dem_2000\n",
      "aster_dem_2000\n",
      "copernicus_dеm_2000\n",
      "fab_dem_2000\n",
      "nasa_dem_2000\n",
      "srtm_dem_2000\n",
      "tan_dem_2000\n",
      "alos_dem_stream\n",
      "aster_dem_stream\n",
      "copernicus_dеm_stream\n",
      "fab_dem_stream\n",
      "nasa_dem_stream\n",
      "srtm_dem_stream\n",
      "tan_dem_stream\n",
      "alos_dem_twi\n",
      "aster_dem_twi\n",
      "copernicus_dеm_twi\n",
      "fab_dem_twi\n",
      "nasa_dem_twi\n",
      "srtm_dem_twi\n",
      "tan_dem_twi\n",
      "__index_level_0__\n",
      "geometry\n",
      "geometry_bbox\n"
     ]
    }
   ],
   "execution_count": 3
  },
  {
   "metadata": {
    "ExecuteTime": {
     "end_time": "2025-07-08T06:58:26.862391Z",
     "start_time": "2025-07-08T06:58:23.612364Z"
    }
   },
   "cell_type": "code",
   "source": [
    "print(df.head())\n",
    "print(df.describe())"
   ],
   "id": "51d9ccf5fd283ef3",
   "outputs": [
    {
     "name": "stdout",
     "output_type": "stream",
     "text": [
      "   region  sc_orient  track  segment_dist  solar_elevation  segment_id  \\\n",
      "0     6.0        1.0    1.0  1.472979e+07       -40.574768    735401.0   \n",
      "1     6.0        1.0    1.0  1.472979e+07       -40.574768    735401.0   \n",
      "2     6.0        1.0    1.0  1.472979e+07       -40.574768    735401.0   \n",
      "3     6.0        1.0    1.0  1.472979e+07       -40.574768    735401.0   \n",
      "4     6.0        1.0    1.0  1.472979e+07       -40.574768    735401.0   \n",
      "\n",
      "   background_rate  cycle  pair    rgt  ...  alos_dem_twi  aster_dem_twi  \\\n",
      "0      2756.054548    1.0   0.0  556.0  ...      5.623988       4.552485   \n",
      "1      2756.054548    1.0   0.0  556.0  ...      5.623988       4.552485   \n",
      "2      2756.054548    1.0   0.0  556.0  ...      5.623988       4.552485   \n",
      "3      2756.054548    1.0   0.0  556.0  ...      4.273866       4.552485   \n",
      "4      2756.054548    1.0   0.0  556.0  ...      4.273866       4.904620   \n",
      "\n",
      "   copernicus_dеm_twi  fab_dem_twi  nasa_dem_twi  srtm_dem_twi  tan_dem_twi  \\\n",
      "0            5.088821     5.662695      4.363451      4.352303     5.088826   \n",
      "1            5.088821     5.662695      4.363451      4.352303     5.088826   \n",
      "2            5.088821     5.662695      4.363451      4.352303     5.088826   \n",
      "3            5.088821     5.662695      4.363451      4.352303     5.088826   \n",
      "4            4.333069     5.535255      4.164953      4.166748     4.333070   \n",
      "\n",
      "        __index_level_0__                                           geometry  \\\n",
      "0 2018-11-04 01:05:31.626  b\"\\x01\\x01\\x00\\x00\\x00m\\xba1\\xac'\\xc28@\\x9b\\xa...   \n",
      "1 2018-11-04 01:05:31.626  b\"\\x01\\x01\\x00\\x00\\x00\\xb4\\x08|\\xd5'\\xc28@3\\xb...   \n",
      "2 2018-11-04 01:05:31.626  b\"\\x01\\x01\\x00\\x00\\x00\\xfd\\x10>\\xa3'\\xc28@\\xf8...   \n",
      "3 2018-11-04 01:05:31.628  b'\\x01\\x01\\x00\\x00\\x00\\xe8\\x92\\x05\\xc8&\\xc28@O...   \n",
      "4 2018-11-04 01:05:31.630  b'\\x01\\x01\\x00\\x00\\x00\\xd4SW\\x8e%\\xc28@!\\x06\\x...   \n",
      "\n",
      "                                       geometry_bbox  \n",
      "0  {'xmin': 24.7584171295166, 'ymin': 47.97346878...  \n",
      "1  {'xmin': 24.7584171295166, 'ymin': 47.97346878...  \n",
      "2  {'xmin': 24.7584171295166, 'ymin': 47.97345733...  \n",
      "3  {'xmin': 24.758403778076172, 'ymin': 47.973373...  \n",
      "4  {'xmin': 24.758384704589844, 'ymin': 47.973232...  \n",
      "\n",
      "[5 rows x 93 columns]\n",
      "Dask DataFrame Structure:\n",
      "                region sc_orient    track segment_dist solar_elevation segment_id background_rate    cycle     pair      rgt snowcover yapc_score   height    y_atc landcover    x_atc   relief quality_ph atl03_cnf atl08_class     spot    time geoid_height orthometric_height h_alos_dem delta_alos_dem abs_delta_alos_dem h_aster_dem delta_aster_dem abs_delta_aster_dem h_copernicus_dеm delta_copernicus_dеm abs_delta_copernicus_dеm h_fab_dem delta_fab_dem abs_delta_fab_dem h_nasa_dem delta_nasa_dem abs_delta_nasa_dem h_srtm_dem delta_srtm_dem abs_delta_srtm_dem h_tan_dem delta_tan_dem abs_delta_tan_dem     year lulc_class alos_dem_slope aster_dem_slope copernicus_dеm_slope fab_dem_slope nasa_dem_slope srtm_dem_slope tan_dem_slope alos_dem_geomorphon aster_dem_geomorphon copernicus_dеm_geomorphon fab_dem_geomorphon nasa_dem_geomorphon srtm_dem_geomorphon tan_dem_geomorphon alos_dem_2000 aster_dem_2000 copernicus_dеm_2000 fab_dem_2000 nasa_dem_2000 srtm_dem_2000 tan_dem_2000 alos_dem_stream aster_dem_stream copernicus_dеm_stream fab_dem_stream nasa_dem_stream srtm_dem_stream tan_dem_stream alos_dem_twi aster_dem_twi copernicus_dеm_twi fab_dem_twi nasa_dem_twi srtm_dem_twi tan_dem_twi __index_level_0__\n",
      "npartitions=1                                                                                                                                                                                                                                                                                                                                                                                                                                                                                                                                                                                                                                                                                                                                                                                                                                                                                                                                                                                                                                                                                                                                                                                                                                               \n",
      "               float64   float64  float64      float64         float64    float64         float64  float64  float64  float64   float64    float64  float64  float64   float64  float64  float64    float64   float64     float64  float64  object      float64            float64    float64        float64            float64     float64         float64             float64          float64              float64                  float64   float64       float64           float64    float64        float64            float64    float64        float64            float64   float64       float64           float64  float64    float64        float64         float64              float64       float64        float64        float64       float64             float64              float64                   float64            float64             float64             float64            float64       float64        float64             float64      float64       float64       float64      float64         float64          float64               float64        float64         float64         float64        float64      float64       float64            float64     float64      float64      float64     float64            object\n",
      "                   ...       ...      ...          ...             ...        ...             ...      ...      ...      ...       ...        ...      ...      ...       ...      ...      ...        ...       ...         ...      ...     ...          ...                ...        ...            ...                ...         ...             ...                 ...              ...                  ...                      ...       ...           ...               ...        ...            ...                ...        ...            ...                ...       ...           ...               ...      ...        ...            ...             ...                  ...           ...            ...            ...           ...                 ...                  ...                       ...                ...                 ...                 ...                ...           ...            ...                 ...          ...           ...           ...          ...             ...              ...                   ...            ...             ...             ...            ...          ...           ...                ...         ...          ...          ...         ...               ...\n",
      "Dask Name: concat, 168 expressions\n",
      "Expr=Concat(frames=[ReadParquetFSSpec(c94e80d)['region'].describenumeric(split_every=False), ReadParquetFSSpec(c94e80d)['sc_orient'].describenumeric(split_every=False), ReadParquetFSSpec(c94e80d)['track'].describenumeric(split_every=False), ReadParquetFSSpec(c94e80d)['segment_dist'].describenumeric(split_every=False), ReadParquetFSSpec(c94e80d)['solar_elevation'].describenumeric(split_every=False), ReadParquetFSSpec(c94e80d)['segment_id'].describenumeric(split_every=False), ReadParquetFSSpec(c94e80d)['background_rate'].describenumeric(split_every=False), ReadParquetFSSpec(c94e80d)['cycle'].describenumeric(split_every=False), ReadParquetFSSpec(c94e80d)['pair'].describenumeric(split_every=False), ReadParquetFSSpec(c94e80d)['rgt'].describenumeric(split_every=False), ReadParquetFSSpec(c94e80d)['snowcover'].describenumeric(split_every=False), ReadParquetFSSpec(c94e80d)['yapc_score'].describenumeric(split_every=False), ReadParquetFSSpec(c94e80d)['height'].describenumeric(split_every=False), ReadParquetFSSpec(c94e80d)['y_atc'].describenumeric(split_every=False), ReadParquetFSSpec(c94e80d)['landcover'].describenumeric(split_every=False), ReadParquetFSSpec(c94e80d)['x_atc'].describenumeric(split_every=False), ReadParquetFSSpec(c94e80d)['relief'].describenumeric(split_every=False), ReadParquetFSSpec(c94e80d)['quality_ph'].describenumeric(split_every=False), ReadParquetFSSpec(c94e80d)['atl03_cnf'].describenumeric(split_every=False), ReadParquetFSSpec(c94e80d)['atl08_class'].describenumeric(split_every=False), ReadParquetFSSpec(c94e80d)['spot'].describenumeric(split_every=False), ReadParquetFSSpec(c94e80d)['time'].describenumeric(split_every=False), ReadParquetFSSpec(c94e80d)['geoid_height'].describenumeric(split_every=False), ReadParquetFSSpec(c94e80d)['orthometric_height'].describenumeric(split_every=False), ReadParquetFSSpec(c94e80d)['h_alos_dem'].describenumeric(split_every=False), ReadParquetFSSpec(c94e80d)['delta_alos_dem'].describenumeric(split_every=False), ReadParquetFSSpec(c94e80d)['abs_delta_alos_dem'].describenumeric(split_every=False), ReadParquetFSSpec(c94e80d)['h_aster_dem'].describenumeric(split_every=False), ReadParquetFSSpec(c94e80d)['delta_aster_dem'].describenumeric(split_every=False), ReadParquetFSSpec(c94e80d)['abs_delta_aster_dem'].describenumeric(split_every=False), ReadParquetFSSpec(c94e80d)['h_copernicus_dеm'].describenumeric(split_every=False), ReadParquetFSSpec(c94e80d)['delta_copernicus_dеm'].describenumeric(split_every=False), ReadParquetFSSpec(c94e80d)['abs_delta_copernicus_dеm'].describenumeric(split_every=False), ReadParquetFSSpec(c94e80d)['h_fab_dem'].describenumeric(split_every=False), ReadParquetFSSpec(c94e80d)['delta_fab_dem'].describenumeric(split_every=False), ReadParquetFSSpec(c94e80d)['abs_delta_fab_dem'].describenumeric(split_every=False), ReadParquetFSSpec(c94e80d)['h_nasa_dem'].describenumeric(split_every=False), ReadParquetFSSpec(c94e80d)['delta_nasa_dem'].describenumeric(split_every=False), ReadParquetFSSpec(c94e80d)['abs_delta_nasa_dem'].describenumeric(split_every=False), ReadParquetFSSpec(c94e80d)['h_srtm_dem'].describenumeric(split_every=False), ReadParquetFSSpec(c94e80d)['delta_srtm_dem'].describenumeric(split_every=False), ReadParquetFSSpec(c94e80d)['abs_delta_srtm_dem'].describenumeric(split_every=False), ReadParquetFSSpec(c94e80d)['h_tan_dem'].describenumeric(split_every=False), ReadParquetFSSpec(c94e80d)['delta_tan_dem'].describenumeric(split_every=False), ReadParquetFSSpec(c94e80d)['abs_delta_tan_dem'].describenumeric(split_every=False), ReadParquetFSSpec(c94e80d)['year'].describenumeric(split_every=False), ReadParquetFSSpec(c94e80d)['lulc_class'].describenumeric(split_every=False), ReadParquetFSSpec(c94e80d)['alos_dem_slope'].describenumeric(split_every=False), ReadParquetFSSpec(c94e80d)['aster_dem_slope'].describenumeric(split_every=False), ReadParquetFSSpec(c94e80d)['copernicus_dеm_slope'].describenumeric(split_every=False), ReadParquetFSSpec(c94e80d)['fab_dem_slope'].describenumeric(split_every=False), ReadParquetFSSpec(c94e80d)['nasa_dem_slope'].describenumeric(split_every=False), ReadParquetFSSpec(c94e80d)['srtm_dem_slope'].describenumeric(split_every=False), ReadParquetFSSpec(c94e80d)['tan_dem_slope'].describenumeric(split_every=False), ReadParquetFSSpec(c94e80d)['alos_dem_geomorphon'].describenumeric(split_every=False), ReadParquetFSSpec(c94e80d)['aster_dem_geomorphon'].describenumeric(split_every=False), ReadParquetFSSpec(c94e80d)['copernicus_dеm_geomorphon'].describenumeric(split_every=False), ReadParquetFSSpec(c94e80d)['fab_dem_geomorphon'].describenumeric(split_every=False), ReadParquetFSSpec(c94e80d)['nasa_dem_geomorphon'].describenumeric(split_every=False), ReadParquetFSSpec(c94e80d)['srtm_dem_geomorphon'].describenumeric(split_every=False), ReadParquetFSSpec(c94e80d)['tan_dem_geomorphon'].describenumeric(split_every=False), ReadParquetFSSpec(c94e80d)['alos_dem_2000'].describenumeric(split_every=False), ReadParquetFSSpec(c94e80d)['aster_dem_2000'].describenumeric(split_every=False), ReadParquetFSSpec(c94e80d)['copernicus_dеm_2000'].describenumeric(split_every=False), ReadParquetFSSpec(c94e80d)['fab_dem_2000'].describenumeric(split_every=False), ReadParquetFSSpec(c94e80d)['nasa_dem_2000'].describenumeric(split_every=False), ReadParquetFSSpec(c94e80d)['srtm_dem_2000'].describenumeric(split_every=False), ReadParquetFSSpec(c94e80d)['tan_dem_2000'].describenumeric(split_every=False), ReadParquetFSSpec(c94e80d)['alos_dem_stream'].describenumeric(split_every=False), ReadParquetFSSpec(c94e80d)['aster_dem_stream'].describenumeric(split_every=False), ReadParquetFSSpec(c94e80d)['copernicus_dеm_stream'].describenumeric(split_every=False), ReadParquetFSSpec(c94e80d)['fab_dem_stream'].describenumeric(split_every=False), ReadParquetFSSpec(c94e80d)['nasa_dem_stream'].describenumeric(split_every=False), ReadParquetFSSpec(c94e80d)['srtm_dem_stream'].describenumeric(split_every=False), ReadParquetFSSpec(c94e80d)['tan_dem_stream'].describenumeric(split_every=False), ReadParquetFSSpec(c94e80d)['alos_dem_twi'].describenumeric(split_every=False), ReadParquetFSSpec(c94e80d)['aster_dem_twi'].describenumeric(split_every=False), ReadParquetFSSpec(c94e80d)['copernicus_dеm_twi'].describenumeric(split_every=False), ReadParquetFSSpec(c94e80d)['fab_dem_twi'].describenumeric(split_every=False), ReadParquetFSSpec(c94e80d)['nasa_dem_twi'].describenumeric(split_every=False), ReadParquetFSSpec(c94e80d)['srtm_dem_twi'].describenumeric(split_every=False), ReadParquetFSSpec(c94e80d)['tan_dem_twi'].describenumeric(split_every=False), ReadParquetFSSpec(c94e80d)['__index_level_0__'].describenumeric(split_every=False)], axis=1)\n"
     ]
    }
   ],
   "execution_count": 4
  },
  {
   "metadata": {
    "ExecuteTime": {
     "end_time": "2025-07-08T09:02:30.743881Z",
     "start_time": "2025-07-08T09:02:30.742119Z"
    }
   },
   "cell_type": "code",
   "source": "import duckdb\n",
   "id": "c8a5ed8e6d427b03",
   "outputs": [],
   "execution_count": 2
  },
  {
   "metadata": {
    "ExecuteTime": {
     "end_time": "2025-07-08T09:03:14.379842Z",
     "start_time": "2025-07-08T09:03:14.369541Z"
    }
   },
   "cell_type": "code",
   "source": [
    "duckdb.sql(\"\"\"\n",
    "    CREATE OR REPLACE TABLE temp_table AS\n",
    "    SELECT\n",
    "        *,\n",
    "        \"copernicus_dеm_slope\" AS \"copernicus_dem_slope\"\n",
    "    FROM data/tracks_3857_no_geometry.parquet\n",
    "\"\"\")\n",
    "\n",
    "duckdb.sql(\"\"\"\n",
    "    ALTER TABLE temp_table DROP COLUMN \"copernicus_dеm_slope\"\n",
    "\"\"\")\n",
    "\n",
    "duckdb.sql(\"\"\"\n",
    "    COPY temp_table TO 'data/tracks_no_geometry_fixed.parquet' (FORMAT PARQUET)\n",
    "\"\"\")\n"
   ],
   "id": "591cbb447900b75d",
   "outputs": [
    {
     "ename": "ParserException",
     "evalue": "Parser Error: syntax error at or near \"/\"",
     "output_type": "error",
     "traceback": [
      "\u001B[31m---------------------------------------------------------------------------\u001B[39m",
      "\u001B[31mParserException\u001B[39m                           Traceback (most recent call last)",
      "\u001B[36mCell\u001B[39m\u001B[36m \u001B[39m\u001B[32mIn[5]\u001B[39m\u001B[32m, line 1\u001B[39m\n\u001B[32m----> \u001B[39m\u001B[32m1\u001B[39m \u001B[43mduckdb\u001B[49m\u001B[43m.\u001B[49m\u001B[43msql\u001B[49m\u001B[43m(\u001B[49m\u001B[33;43m\"\"\"\u001B[39;49m\n\u001B[32m      2\u001B[39m \u001B[33;43m    CREATE OR REPLACE TABLE temp_table AS\u001B[39;49m\n\u001B[32m      3\u001B[39m \u001B[33;43m    SELECT\u001B[39;49m\n\u001B[32m      4\u001B[39m \u001B[33;43m        *,\u001B[39;49m\n\u001B[32m      5\u001B[39m \u001B[33;43m        \u001B[39;49m\u001B[33;43m\"\u001B[39;49m\u001B[33;43mcopernicus_dеm_slope\u001B[39;49m\u001B[33;43m\"\u001B[39;49m\u001B[33;43m AS \u001B[39;49m\u001B[33;43m\"\u001B[39;49m\u001B[33;43mcopernicus_dem_slope\u001B[39;49m\u001B[33;43m\"\u001B[39;49m\n\u001B[32m      6\u001B[39m \u001B[33;43m    FROM data/tracks_3857_no_geometry.parquet\u001B[39;49m\n\u001B[32m      7\u001B[39m \u001B[33;43m\"\"\"\u001B[39;49m\u001B[43m)\u001B[49m\n\u001B[32m      9\u001B[39m duckdb.sql(\u001B[33m\"\"\"\u001B[39m\n\u001B[32m     10\u001B[39m \u001B[33m    ALTER TABLE temp_table DROP COLUMN \u001B[39m\u001B[33m\"\u001B[39m\u001B[33mcopernicus_dеm_slope\u001B[39m\u001B[33m\"\u001B[39m\n\u001B[32m     11\u001B[39m \u001B[33m\"\"\"\u001B[39m)\n\u001B[32m     13\u001B[39m duckdb.sql(\u001B[33m\"\"\"\u001B[39m\n\u001B[32m     14\u001B[39m \u001B[33m    COPY temp_table TO \u001B[39m\u001B[33m'\u001B[39m\u001B[33mdata/tracks_no_geometry_fixed.parquet\u001B[39m\u001B[33m'\u001B[39m\u001B[33m (FORMAT PARQUET)\u001B[39m\n\u001B[32m     15\u001B[39m \u001B[33m\"\"\"\u001B[39m)\n",
      "\u001B[31mParserException\u001B[39m: Parser Error: syntax error at or near \"/\""
     ]
    }
   ],
   "execution_count": 5
  },
  {
   "metadata": {
    "ExecuteTime": {
     "end_time": "2025-07-08T07:48:36.182505Z",
     "start_time": "2025-07-08T07:48:28.820582Z"
    }
   },
   "cell_type": "code",
   "source": [
    "import duckdb\n",
    "duckdb.sql(\"\"\"\n",
    "COPY (\n",
    "  SELECT * EXCLUDE geometry\n",
    "  FROM 'data/tracks_3857.parquet'\n",
    ")\n",
    "TO 'data/tracks_3857_no_geometry.parquet' (FORMAT 'parquet');\n",
    "\"\"\")"
   ],
   "id": "da9f6b35a22763f7",
   "outputs": [
    {
     "data": {
      "text/plain": [
       "FloatProgress(value=0.0, layout=Layout(width='auto'), style=ProgressStyle(bar_color='black'))"
      ],
      "application/vnd.jupyter.widget-view+json": {
       "version_major": 2,
       "version_minor": 0,
       "model_id": "932e31cb19e1499091a9084a2fc7bd2f"
      }
     },
     "metadata": {},
     "output_type": "display_data"
    }
   ],
   "execution_count": 9
  },
  {
   "metadata": {
    "ExecuteTime": {
     "end_time": "2025-07-08T09:01:05.438491Z",
     "start_time": "2025-07-08T09:01:05.337346Z"
    }
   },
   "cell_type": "code",
   "source": [
    "import duckdb\n",
    "duckdb.sql(\"DESCRIBE SELECT * FROM 'data/tracks_no_geometry_fixed.parquet'\").show()\n",
    "\n"
   ],
   "id": "cb61b3d46d2e17b2",
   "outputs": [
    {
     "ename": "InvalidInputException",
     "evalue": "Invalid Input Error: No magic bytes found at end of file 'data/tracks_no_geometry_fixed.parquet'",
     "output_type": "error",
     "traceback": [
      "\u001B[31m---------------------------------------------------------------------------\u001B[39m",
      "\u001B[31mInvalidInputException\u001B[39m                     Traceback (most recent call last)",
      "\u001B[36mCell\u001B[39m\u001B[36m \u001B[39m\u001B[32mIn[1]\u001B[39m\u001B[32m, line 2\u001B[39m\n\u001B[32m      1\u001B[39m \u001B[38;5;28;01mimport\u001B[39;00m\u001B[38;5;250m \u001B[39m\u001B[34;01mduckdb\u001B[39;00m\n\u001B[32m----> \u001B[39m\u001B[32m2\u001B[39m \u001B[43mduckdb\u001B[49m\u001B[43m.\u001B[49m\u001B[43msql\u001B[49m\u001B[43m(\u001B[49m\u001B[33;43m\"\u001B[39;49m\u001B[33;43mDESCRIBE SELECT * FROM \u001B[39;49m\u001B[33;43m'\u001B[39;49m\u001B[33;43mdata/tracks_no_geometry_fixed.parquet\u001B[39;49m\u001B[33;43m'\u001B[39;49m\u001B[33;43m\"\u001B[39;49m\u001B[43m)\u001B[49m.show()\n",
      "\u001B[31mInvalidInputException\u001B[39m: Invalid Input Error: No magic bytes found at end of file 'data/tracks_no_geometry_fixed.parquet'"
     ]
    }
   ],
   "execution_count": 1
  },
  {
   "metadata": {},
   "cell_type": "code",
   "source": [
    "import duckdb\n",
    "\n",
    "duckdb.sql(\"\"\"\n",
    "    COPY (\n",
    "        SELECT * EXCLUDE geometry FROM 'data/icesat2_dem.parquet'\n",
    "        WHERE atl03_cnf = 4 AND atl08_class = 1\n",
    "    )\n",
    "    TO 'data/icesat2_dem_filtered.parquet' (FORMAT PARQUET)\n",
    "\"\"\")\n"
   ],
   "id": "f86defbe648dafcd",
   "outputs": [],
   "execution_count": null
  },
  {
   "metadata": {
    "jupyter": {
     "is_executing": true
    },
    "ExecuteTime": {
     "end_time": "2025-07-08T09:03:53.588240200Z",
     "start_time": "2025-07-08T09:03:27.795888Z"
    }
   },
   "cell_type": "code",
   "source": [
    "import duckdb\n",
    "\n",
    "# 1. Відкриваємо Parquet як DuckDB-таблицю (заміни шлях на лапки!)\n",
    "duckdb.sql(\"\"\"\n",
    "    CREATE OR REPLACE TABLE temp_table AS\n",
    "    SELECT\n",
    "        *,\n",
    "        \"copernicus_dеm_slope\" AS \"copernicus_dem_slope\"\n",
    "    FROM 'data/tracks_3857_no_geometry.parquet'\n",
    "\"\"\")\n",
    "\n",
    "# 2. Видаляємо стару колонку з кирилицею (опціонально)\n",
    "duckdb.sql(\"\"\"\n",
    "    ALTER TABLE temp_table DROP COLUMN \"copernicus_dеm_slope\"\n",
    "\"\"\")\n",
    "\n",
    "# 3. Зберігаємо як новий Parquet-файл з правильними назвами колонок\n",
    "duckdb.sql(\"\"\"\n",
    "    COPY temp_table TO 'data/tracks_no_geometry_fixed.parquet' (FORMAT PARQUET)\n",
    "\"\"\")\n",
    "\n"
   ],
   "id": "fd6a8cb85ae33960",
   "outputs": [
    {
     "data": {
      "text/plain": [
       "FloatProgress(value=0.0, layout=Layout(width='auto'), style=ProgressStyle(bar_color='black'))"
      ],
      "application/vnd.jupyter.widget-view+json": {
       "version_major": 2,
       "version_minor": 0,
       "model_id": "c758df6ae74b4ee9abce1ebcbba400da"
      }
     },
     "metadata": {},
     "output_type": "display_data"
    },
    {
     "data": {
      "text/plain": [
       "FloatProgress(value=0.0, layout=Layout(width='auto'), style=ProgressStyle(bar_color='black'))"
      ],
      "application/vnd.jupyter.widget-view+json": {
       "version_major": 2,
       "version_minor": 0,
       "model_id": "451cef46ebed493995a6214718d44c42"
      }
     },
     "metadata": {},
     "output_type": "display_data"
    }
   ],
   "execution_count": null
  },
  {
   "metadata": {
    "ExecuteTime": {
     "end_time": "2025-07-08T14:05:05.155721Z",
     "start_time": "2025-07-08T14:05:04.869219Z"
    }
   },
   "cell_type": "code",
   "source": [
    "import duckdb\n",
    "\n",
    "track = 1.0\n",
    "rgt = 396.0\n",
    "spot = 1.0\n",
    "date = '2019-07-24'\n",
    "hand_col = 'alos_dem_2000'\n",
    "dem = 'alos_dem'\n",
    "\n",
    "sql = f\"\"\"\n",
    "SELECT x, y, delta_{dem}, abs_delta_{dem}\n",
    "FROM 'data/tracks_3857_1.parquet'\n",
    "WHERE track={track} AND rgt={rgt} AND spot={spot}\n",
    "  AND DATE(time) = '{date}'\n",
    "  AND atl03_cnf = 4 AND atl08_class = 1\n",
    "  AND {hand_col} BETWEEN 0 AND 5\n",
    "\"\"\"\n",
    "\n",
    "df = duckdb.query(sql).to_df()\n",
    "print(df.shape)\n",
    "print(df.head())\n"
   ],
   "id": "7f613bada8b78002",
   "outputs": [
    {
     "name": "stdout",
     "output_type": "stream",
     "text": [
      "(130, 4)\n",
      "           x          y  delta_alos_dem  abs_delta_alos_dem\n",
      "0  24.976054  47.730581       -0.166000            0.166000\n",
      "1  24.976054  47.730581       -0.166000            0.166000\n",
      "2  24.976051  47.730600        1.131974            1.131974\n",
      "3  24.976051  47.730600        1.131974            1.131974\n",
      "4  24.976051  47.730607        0.872940            0.872940\n"
     ]
    }
   ],
   "execution_count": 1
  },
  {
   "metadata": {
    "ExecuteTime": {
     "end_time": "2025-07-08T15:08:08.589150Z",
     "start_time": "2025-07-08T15:08:07.942310Z"
    }
   },
   "cell_type": "code",
   "source": [
    "import duckdb\n",
    "duckdb.query(\"\"\"\n",
    "  SELECT *\n",
    "  FROM 'data/tracks_3857_1.parquet'\n",
    "  WHERE track=1.0 AND rgt=396.0 AND spot=1.0\n",
    "    AND DATE(time) = '2019-07-24'\n",
    "    AND delta_alos_dem IS NOT NULL AND h_alos_dem IS NOT NULL\n",
    "    AND atl03_cnf = 4 AND atl08_class = 1\n",
    "    AND alos_dem_2000 BETWEEN 0 AND 5\n",
    "  ORDER BY x\n",
    "\"\"\").to_df()\n",
    "print(duckdb.query(\"\"\"\n",
    "  SELECT *\n",
    "  FROM 'data/tracks_3857_1.parquet'\n",
    "  WHERE track=1.0 AND rgt=396.0 AND spot=1.0\n",
    "    AND DATE(time) = '2019-07-24'\n",
    "    AND delta_alos_dem IS NOT NULL AND h_alos_dem IS NOT NULL\n",
    "    AND atl03_cnf = 4 AND atl08_class = 1\n",
    "    AND alos_dem_2000 BETWEEN 0 AND 5\n",
    "  ORDER BY x\n",
    "\"\"\").to_df())"
   ],
   "id": "bb4d1039c614340b",
   "outputs": [
    {
     "name": "stdout",
     "output_type": "stream",
     "text": [
      "     region  sc_orient  track  segment_dist  solar_elevation  segment_id  \\\n",
      "0       2.0        0.0    1.0  5.314929e+06       -17.953997    265053.0   \n",
      "1       2.0        0.0    1.0  5.314949e+06       -17.953997    265054.0   \n",
      "2       2.0        0.0    1.0  5.314949e+06       -17.953997    265054.0   \n",
      "3       2.0        0.0    1.0  5.314929e+06       -17.953997    265053.0   \n",
      "4       2.0        0.0    1.0  5.314949e+06       -17.953997    265054.0   \n",
      "..      ...        ...    ...           ...              ...         ...   \n",
      "125     2.0        0.0    1.0  5.313587e+06       -17.964470    264986.0   \n",
      "126     2.0        0.0    1.0  5.313587e+06       -17.964470    264986.0   \n",
      "127     2.0        0.0    1.0  5.313567e+06       -17.964621    264985.0   \n",
      "128     2.0        0.0    1.0  5.313587e+06       -17.964470    264986.0   \n",
      "129     2.0        0.0    1.0  5.313567e+06       -17.964621    264985.0   \n",
      "\n",
      "     background_rate  cycle  pair    rgt  ...  fab_dem_twi  nasa_dem_twi  \\\n",
      "0       11347.768774    4.0   0.0  396.0  ...      4.38347      7.397076   \n",
      "1       11347.768774    4.0   0.0  396.0  ...      4.38347      7.397076   \n",
      "2       11347.768774    4.0   0.0  396.0  ...      4.38347      7.397076   \n",
      "3       11347.768774    4.0   0.0  396.0  ...      4.38347      7.397076   \n",
      "4       11347.768774    4.0   0.0  396.0  ...      4.38347      7.397076   \n",
      "..               ...    ...   ...    ...  ...          ...           ...   \n",
      "125     15773.724559    4.0   0.0  396.0  ...     14.12784      8.147577   \n",
      "126     15773.724559    4.0   0.0  396.0  ...     14.12784      8.147577   \n",
      "127     19782.779940    4.0   0.0  396.0  ...     14.12784      8.147577   \n",
      "128     15773.724559    4.0   0.0  396.0  ...     14.12784      8.147577   \n",
      "129     19782.779940    4.0   0.0  396.0  ...     14.12784      8.147577   \n",
      "\n",
      "     srtm_dem_twi  tan_dem_twi       __index_level_0__  \\\n",
      "0        7.398148     5.750313 2019-07-24 00:16:07.699   \n",
      "1        7.398148     5.750313 2019-07-24 00:16:07.699   \n",
      "2        7.398148     5.750313 2019-07-24 00:16:07.699   \n",
      "3        7.398148     5.750313 2019-07-24 00:16:07.699   \n",
      "4        7.398148     5.750313 2019-07-24 00:16:07.699   \n",
      "..            ...          ...                     ...   \n",
      "125      6.954374     7.956700 2019-07-24 00:16:07.508   \n",
      "126      6.954374     7.956700 2019-07-24 00:16:07.508   \n",
      "127      6.954374     7.956700 2019-07-24 00:16:07.508   \n",
      "128      6.954374     7.956700 2019-07-24 00:16:07.508   \n",
      "129      6.954374     7.956700 2019-07-24 00:16:07.508   \n",
      "\n",
      "                                         geometry_bbox          x          y  \\\n",
      "0    {'xmax': 24.974411010742188, 'xmin': 24.974407...  24.974408  47.742756   \n",
      "1    {'xmax': 24.974411010742188, 'xmin': 24.974407...  24.974408  47.742756   \n",
      "2    {'xmax': 24.974411010742188, 'xmin': 24.974407...  24.974408  47.742756   \n",
      "3    {'xmax': 24.974411010742188, 'xmin': 24.974407...  24.974408  47.742756   \n",
      "4    {'xmax': 24.97441291809082, 'xmin': 24.9744091...  24.974410  47.742743   \n",
      "..                                                 ...        ...        ...   \n",
      "125  {'xmax': 24.976051330566406, 'xmin': 24.976047...  24.976051  47.730607   \n",
      "126  {'xmax': 24.976055145263672, 'xmin': 24.976051...  24.976051  47.730600   \n",
      "127  {'xmax': 24.976055145263672, 'xmin': 24.976051...  24.976051  47.730600   \n",
      "128  {'xmax': 24.976057052612305, 'xmin': 24.976053...  24.976054  47.730581   \n",
      "129  {'xmax': 24.976057052612305, 'xmin': 24.976053...  24.976054  47.730581   \n",
      "\n",
      "           x_merc        y_merc  \n",
      "0    2.780138e+06  6.064165e+06  \n",
      "1    2.780138e+06  6.064165e+06  \n",
      "2    2.780138e+06  6.064165e+06  \n",
      "3    2.780138e+06  6.064165e+06  \n",
      "4    2.780139e+06  6.064163e+06  \n",
      "..            ...           ...  \n",
      "125  2.780321e+06  6.062154e+06  \n",
      "126  2.780321e+06  6.062153e+06  \n",
      "127  2.780321e+06  6.062153e+06  \n",
      "128  2.780322e+06  6.062150e+06  \n",
      "129  2.780322e+06  6.062150e+06  \n",
      "\n",
      "[130 rows x 96 columns]\n"
     ]
    }
   ],
   "execution_count": 4
  },
  {
   "metadata": {
    "ExecuteTime": {
     "end_time": "2025-07-08T16:07:02.657140Z",
     "start_time": "2025-07-08T16:07:02.597843Z"
    }
   },
   "cell_type": "code",
   "source": [
    "# Тимчасово відключити фільтр hand_range:\n",
    "sql = f\"\"\"\n",
    "    SELECT x, y, delta_{dem}, abs_delta_{dem}\n",
    "    FROM 'data/tracks_3857_1.parquet'\n",
    "    WHERE track={track} AND rgt={rgt} AND spot={spot}\n",
    "        AND DATE(time) = '{date}'\n",
    "        AND atl03_cnf = 4 AND atl08_class = 1\n",
    "\"\"\"\n",
    "\n",
    "print(duckdb.query(sql).to_df())"
   ],
   "id": "d4ed58ebc0a3ea09",
   "outputs": [
    {
     "name": "stdout",
     "output_type": "stream",
     "text": [
      "              x          y  delta_alos_dem  abs_delta_alos_dem\n",
      "0     24.976597  47.726559       10.839737           10.839737\n",
      "1     24.976593  47.726585       10.836197           10.836197\n",
      "2     24.976593  47.726585       10.691544           10.691544\n",
      "3     24.976593  47.726585       11.201798           11.201798\n",
      "4     24.976591  47.726604       11.672135           11.672135\n",
      "...         ...        ...             ...                 ...\n",
      "1838  24.927032  48.071453        1.736813            1.736813\n",
      "1839  24.927030  48.071472        1.805600            1.805600\n",
      "1840  24.927030  48.071472        2.255673            2.255673\n",
      "1841  24.927029  48.071479        3.567990            3.567990\n",
      "1842  24.927020  48.071542        3.049008            3.049008\n",
      "\n",
      "[1843 rows x 4 columns]\n"
     ]
    }
   ],
   "execution_count": 6
  },
  {
   "metadata": {
    "ExecuteTime": {
     "end_time": "2025-07-08T14:28:20.163107Z",
     "start_time": "2025-07-08T14:28:19.937801Z"
    }
   },
   "cell_type": "code",
   "source": [
    "import pandas as pd\n",
    "df = duckdb.query(\"SELECT alos_dem_2000 FROM 'data/tracks_3857_1.parquet'\").to_df()\n",
    "print(df['alos_dem_2000'].isna().sum(), df['alos_dem_2000'].dtype)\n",
    "print(df['alos_dem_2000'].sample(10))\n"
   ],
   "id": "9a5a037ae7850ff",
   "outputs": [
    {
     "name": "stdout",
     "output_type": "stream",
     "text": [
      "765194 float64\n",
      "6773667    237.74\n",
      "6967909    242.00\n",
      "4638358    291.00\n",
      "7071200    138.00\n",
      "633895      40.00\n",
      "2265507    249.00\n",
      "3987542    215.00\n",
      "2621187    261.00\n",
      "1206081    323.14\n",
      "4181338    198.00\n",
      "Name: alos_dem_2000, dtype: float64\n"
     ]
    }
   ],
   "execution_count": 3
  },
  {
   "metadata": {
    "jupyter": {
     "is_executing": true
    },
    "ExecuteTime": {
     "end_time": "2025-07-08T09:23:06.877159Z",
     "start_time": "2025-07-08T09:19:16.419852Z"
    }
   },
   "cell_type": "code",
   "source": [
    "import pandas as pd\n",
    "\n",
    "# 1. Завантажуємо Parquet\n",
    "df = pd.read_parquet(\"data/tracks_3857_no_geometry.parquet\")\n",
    "\n",
    "# 2. Замінюємо всі кириличні “е” на латиничні “e” в усіх назвах колонок\n",
    "df.columns = [col.replace(\"е\", \"e\") for col in df.columns]\n",
    "\n",
    "# 3. Зберігаємо новий файл\n",
    "df.to_parquet(\"data/tracks_3857_1.parquet\")\n"
   ],
   "id": "8a014c7f6b8758e4",
   "outputs": [],
   "execution_count": null
  },
  {
   "metadata": {
    "ExecuteTime": {
     "end_time": "2025-07-08T09:36:09.830483Z",
     "start_time": "2025-07-08T09:36:08.653749Z"
    }
   },
   "cell_type": "code",
   "source": [
    "import pandas as pd\n",
    "import dask.dataframe as dd\n",
    "\n",
    "df = dd.read_parquet(\"data/tracks_3857_1.parquet\")\n",
    "\n",
    "df.columns"
   ],
   "id": "7084aaf44a9e74a6",
   "outputs": [
    {
     "data": {
      "text/plain": [
       "Index(['region', 'sc_orient', 'track', 'segment_dist', 'solar_elevation',\n",
       "       'segment_id', 'background_rate', 'cycle', 'pair', 'rgt', 'snowcover',\n",
       "       'yapc_score', 'height', 'y_atc', 'landcover', 'x_atc', 'relief',\n",
       "       'quality_ph', 'atl03_cnf', 'atl08_class', 'spot', 'time',\n",
       "       'geoid_height', 'orthometric_height', 'h_alos_dem', 'delta_alos_dem',\n",
       "       'abs_delta_alos_dem', 'h_aster_dem', 'delta_aster_dem',\n",
       "       'abs_delta_aster_dem', 'h_copernicus_dem', 'delta_copernicus_dem',\n",
       "       'abs_delta_copernicus_dem', 'h_fab_dem', 'delta_fab_dem',\n",
       "       'abs_delta_fab_dem', 'h_nasa_dem', 'delta_nasa_dem',\n",
       "       'abs_delta_nasa_dem', 'h_srtm_dem', 'delta_srtm_dem',\n",
       "       'abs_delta_srtm_dem', 'h_tan_dem', 'delta_tan_dem', 'abs_delta_tan_dem',\n",
       "       'year', 'lulc_class', 'lulc_name', 'alos_dem_slope', 'aster_dem_slope',\n",
       "       'copernicus_dem_slope', 'fab_dem_slope', 'nasa_dem_slope',\n",
       "       'srtm_dem_slope', 'tan_dem_slope', 'alos_dem_geomorphon',\n",
       "       'alos_dem_landform', 'aster_dem_geomorphon', 'aster_dem_landform',\n",
       "       'copernicus_dem_geomorphon', 'copernicus_dem_landform',\n",
       "       'fab_dem_geomorphon', 'fab_dem_landform', 'nasa_dem_geomorphon',\n",
       "       'nasa_dem_landform', 'srtm_dem_geomorphon', 'srtm_dem_landform',\n",
       "       'tan_dem_geomorphon', 'tan_dem_landform', 'alos_dem_2000',\n",
       "       'aster_dem_2000', 'copernicus_dem_2000', 'fab_dem_2000',\n",
       "       'nasa_dem_2000', 'srtm_dem_2000', 'tan_dem_2000', 'alos_dem_stream',\n",
       "       'aster_dem_stream', 'copernicus_dem_stream', 'fab_dem_stream',\n",
       "       'nasa_dem_stream', 'srtm_dem_stream', 'tan_dem_stream', 'alos_dem_twi',\n",
       "       'aster_dem_twi', 'copernicus_dem_twi', 'fab_dem_twi', 'nasa_dem_twi',\n",
       "       'srtm_dem_twi', 'tan_dem_twi', '__index_level_0__', 'geometry_bbox',\n",
       "       'x', 'y', 'x_merc', 'y_merc'],\n",
       "      dtype='object')"
      ]
     },
     "execution_count": 1,
     "metadata": {},
     "output_type": "execute_result"
    }
   ],
   "execution_count": 1
  },
  {
   "metadata": {
    "ExecuteTime": {
     "end_time": "2025-07-09T18:57:20.900602Z",
     "start_time": "2025-07-09T18:57:13.935196Z"
    }
   },
   "cell_type": "code",
   "source": [
    "import pandas as pd\n",
    "\n",
    "df_new = pd.read_parquet(\"data/tracks_3857_1.parquet\")\n",
    "print([col for col in df_new.columns if \"dem\" in col])"
   ],
   "id": "36cf9ee108728c0e",
   "outputs": [
    {
     "name": "stdout",
     "output_type": "stream",
     "text": [
      "['h_alos_dem', 'delta_alos_dem', 'abs_delta_alos_dem', 'h_aster_dem', 'delta_aster_dem', 'abs_delta_aster_dem', 'h_copernicus_dem', 'delta_copernicus_dem', 'abs_delta_copernicus_dem', 'h_fab_dem', 'delta_fab_dem', 'abs_delta_fab_dem', 'h_nasa_dem', 'delta_nasa_dem', 'abs_delta_nasa_dem', 'h_srtm_dem', 'delta_srtm_dem', 'abs_delta_srtm_dem', 'h_tan_dem', 'delta_tan_dem', 'abs_delta_tan_dem', 'alos_dem_slope', 'aster_dem_slope', 'copernicus_dem_slope', 'fab_dem_slope', 'nasa_dem_slope', 'srtm_dem_slope', 'tan_dem_slope', 'alos_dem_geomorphon', 'alos_dem_landform', 'aster_dem_geomorphon', 'aster_dem_landform', 'copernicus_dem_geomorphon', 'copernicus_dem_landform', 'fab_dem_geomorphon', 'fab_dem_landform', 'nasa_dem_geomorphon', 'nasa_dem_landform', 'srtm_dem_geomorphon', 'srtm_dem_landform', 'tan_dem_geomorphon', 'tan_dem_landform', 'alos_dem_2000', 'aster_dem_2000', 'copernicus_dem_2000', 'fab_dem_2000', 'nasa_dem_2000', 'srtm_dem_2000', 'tan_dem_2000', 'alos_dem_stream', 'aster_dem_stream', 'copernicus_dem_stream', 'fab_dem_stream', 'nasa_dem_stream', 'srtm_dem_stream', 'tan_dem_stream', 'alos_dem_twi', 'aster_dem_twi', 'copernicus_dem_twi', 'fab_dem_twi', 'nasa_dem_twi', 'srtm_dem_twi', 'tan_dem_twi']\n"
     ]
    }
   ],
   "execution_count": 3
  },
  {
   "metadata": {
    "ExecuteTime": {
     "end_time": "2025-07-09T19:07:20.740770Z",
     "start_time": "2025-07-09T19:07:20.202187Z"
    }
   },
   "cell_type": "code",
   "source": [
    "import duckdb\n",
    "con = duckdb.connect()\n",
    "print(con.execute(\"SELECT DISTINCT lulc_class FROM 'data/tracks_3857_1.parquet' WHERE delta_tan_dem IS NOT NULL AND atl03_cnf = 4 AND atl08_class = 1\").fetchall())\n",
    "con.close()\n"
   ],
   "id": "c802b210f67e3929",
   "outputs": [
    {
     "name": "stdout",
     "output_type": "stream",
     "text": [
      "[(None,), (2.0,), (1.0,), (11.0,), (7.0,), (5.0,)]\n"
     ]
    }
   ],
   "execution_count": 1
  },
  {
   "metadata": {
    "ExecuteTime": {
     "end_time": "2025-07-09T19:21:36.188514Z",
     "start_time": "2025-07-09T19:21:28.691505Z"
    }
   },
   "cell_type": "code",
   "source": [
    "import pandas as pd\n",
    "df = pd.read_parquet(\"data/tracks_3857_1.parquet\")\n",
    "print(df[\"lulc_name\"].unique())\n",
    "print(df[\"tan_dem_landform\"].unique())"
   ],
   "id": "b2ec040f9b7d78c3",
   "outputs": [
    {
     "name": "stdout",
     "output_type": "stream",
     "text": [
      "['Trees' 'Rangeland' None 'Built Area' 'Crops' 'Water' 'Bare Ground']\n",
      "['Slope' 'Spur' 'Hollow' 'Valley' 'Ridge' None 'Shoulder' 'Peak'\n",
      " 'Footslope' 'Pit']\n"
     ]
    }
   ],
   "execution_count": 2
  },
  {
   "metadata": {},
   "cell_type": "code",
   "outputs": [],
   "execution_count": null,
   "source": [
    "for x in  df.columns:\n",
    "    print(x)\n"
   ],
   "id": "4886b357ee9783c0"
  },
  {
   "metadata": {
    "ExecuteTime": {
     "end_time": "2025-07-08T10:02:19.147722Z",
     "start_time": "2025-07-08T10:02:17.071841Z"
    }
   },
   "cell_type": "code",
   "source": [
    "print(df.head())\n",
    "print(df.describe())"
   ],
   "id": "9b21766a027b3ddc",
   "outputs": [
    {
     "name": "stdout",
     "output_type": "stream",
     "text": [
      "   region  sc_orient  track  segment_dist  solar_elevation  segment_id  \\\n",
      "0     6.0        1.0    1.0  1.472979e+07       -40.574768    735401.0   \n",
      "1     6.0        1.0    1.0  1.472979e+07       -40.574768    735401.0   \n",
      "2     6.0        1.0    1.0  1.472979e+07       -40.574768    735401.0   \n",
      "3     6.0        1.0    1.0  1.472979e+07       -40.574768    735401.0   \n",
      "4     6.0        1.0    1.0  1.472979e+07       -40.574768    735401.0   \n",
      "\n",
      "   background_rate  cycle  pair    rgt  ...  fab_dem_twi  nasa_dem_twi  \\\n",
      "0      2756.054548    1.0   0.0  556.0  ...     5.662695      4.363451   \n",
      "1      2756.054548    1.0   0.0  556.0  ...     5.662695      4.363451   \n",
      "2      2756.054548    1.0   0.0  556.0  ...     5.662695      4.363451   \n",
      "3      2756.054548    1.0   0.0  556.0  ...     5.662695      4.363451   \n",
      "4      2756.054548    1.0   0.0  556.0  ...     5.535255      4.164953   \n",
      "\n",
      "   srtm_dem_twi  tan_dem_twi       __index_level_0__  \\\n",
      "0      4.352303     5.088826 2018-11-04 01:05:31.626   \n",
      "1      4.352303     5.088826 2018-11-04 01:05:31.626   \n",
      "2      4.352303     5.088826 2018-11-04 01:05:31.626   \n",
      "3      4.352303     5.088826 2018-11-04 01:05:31.628   \n",
      "4      4.166748     4.333070 2018-11-04 01:05:31.630   \n",
      "\n",
      "                                       geometry_bbox          x          y  \\\n",
      "0  {'xmax': 24.758420944213867, 'xmin': 24.758417...  24.758418  47.973470   \n",
      "1  {'xmax': 24.758420944213867, 'xmin': 24.758417...  24.758420  47.973470   \n",
      "2  {'xmax': 24.758420944213867, 'xmin': 24.758417...  24.758417  47.973464   \n",
      "3  {'xmax': 24.758407592773438, 'xmin': 24.758403...  24.758404  47.973375   \n",
      "4  {'xmax': 24.75838851928711, 'xmin': 24.7583847...  24.758386  47.973234   \n",
      "\n",
      "         x_merc        y_merc  \n",
      "0  2.756094e+06  6.102442e+06  \n",
      "1  2.756095e+06  6.102442e+06  \n",
      "2  2.756094e+06  6.102441e+06  \n",
      "3  2.756093e+06  6.102426e+06  \n",
      "4  2.756091e+06  6.102403e+06  \n",
      "\n",
      "[5 rows x 96 columns]\n",
      "Dask DataFrame Structure:\n",
      "                region sc_orient    track segment_dist solar_elevation segment_id background_rate    cycle     pair      rgt snowcover yapc_score   height    y_atc landcover    x_atc   relief quality_ph atl03_cnf atl08_class     spot    time geoid_height orthometric_height h_alos_dem delta_alos_dem abs_delta_alos_dem h_aster_dem delta_aster_dem abs_delta_aster_dem h_copernicus_dem delta_copernicus_dem abs_delta_copernicus_dem h_fab_dem delta_fab_dem abs_delta_fab_dem h_nasa_dem delta_nasa_dem abs_delta_nasa_dem h_srtm_dem delta_srtm_dem abs_delta_srtm_dem h_tan_dem delta_tan_dem abs_delta_tan_dem     year lulc_class alos_dem_slope aster_dem_slope copernicus_dem_slope fab_dem_slope nasa_dem_slope srtm_dem_slope tan_dem_slope alos_dem_geomorphon aster_dem_geomorphon copernicus_dem_geomorphon fab_dem_geomorphon nasa_dem_geomorphon srtm_dem_geomorphon tan_dem_geomorphon alos_dem_2000 aster_dem_2000 copernicus_dem_2000 fab_dem_2000 nasa_dem_2000 srtm_dem_2000 tan_dem_2000 alos_dem_stream aster_dem_stream copernicus_dem_stream fab_dem_stream nasa_dem_stream srtm_dem_stream tan_dem_stream alos_dem_twi aster_dem_twi copernicus_dem_twi fab_dem_twi nasa_dem_twi srtm_dem_twi tan_dem_twi __index_level_0__        x        y   x_merc   y_merc\n",
      "npartitions=1                                                                                                                                                                                                                                                                                                                                                                                                                                                                                                                                                                                                                                                                                                                                                                                                                                                                                                                                                                                                                                                                                                                                                                                                                                                                                   \n",
      "               float64   float64  float64      float64         float64    float64         float64  float64  float64  float64   float64    float64  float64  float64   float64  float64  float64    float64   float64     float64  float64  object      float64            float64    float64        float64            float64     float64         float64             float64          float64              float64                  float64   float64       float64           float64    float64        float64            float64    float64        float64            float64   float64       float64           float64  float64    float64        float64         float64              float64       float64        float64        float64       float64             float64              float64                   float64            float64             float64             float64            float64       float64        float64             float64      float64       float64       float64      float64         float64          float64               float64        float64         float64         float64        float64      float64       float64            float64     float64      float64      float64     float64            object  float64  float64  float64  float64\n",
      "                   ...       ...      ...          ...             ...        ...             ...      ...      ...      ...       ...        ...      ...      ...       ...      ...      ...        ...       ...         ...      ...     ...          ...                ...        ...            ...                ...         ...             ...                 ...              ...                  ...                      ...       ...           ...               ...        ...            ...                ...        ...            ...                ...       ...           ...               ...      ...        ...            ...             ...                  ...           ...            ...            ...           ...                 ...                  ...                       ...                ...                 ...                 ...                ...           ...            ...                 ...          ...           ...           ...          ...             ...              ...                   ...            ...             ...             ...            ...          ...           ...                ...         ...          ...          ...         ...               ...      ...      ...      ...      ...\n",
      "Dask Name: concat, 176 expressions\n",
      "Expr=Concat(frames=[ReadParquetFSSpec(d5a8858)['region'].describenumeric(split_every=False), ReadParquetFSSpec(d5a8858)['sc_orient'].describenumeric(split_every=False), ReadParquetFSSpec(d5a8858)['track'].describenumeric(split_every=False), ReadParquetFSSpec(d5a8858)['segment_dist'].describenumeric(split_every=False), ReadParquetFSSpec(d5a8858)['solar_elevation'].describenumeric(split_every=False), ReadParquetFSSpec(d5a8858)['segment_id'].describenumeric(split_every=False), ReadParquetFSSpec(d5a8858)['background_rate'].describenumeric(split_every=False), ReadParquetFSSpec(d5a8858)['cycle'].describenumeric(split_every=False), ReadParquetFSSpec(d5a8858)['pair'].describenumeric(split_every=False), ReadParquetFSSpec(d5a8858)['rgt'].describenumeric(split_every=False), ReadParquetFSSpec(d5a8858)['snowcover'].describenumeric(split_every=False), ReadParquetFSSpec(d5a8858)['yapc_score'].describenumeric(split_every=False), ReadParquetFSSpec(d5a8858)['height'].describenumeric(split_every=False), ReadParquetFSSpec(d5a8858)['y_atc'].describenumeric(split_every=False), ReadParquetFSSpec(d5a8858)['landcover'].describenumeric(split_every=False), ReadParquetFSSpec(d5a8858)['x_atc'].describenumeric(split_every=False), ReadParquetFSSpec(d5a8858)['relief'].describenumeric(split_every=False), ReadParquetFSSpec(d5a8858)['quality_ph'].describenumeric(split_every=False), ReadParquetFSSpec(d5a8858)['atl03_cnf'].describenumeric(split_every=False), ReadParquetFSSpec(d5a8858)['atl08_class'].describenumeric(split_every=False), ReadParquetFSSpec(d5a8858)['spot'].describenumeric(split_every=False), ReadParquetFSSpec(d5a8858)['time'].describenumeric(split_every=False), ReadParquetFSSpec(d5a8858)['geoid_height'].describenumeric(split_every=False), ReadParquetFSSpec(d5a8858)['orthometric_height'].describenumeric(split_every=False), ReadParquetFSSpec(d5a8858)['h_alos_dem'].describenumeric(split_every=False), ReadParquetFSSpec(d5a8858)['delta_alos_dem'].describenumeric(split_every=False), ReadParquetFSSpec(d5a8858)['abs_delta_alos_dem'].describenumeric(split_every=False), ReadParquetFSSpec(d5a8858)['h_aster_dem'].describenumeric(split_every=False), ReadParquetFSSpec(d5a8858)['delta_aster_dem'].describenumeric(split_every=False), ReadParquetFSSpec(d5a8858)['abs_delta_aster_dem'].describenumeric(split_every=False), ReadParquetFSSpec(d5a8858)['h_copernicus_dem'].describenumeric(split_every=False), ReadParquetFSSpec(d5a8858)['delta_copernicus_dem'].describenumeric(split_every=False), ReadParquetFSSpec(d5a8858)['abs_delta_copernicus_dem'].describenumeric(split_every=False), ReadParquetFSSpec(d5a8858)['h_fab_dem'].describenumeric(split_every=False), ReadParquetFSSpec(d5a8858)['delta_fab_dem'].describenumeric(split_every=False), ReadParquetFSSpec(d5a8858)['abs_delta_fab_dem'].describenumeric(split_every=False), ReadParquetFSSpec(d5a8858)['h_nasa_dem'].describenumeric(split_every=False), ReadParquetFSSpec(d5a8858)['delta_nasa_dem'].describenumeric(split_every=False), ReadParquetFSSpec(d5a8858)['abs_delta_nasa_dem'].describenumeric(split_every=False), ReadParquetFSSpec(d5a8858)['h_srtm_dem'].describenumeric(split_every=False), ReadParquetFSSpec(d5a8858)['delta_srtm_dem'].describenumeric(split_every=False), ReadParquetFSSpec(d5a8858)['abs_delta_srtm_dem'].describenumeric(split_every=False), ReadParquetFSSpec(d5a8858)['h_tan_dem'].describenumeric(split_every=False), ReadParquetFSSpec(d5a8858)['delta_tan_dem'].describenumeric(split_every=False), ReadParquetFSSpec(d5a8858)['abs_delta_tan_dem'].describenumeric(split_every=False), ReadParquetFSSpec(d5a8858)['year'].describenumeric(split_every=False), ReadParquetFSSpec(d5a8858)['lulc_class'].describenumeric(split_every=False), ReadParquetFSSpec(d5a8858)['alos_dem_slope'].describenumeric(split_every=False), ReadParquetFSSpec(d5a8858)['aster_dem_slope'].describenumeric(split_every=False), ReadParquetFSSpec(d5a8858)['copernicus_dem_slope'].describenumeric(split_every=False), ReadParquetFSSpec(d5a8858)['fab_dem_slope'].describenumeric(split_every=False), ReadParquetFSSpec(d5a8858)['nasa_dem_slope'].describenumeric(split_every=False), ReadParquetFSSpec(d5a8858)['srtm_dem_slope'].describenumeric(split_every=False), ReadParquetFSSpec(d5a8858)['tan_dem_slope'].describenumeric(split_every=False), ReadParquetFSSpec(d5a8858)['alos_dem_geomorphon'].describenumeric(split_every=False), ReadParquetFSSpec(d5a8858)['aster_dem_geomorphon'].describenumeric(split_every=False), ReadParquetFSSpec(d5a8858)['copernicus_dem_geomorphon'].describenumeric(split_every=False), ReadParquetFSSpec(d5a8858)['fab_dem_geomorphon'].describenumeric(split_every=False), ReadParquetFSSpec(d5a8858)['nasa_dem_geomorphon'].describenumeric(split_every=False), ReadParquetFSSpec(d5a8858)['srtm_dem_geomorphon'].describenumeric(split_every=False), ReadParquetFSSpec(d5a8858)['tan_dem_geomorphon'].describenumeric(split_every=False), ReadParquetFSSpec(d5a8858)['alos_dem_2000'].describenumeric(split_every=False), ReadParquetFSSpec(d5a8858)['aster_dem_2000'].describenumeric(split_every=False), ReadParquetFSSpec(d5a8858)['copernicus_dem_2000'].describenumeric(split_every=False), ReadParquetFSSpec(d5a8858)['fab_dem_2000'].describenumeric(split_every=False), ReadParquetFSSpec(d5a8858)['nasa_dem_2000'].describenumeric(split_every=False), ReadParquetFSSpec(d5a8858)['srtm_dem_2000'].describenumeric(split_every=False), ReadParquetFSSpec(d5a8858)['tan_dem_2000'].describenumeric(split_every=False), ReadParquetFSSpec(d5a8858)['alos_dem_stream'].describenumeric(split_every=False), ReadParquetFSSpec(d5a8858)['aster_dem_stream'].describenumeric(split_every=False), ReadParquetFSSpec(d5a8858)['copernicus_dem_stream'].describenumeric(split_every=False), ReadParquetFSSpec(d5a8858)['fab_dem_stream'].describenumeric(split_every=False), ReadParquetFSSpec(d5a8858)['nasa_dem_stream'].describenumeric(split_every=False), ReadParquetFSSpec(d5a8858)['srtm_dem_stream'].describenumeric(split_every=False), ReadParquetFSSpec(d5a8858)['tan_dem_stream'].describenumeric(split_every=False), ReadParquetFSSpec(d5a8858)['alos_dem_twi'].describenumeric(split_every=False), ReadParquetFSSpec(d5a8858)['aster_dem_twi'].describenumeric(split_every=False), ReadParquetFSSpec(d5a8858)['copernicus_dem_twi'].describenumeric(split_every=False), ReadParquetFSSpec(d5a8858)['fab_dem_twi'].describenumeric(split_every=False), ReadParquetFSSpec(d5a8858)['nasa_dem_twi'].describenumeric(split_every=False), ReadParquetFSSpec(d5a8858)['srtm_dem_twi'].describenumeric(split_every=False), ReadParquetFSSpec(d5a8858)['tan_dem_twi'].describenumeric(split_every=False), ReadParquetFSSpec(d5a8858)['__index_level_0__'].describenumeric(split_every=False), ReadParquetFSSpec(d5a8858)['x'].describenumeric(split_every=False), ReadParquetFSSpec(d5a8858)['y'].describenumeric(split_every=False), ReadParquetFSSpec(d5a8858)['x_merc'].describenumeric(split_every=False), ReadParquetFSSpec(d5a8858)['y_merc'].describenumeric(split_every=False)], axis=1)\n"
     ]
    }
   ],
   "execution_count": 2
  },
  {
   "metadata": {
    "ExecuteTime": {
     "end_time": "2025-07-08T10:09:39.916380Z",
     "start_time": "2025-07-08T10:09:39.854199Z"
    }
   },
   "cell_type": "code",
   "source": "print(df['pair'].unique().compute())\n",
   "id": "34721e4cc3a8551a",
   "outputs": [
    {
     "name": "stdout",
     "output_type": "stream",
     "text": [
      "0    0.0\n",
      "0    1.0\n",
      "Name: pair, dtype: float64\n"
     ]
    }
   ],
   "execution_count": 8
  },
  {
   "metadata": {
    "ExecuteTime": {
     "end_time": "2025-07-10T16:04:52.287266Z",
     "start_time": "2025-07-10T16:04:52.253993Z"
    }
   },
   "cell_type": "code",
   "source": [
    "import duckdb\n",
    "\n",
    "# Замініть на реальний шлях до твого parquet-файлу\n",
    "parquet_path = \"data/tracks_3857_1.parquet\"\n",
    "con = duckdb.connect()\n",
    "\n",
    "# Вивести всі унікальні класи LULC та їх кількість\n",
    "df = con.execute(f\"\"\"\n",
    "  SELECT\n",
    "    COUNT(*) AS total,\n",
    "    COUNT(lulc_class) AS not_null,\n",
    "    COUNT(*) - COUNT(lulc_class) AS null_count\n",
    "FROM 'data/tracks_3857_1.parquet'\n",
    "WHERE\n",
    "    atl03_cnf = 4\n",
    "    AND atl08_class = 1;\n",
    "\n",
    "\n",
    "\"\"\").fetchdf()\n",
    "\n",
    "print(df)\n",
    "# con.close()\n"
   ],
   "id": "e77877fd5bd91862",
   "outputs": [
    {
     "name": "stdout",
     "output_type": "stream",
     "text": [
      "     total  not_null  null_count\n",
      "0  2022807   1982195       40612\n"
     ]
    }
   ],
   "execution_count": 29
  },
  {
   "metadata": {
    "ExecuteTime": {
     "end_time": "2025-07-10T08:59:49.972799Z",
     "start_time": "2025-07-10T08:59:49.818116Z"
    }
   },
   "cell_type": "code",
   "source": [
    "dem_list = [\n",
    "    \"alos_dem\", \"aster_dem\", \"copernicus_dem\", \"fab_dem\",\n",
    "    \"nasa_dem\", \"srtm_dem\", \"tan_dem\"\n",
    "]\n",
    "for dem in dem_list:\n",
    "    sql = f\"\"\"\n",
    "        SELECT COUNT(*)\n",
    "        FROM '{parquet_path}'\n",
    "        WHERE lulc_name = 'Bare Ground' AND delta_{dem} IS NOT NULL\n",
    "    \"\"\"\n",
    "    count = con.execute(sql).fetchone()[0]\n",
    "    print(f\"{dem}: {count}\")\n"
   ],
   "id": "8461602097f87cd8",
   "outputs": [
    {
     "name": "stdout",
     "output_type": "stream",
     "text": [
      "alos_dem: 12\n",
      "aster_dem: 12\n",
      "copernicus_dem: 12\n",
      "fab_dem: 12\n",
      "nasa_dem: 12\n",
      "srtm_dem: 12\n",
      "tan_dem: 12\n"
     ]
    }
   ],
   "execution_count": 5
  },
  {
   "metadata": {
    "ExecuteTime": {
     "end_time": "2025-07-10T09:22:44.769369Z",
     "start_time": "2025-07-10T09:22:44.741184Z"
    }
   },
   "cell_type": "code",
   "source": [
    "df = con.execute(\"\"\"\n",
    "  SELECT *\n",
    "FROM 'data/tracks_3857_1.parquet'\n",
    "WHERE lulc_name = 'Bare Ground'\n",
    "  AND atl03_cnf = 4\n",
    "  AND atl08_class = 1\n",
    "\"\"\").fetchdf()\n",
    "print(df)"
   ],
   "id": "ca55255c75269f00",
   "outputs": [
    {
     "name": "stdout",
     "output_type": "stream",
     "text": [
      "Empty DataFrame\n",
      "Columns: [region, sc_orient, track, segment_dist, solar_elevation, segment_id, background_rate, cycle, pair, rgt, snowcover, yapc_score, height, y_atc, landcover, x_atc, relief, quality_ph, atl03_cnf, atl08_class, spot, time, geoid_height, orthometric_height, h_alos_dem, delta_alos_dem, abs_delta_alos_dem, h_aster_dem, delta_aster_dem, abs_delta_aster_dem, h_copernicus_dem, delta_copernicus_dem, abs_delta_copernicus_dem, h_fab_dem, delta_fab_dem, abs_delta_fab_dem, h_nasa_dem, delta_nasa_dem, abs_delta_nasa_dem, h_srtm_dem, delta_srtm_dem, abs_delta_srtm_dem, h_tan_dem, delta_tan_dem, abs_delta_tan_dem, year, lulc_class, lulc_name, alos_dem_slope, aster_dem_slope, copernicus_dem_slope, fab_dem_slope, nasa_dem_slope, srtm_dem_slope, tan_dem_slope, alos_dem_geomorphon, alos_dem_landform, aster_dem_geomorphon, aster_dem_landform, copernicus_dem_geomorphon, copernicus_dem_landform, fab_dem_geomorphon, fab_dem_landform, nasa_dem_geomorphon, nasa_dem_landform, srtm_dem_geomorphon, srtm_dem_landform, tan_dem_geomorphon, tan_dem_landform, alos_dem_2000, aster_dem_2000, copernicus_dem_2000, fab_dem_2000, nasa_dem_2000, srtm_dem_2000, tan_dem_2000, alos_dem_stream, aster_dem_stream, copernicus_dem_stream, fab_dem_stream, nasa_dem_stream, srtm_dem_stream, tan_dem_stream, alos_dem_twi, aster_dem_twi, copernicus_dem_twi, fab_dem_twi, nasa_dem_twi, srtm_dem_twi, tan_dem_twi, __index_level_0__, geometry_bbox, x, y, x_merc, y_merc]\n",
      "Index: []\n",
      "\n",
      "[0 rows x 96 columns]\n"
     ]
    }
   ],
   "execution_count": 12
  },
  {
   "metadata": {
    "ExecuteTime": {
     "end_time": "2025-07-10T09:07:23.364020Z",
     "start_time": "2025-07-10T09:07:23.232013Z"
    }
   },
   "cell_type": "code",
   "source": [
    "df = con.execute(\"\"\"\n",
    "  SELECT\n",
    "    MIN(alos_dem_slope) as alos_min,\n",
    "    MAX(alos_dem_slope) as alos_max,\n",
    "    AVG(alos_dem_slope) as alos_avg,\n",
    "    MIN(aster_dem_slope) as aster_min,\n",
    "    MAX(aster_dem_slope) as aster_max,\n",
    "    AVG(aster_dem_slope) as aster_avg,\n",
    "    MIN(copernicus_dem_slope) as copernicus_min,\n",
    "    MAX(copernicus_dem_slope) as copernicus_max,\n",
    "    AVG(copernicus_dem_slope) as copernicus_avg,\n",
    "    MIN(fab_dem_slope) as fab_min,\n",
    "    MAX(fab_dem_slope) as fab_max,\n",
    "    AVG(fab_dem_slope) as fab_avg,\n",
    "    MIN(nasa_dem_slope) as nasa_min,\n",
    "    MAX(nasa_dem_slope) as nasa_max,\n",
    "    AVG(nasa_dem_slope) as nasa_avg,\n",
    "    MIN(srtm_dem_slope) as srtm_min,\n",
    "    MAX(srtm_dem_slope) as srtm_max,\n",
    "    AVG(srtm_dem_slope) as srtm_avg,\n",
    "    MIN(tan_dem_slope) as tan_min,\n",
    "    MAX(tan_dem_slope) as tan_max,\n",
    "    AVG(tan_dem_slope) as tan_avg\n",
    "FROM 'data/tracks_3857_1.parquet';\n",
    "\"\"\").fetchdf()\n",
    "print(df.T)"
   ],
   "id": "2eba323e170b963",
   "outputs": [
    {
     "name": "stdout",
     "output_type": "stream",
     "text": [
      "                        0\n",
      "alos_min         0.380607\n",
      "alos_max        56.167126\n",
      "alos_avg        17.812838\n",
      "aster_min        0.380610\n",
      "aster_max       56.472008\n",
      "aster_avg       17.497994\n",
      "copernicus_min   0.029752\n",
      "copernicus_max  48.647015\n",
      "copernicus_avg  18.121265\n",
      "fab_min          0.020253\n",
      "fab_max         48.572330\n",
      "fab_avg         17.798044\n",
      "nasa_min         0.094691\n",
      "nasa_max        50.299198\n",
      "nasa_avg        17.109656\n",
      "srtm_min         0.380610\n",
      "srtm_max        50.179173\n",
      "srtm_avg        17.269574\n",
      "tan_min          0.029657\n",
      "tan_max         48.647060\n",
      "tan_avg         18.134719\n"
     ]
    }
   ],
   "execution_count": 9
  },
  {
   "metadata": {
    "ExecuteTime": {
     "end_time": "2025-07-10T09:08:28.789428Z",
     "start_time": "2025-07-10T09:08:28.676860Z"
    }
   },
   "cell_type": "code",
   "source": [
    "df = con.execute(\"\"\"\n",
    "SELECT\n",
    "  COUNT(DISTINCT alos_dem_slope) as alos_unique,\n",
    "  COUNT(DISTINCT aster_dem_slope) as aster_unique,\n",
    "  COUNT(DISTINCT copernicus_dem_slope) as copernicus_unique,\n",
    "  COUNT(DISTINCT fab_dem_slope) as fab_unique,\n",
    "  COUNT(DISTINCT nasa_dem_slope) as nasa_unique,\n",
    "  COUNT(DISTINCT srtm_dem_slope) as srtm_unique,\n",
    "  COUNT(DISTINCT tan_dem_slope) as tan_unique\n",
    "FROM 'data/tracks_3857_1.parquet'\n",
    "\"\"\").fetchdf()\n",
    "print(df.T)\n",
    "\n"
   ],
   "id": "93b06e6576bf44e0",
   "outputs": [
    {
     "name": "stdout",
     "output_type": "stream",
     "text": [
      "                       0\n",
      "alos_unique         3978\n",
      "aster_unique        4250\n",
      "copernicus_unique  61875\n",
      "fab_unique         61884\n",
      "nasa_unique        61889\n",
      "srtm_unique         3538\n",
      "tan_unique         61872\n"
     ]
    }
   ],
   "execution_count": 11
  },
  {
   "metadata": {
    "ExecuteTime": {
     "end_time": "2025-07-08T10:29:11.254023Z",
     "start_time": "2025-07-08T10:29:11.214479Z"
    }
   },
   "cell_type": "code",
   "source": "import duckdb\n",
   "id": "d5015eb9254f8d30",
   "outputs": [],
   "execution_count": 12
  },
  {
   "metadata": {
    "ExecuteTime": {
     "end_time": "2025-07-08T10:29:15.273792Z",
     "start_time": "2025-07-08T10:29:15.271028Z"
    }
   },
   "cell_type": "code",
   "source": [
    "def get_icesat2_tracks(\n",
    "    year=None,\n",
    "    dem=None,\n",
    "    max_abs_error=None,\n",
    "    track=None,\n",
    "    rgt=None,\n",
    "    cycle=None,\n",
    "    spot=None,\n",
    "    y_atc_min=None,\n",
    "    y_atc_max=None\n",
    "):\n",
    "    sql = \"SELECT x, y, track, year, rgt, cycle, spot\"\n",
    "    if dem:\n",
    "        sql += f\", delta_{dem}, abs_delta_{dem}\"\n",
    "    sql += \" FROM 'data/tracks_3857_1.parquet' WHERE 1=1\"\n",
    "    if year:\n",
    "        sql += f\" AND year = {year}\"\n",
    "    if track is not None:\n",
    "        sql += f\" AND track = {track}\"\n",
    "    if rgt is not None:\n",
    "        sql += f\" AND rgt = {rgt}\"\n",
    "    if cycle is not None:\n",
    "        sql += f\" AND cycle = {cycle}\"\n",
    "    if spot is not None:\n",
    "        sql += f\" AND spot = {spot}\"\n",
    "    if y_atc_min is not None and y_atc_max is not None:\n",
    "        sql += f\" AND y_atc BETWEEN {y_atc_min} AND {y_atc_max}\"\n",
    "    if dem and max_abs_error is not None:\n",
    "        sql += f\" AND abs_delta_{dem} <= {max_abs_error}\"\n",
    "    print(\"SQL-квері:\\n\", sql)\n",
    "    df = duckdb.query(sql).to_df()\n",
    "    # (далі формуєш geojson...)\n",
    "    return df  # або твій geojson"
   ],
   "id": "f8e0c6ecb0818f05",
   "outputs": [],
   "execution_count": 14
  },
  {
   "metadata": {
    "ExecuteTime": {
     "end_time": "2025-07-08T10:32:00.470236Z",
     "start_time": "2025-07-08T10:32:00.391746Z"
    }
   },
   "cell_type": "code",
   "source": [
    "df = get_icesat2_tracks(\n",
    "    year=2020,\n",
    "    dem='fab_dem',\n",
    "    track=1.0,\n",
    "    rgt=998,\n",
    "\n",
    ")\n",
    "print(df)"
   ],
   "id": "8d0816df5168f978",
   "outputs": [
    {
     "name": "stdout",
     "output_type": "stream",
     "text": [
      "SQL-квері:\n",
      " SELECT x, y, track, year, rgt, cycle, spot, delta_fab_dem, abs_delta_fab_dem FROM 'data/tracks_3857_1.parquet' WHERE 1=1 AND year = 2020 AND track = 1.0 AND rgt = 998 AND abs_delta_fab_dem <= 2.5\n",
      "               x          y  track  year    rgt  cycle  spot  delta_fab_dem  \\\n",
      "0      24.998010  48.119004    1.0  2020  998.0    8.0   1.0      -1.403421   \n",
      "1      24.998010  48.119004    1.0  2020  998.0    8.0   1.0      -1.403421   \n",
      "2      24.998001  48.118940    1.0  2020  998.0    8.0   1.0       1.126425   \n",
      "3      24.998001  48.118940    1.0  2020  998.0    8.0   1.0       1.126425   \n",
      "4      24.997999  48.118927    1.0  2020  998.0    8.0   1.0       0.410056   \n",
      "...          ...        ...    ...   ...    ...    ...   ...            ...   \n",
      "35083  24.937631  47.708638    1.0  2020  998.0    8.0   2.0       0.442170   \n",
      "35084  24.937625  47.708593    1.0  2020  998.0    8.0   2.0       1.076813   \n",
      "35085  24.937625  47.708593    1.0  2020  998.0    8.0   2.0       1.076813   \n",
      "35086  24.937622  47.708574    1.0  2020  998.0    8.0   2.0       0.892976   \n",
      "35087  24.937622  47.708574    1.0  2020  998.0    8.0   2.0       0.892976   \n",
      "\n",
      "       abs_delta_fab_dem  \n",
      "0               1.403421  \n",
      "1               1.403421  \n",
      "2               1.126425  \n",
      "3               1.126425  \n",
      "4               0.410056  \n",
      "...                  ...  \n",
      "35083           0.442170  \n",
      "35084           1.076813  \n",
      "35085           1.076813  \n",
      "35086           0.892976  \n",
      "35087           0.892976  \n",
      "\n",
      "[35088 rows x 9 columns]\n"
     ]
    }
   ],
   "execution_count": 20
  },
  {
   "metadata": {
    "ExecuteTime": {
     "end_time": "2025-07-08T10:35:37.569886Z",
     "start_time": "2025-07-08T10:35:37.567376Z"
    }
   },
   "cell_type": "code",
   "source": [
    "def get_unique_dates(track, rgt):\n",
    "    sql = f\"\"\"\n",
    "        SELECT DISTINCT DATE(time) as date_only\n",
    "        FROM 'data/tracks_3857_1.parquet'\n",
    "        WHERE track = {track} AND rgt = {rgt}\n",
    "        ORDER BY date_only\n",
    "    \"\"\"\n",
    "    return duckdb.query(sql).df()['date_only'].tolist()"
   ],
   "id": "d20a7b19bf86d6c8",
   "outputs": [],
   "execution_count": 22
  },
  {
   "metadata": {
    "ExecuteTime": {
     "end_time": "2025-07-08T10:35:38.819936Z",
     "start_time": "2025-07-08T10:35:38.792126Z"
    }
   },
   "cell_type": "code",
   "source": "get_unique_dates(1, 998)",
   "id": "927c7897f9306c2a",
   "outputs": [
    {
     "data": {
      "text/plain": [
       "[Timestamp('2018-12-02 00:00:00'),\n",
       " Timestamp('2019-03-03 00:00:00'),\n",
       " Timestamp('2020-08-29 00:00:00'),\n",
       " Timestamp('2021-08-27 00:00:00'),\n",
       " Timestamp('2021-11-26 00:00:00'),\n",
       " Timestamp('2023-02-23 00:00:00'),\n",
       " Timestamp('2024-02-22 00:00:00'),\n",
       " Timestamp('2024-08-21 00:00:00')]"
      ]
     },
     "execution_count": 23,
     "metadata": {},
     "output_type": "execute_result"
    }
   ],
   "execution_count": 23
  },
  {
   "metadata": {
    "ExecuteTime": {
     "end_time": "2025-07-11T06:53:18.660562Z",
     "start_time": "2025-07-11T06:53:16.660858Z"
    }
   },
   "cell_type": "code",
   "source": [
    "# save_precomputed_dashboard_data.py\n",
    "import duckdb\n",
    "import pandas as pd\n",
    "from utils.db import DuckDBData\n",
    "\n",
    "db = DuckDBData(\"data/tracks_3857_1.parquet\")\n",
    "\n",
    "dem_list = [\n",
    "    \"alos_dem\", \"aster_dem\", \"copernicus_dem\", \"fab_dem\",\n",
    "    \"nasa_dem\", \"srtm_dem\", \"tan_dem\"\n",
    "]\n",
    "\n",
    "con = duckdb.connect()\n",
    "\n",
    "# Встанови бажаний DEM, схил, hand_range тощо\n",
    "dem = \"alos_dem\"\n",
    "slope_range = [0, 60]\n",
    "hand_range = [0, 20]\n",
    "lulc = None\n",
    "landform = None\n",
    "\n",
    "sample_df = db.get_filtered_sample(\n",
    "    con, dem,\n",
    "    slope_range=slope_range, hand_range=hand_range,\n",
    "    lulc=lulc, landform=landform,\n",
    "    sample_n=20_000\n",
    ")\n",
    "\n",
    "filtered_stats = []\n",
    "for d in dem_list:\n",
    "    s = db.get_filtered_stats(con, d, slope_range, hand_range, lulc, landform)\n",
    "    if s:\n",
    "        s[\"DEM\"] = d\n",
    "        filtered_stats.append(s)\n",
    "\n",
    "# Приводимо DEM до красивого формату\n",
    "for s in filtered_stats:\n",
    "    s[\"DEM\"] = s[\"DEM\"].replace(\"_\", \" \").upper()\n",
    "\n",
    "# Зберігаємо дві таблиці у файл\n",
    "df_stats = pd.DataFrame(filtered_stats)\n",
    "sample_df.to_parquet(\"data/initial_sample.parquet\", index=False)\n",
    "df_stats.to_parquet(\"data/initial_stats.parquet\", index=False)\n",
    "\n",
    "con.close()\n",
    "print(\"✔ Precomputed dashboard data saved.\")\n",
    "\n",
    "\n"
   ],
   "id": "ef15420b6317d87b",
   "outputs": [
    {
     "name": "stdout",
     "output_type": "stream",
     "text": [
      "✔ Precomputed dashboard data saved.\n"
     ]
    }
   ],
   "execution_count": 1
  },
  {
   "metadata": {
    "ExecuteTime": {
     "end_time": "2025-07-11T07:02:39.196465Z",
     "start_time": "2025-07-11T07:02:38.771673Z"
    }
   },
   "cell_type": "code",
   "source": [
    "import pandas as pd\n",
    "import duckdb\n",
    "from utils.db import DuckDBData\n",
    "\n",
    "db = DuckDBData(\"data/tracks_3857_1.parquet\")\n",
    "dem_list = [\n",
    "    \"alos_dem\", \"aster_dem\", \"copernicus_dem\", \"fab_dem\",\n",
    "    \"nasa_dem\", \"srtm_dem\", \"tan_dem\"\n",
    "]\n",
    "\n",
    "with duckdb.connect() as con:\n",
    "    stats_all = []\n",
    "    for d in dem_list:\n",
    "        s = db.get_dem_stats_sql(con, d, hand_range=None)\n",
    "        if s:\n",
    "            s[\"DEM\"] = d.replace(\"_\", \" \").upper()\n",
    "            stats_all.append(s)\n",
    "\n",
    "df_stats_all = pd.DataFrame(stats_all)\n",
    "df_stats_all.to_parquet(\"data/stats_all_cached.parquet\", index=False)\n"
   ],
   "id": "e9d7c7b3eeb395f9",
   "outputs": [],
   "execution_count": 2
  },
  {
   "metadata": {},
   "cell_type": "code",
   "source": [
    "import duckdb\n",
    "parquet_file = \"data/icesat2_dem_filtered_fixed_1.parquet\"\n",
    "dem = \"copernicus_dem\"\n",
    "\n",
    "# Унікальні LULC класи\n",
    "print(duckdb.sql(f\"SELECT DISTINCT lulc_name FROM '{parquet_file}' WHERE delta_{dem} IS NOT NULL\").df())\n",
    "\n",
    "# Унікальні landform класи\n",
    "print(duckdb.sql(f\"SELECT DISTINCT {dem}_landform FROM '{parquet_file}' WHERE {dem}_landform IS NOT NULL\").df())\n"
   ],
   "id": "95f9811470cdeb3",
   "outputs": [],
   "execution_count": null
  },
  {
   "metadata": {},
   "cell_type": "code",
   "source": [
    "import duckdb\n",
    "parquet_file = \"data/icesat2_dem_filtered_fixed_1.parquet\"\n",
    "duckdb.sql(f\"PRAGMA table_info('{parquet_file}')\").df()\n"
   ],
   "id": "55061dce09e1198d",
   "outputs": [],
   "execution_count": null
  },
  {
   "metadata": {},
   "cell_type": "code",
   "source": [
    "dem = \"alos_dem\"\n",
    "sql = f\"SELECT COUNT(*) as n FROM '{parquet_file}' WHERE delta_{dem} IS NOT NULL\"\n",
    "print(duckdb.sql(sql).df())\n"
   ],
   "id": "2a928228af348afe",
   "outputs": [],
   "execution_count": null
  },
  {
   "metadata": {},
   "cell_type": "code",
   "source": [
    "sql = f\"SELECT COUNT(*) as n FROM '{parquet_file}' WHERE {dem}_slope IS NOT NULL\"\n",
    "print(duckdb.sql(sql).df())\n"
   ],
   "id": "914d45f16b70eb4a",
   "outputs": [],
   "execution_count": null
  },
  {
   "metadata": {},
   "cell_type": "code",
   "source": [
    "sql = f\"SELECT DISTINCT delta_{dem} FROM '{parquet_file}' LIMIT 10\"\n",
    "print(duckdb.sql(sql).df())"
   ],
   "id": "762b0f0d12160829",
   "outputs": [],
   "execution_count": null
  },
  {
   "metadata": {},
   "cell_type": "code",
   "source": [
    "import duckdb\n",
    "parquet_file = \"data/icesat2_dem_filtered_fixed_1.parquet\"\n",
    "dem = \"alos_dem\"\n",
    "dff = duckdb.sql(f\"SELECT delta_{dem} FROM '{parquet_file}' WHERE delta_{dem} IS NOT NULL LIMIT 20\").df()\n",
    "print(dff.head())\n",
    "print(dff.shape)\n",
    "\n"
   ],
   "id": "589425418d809bb5",
   "outputs": [],
   "execution_count": null
  },
  {
   "metadata": {},
   "cell_type": "code",
   "source": [
    "import duckdb\n",
    "parquet_file = \"data/icesat2_dem_filtered_fixed_1.parquet\"\n",
    "dem = \"alos_dem\"\n",
    "print(\"Check if parquet readable and not empty...\")\n",
    "dff = duckdb.sql(f\"SELECT delta_{dem} FROM '{parquet_file}' WHERE delta_{dem} IS NOT NULL\").df()\n",
    "print(dff)\n"
   ],
   "id": "3c01e5519a6e7518",
   "outputs": [],
   "execution_count": null
  },
  {
   "metadata": {},
   "cell_type": "code",
   "source": [
    "import plotly.graph_objects as go\n",
    "fig = go.Figure()\n",
    "fig.add_box(y=dff[f\"delta_{dem}\"], name=f\"delta_{dem}\")\n",
    "fig.show()\n"
   ],
   "id": "5751cf03def43212",
   "outputs": [],
   "execution_count": null
  },
  {
   "metadata": {
    "ExecuteTime": {
     "end_time": "2025-07-16T12:04:42.296552Z",
     "start_time": "2025-07-16T12:04:42.092554Z"
    }
   },
   "cell_type": "code",
   "source": [
    "from pathlib import Path\n",
    "\n",
    "# Шлях до каталогу з COG-файлами\n",
    "base_dir = Path(\"data/COG\")\n",
    "\n",
    "# Рекурсивно знайдемо всі .tif\n",
    "for tif_file in base_dir.rglob(\"*.tif\"):\n",
    "    if \"_utm32635\" in tif_file.name:\n",
    "        new_name = tif_file.name.replace(\"_utm32635\", \"\")\n",
    "        new_path = tif_file.with_name(new_name)\n",
    "        tif_file.rename(new_path)\n",
    "        print(f\"✅ Renamed: {tif_file.name} → {new_name}\")"
   ],
   "id": "83e4c0aee8ee6126",
   "outputs": [
    {
     "name": "stdout",
     "output_type": "stream",
     "text": [
      "✅ Renamed: alos_dem_utm32635_hand_2000_flood_10m_cog.tif → alos_dem_hand_2000_flood_10m_cog.tif\n",
      "✅ Renamed: alos_dem_utm32635_hand_2000_flood_1m_cog.tif → alos_dem_hand_2000_flood_1m_cog.tif\n",
      "✅ Renamed: alos_dem_utm32635_hand_2000_flood_2m_cog.tif → alos_dem_hand_2000_flood_2m_cog.tif\n",
      "✅ Renamed: alos_dem_utm32635_hand_2000_flood_3m_cog.tif → alos_dem_hand_2000_flood_3m_cog.tif\n",
      "✅ Renamed: alos_dem_utm32635_hand_2000_flood_4m_cog.tif → alos_dem_hand_2000_flood_4m_cog.tif\n",
      "✅ Renamed: alos_dem_utm32635_hand_2000_flood_5m_cog.tif → alos_dem_hand_2000_flood_5m_cog.tif\n",
      "✅ Renamed: alos_dem_utm32635_hand_2000_flood_6m_cog.tif → alos_dem_hand_2000_flood_6m_cog.tif\n",
      "✅ Renamed: alos_dem_utm32635_hand_2000_flood_7m_cog.tif → alos_dem_hand_2000_flood_7m_cog.tif\n",
      "✅ Renamed: alos_dem_utm32635_hand_2000_flood_8m_cog.tif → alos_dem_hand_2000_flood_8m_cog.tif\n",
      "✅ Renamed: alos_dem_utm32635_hand_2000_flood_9m_cog.tif → alos_dem_hand_2000_flood_9m_cog.tif\n",
      "✅ Renamed: aster_dem_utm32635_hand_2000_flood_10m_cog.tif → aster_dem_hand_2000_flood_10m_cog.tif\n",
      "✅ Renamed: aster_dem_utm32635_hand_2000_flood_1m_cog.tif → aster_dem_hand_2000_flood_1m_cog.tif\n",
      "✅ Renamed: aster_dem_utm32635_hand_2000_flood_2m_cog.tif → aster_dem_hand_2000_flood_2m_cog.tif\n",
      "✅ Renamed: aster_dem_utm32635_hand_2000_flood_3m_cog.tif → aster_dem_hand_2000_flood_3m_cog.tif\n",
      "✅ Renamed: aster_dem_utm32635_hand_2000_flood_4m_cog.tif → aster_dem_hand_2000_flood_4m_cog.tif\n",
      "✅ Renamed: aster_dem_utm32635_hand_2000_flood_5m_cog.tif → aster_dem_hand_2000_flood_5m_cog.tif\n",
      "✅ Renamed: aster_dem_utm32635_hand_2000_flood_6m_cog.tif → aster_dem_hand_2000_flood_6m_cog.tif\n",
      "✅ Renamed: aster_dem_utm32635_hand_2000_flood_7m_cog.tif → aster_dem_hand_2000_flood_7m_cog.tif\n",
      "✅ Renamed: aster_dem_utm32635_hand_2000_flood_8m_cog.tif → aster_dem_hand_2000_flood_8m_cog.tif\n",
      "✅ Renamed: aster_dem_utm32635_hand_2000_flood_9m_cog.tif → aster_dem_hand_2000_flood_9m_cog.tif\n",
      "✅ Renamed: copernicus_dem_utm32635_hand_2000_flood_10m_cog.tif → copernicus_dem_hand_2000_flood_10m_cog.tif\n",
      "✅ Renamed: copernicus_dem_utm32635_hand_2000_flood_1m_cog.tif → copernicus_dem_hand_2000_flood_1m_cog.tif\n",
      "✅ Renamed: copernicus_dem_utm32635_hand_2000_flood_2m_cog.tif → copernicus_dem_hand_2000_flood_2m_cog.tif\n",
      "✅ Renamed: copernicus_dem_utm32635_hand_2000_flood_3m_cog.tif → copernicus_dem_hand_2000_flood_3m_cog.tif\n",
      "✅ Renamed: copernicus_dem_utm32635_hand_2000_flood_4m_cog.tif → copernicus_dem_hand_2000_flood_4m_cog.tif\n",
      "✅ Renamed: copernicus_dem_utm32635_hand_2000_flood_5m_cog.tif → copernicus_dem_hand_2000_flood_5m_cog.tif\n",
      "✅ Renamed: copernicus_dem_utm32635_hand_2000_flood_6m_cog.tif → copernicus_dem_hand_2000_flood_6m_cog.tif\n",
      "✅ Renamed: copernicus_dem_utm32635_hand_2000_flood_7m_cog.tif → copernicus_dem_hand_2000_flood_7m_cog.tif\n",
      "✅ Renamed: copernicus_dem_utm32635_hand_2000_flood_8m_cog.tif → copernicus_dem_hand_2000_flood_8m_cog.tif\n",
      "✅ Renamed: copernicus_dem_utm32635_hand_2000_flood_9m_cog.tif → copernicus_dem_hand_2000_flood_9m_cog.tif\n",
      "✅ Renamed: fab_dem_utm32635_hand_2000_flood_10m_cog.tif → fab_dem_hand_2000_flood_10m_cog.tif\n",
      "✅ Renamed: fab_dem_utm32635_hand_2000_flood_1m_cog.tif → fab_dem_hand_2000_flood_1m_cog.tif\n",
      "✅ Renamed: fab_dem_utm32635_hand_2000_flood_2m_cog.tif → fab_dem_hand_2000_flood_2m_cog.tif\n",
      "✅ Renamed: fab_dem_utm32635_hand_2000_flood_3m_cog.tif → fab_dem_hand_2000_flood_3m_cog.tif\n",
      "✅ Renamed: fab_dem_utm32635_hand_2000_flood_4m_cog.tif → fab_dem_hand_2000_flood_4m_cog.tif\n",
      "✅ Renamed: fab_dem_utm32635_hand_2000_flood_5m_cog.tif → fab_dem_hand_2000_flood_5m_cog.tif\n",
      "✅ Renamed: fab_dem_utm32635_hand_2000_flood_6m_cog.tif → fab_dem_hand_2000_flood_6m_cog.tif\n",
      "✅ Renamed: fab_dem_utm32635_hand_2000_flood_7m_cog.tif → fab_dem_hand_2000_flood_7m_cog.tif\n",
      "✅ Renamed: fab_dem_utm32635_hand_2000_flood_8m_cog.tif → fab_dem_hand_2000_flood_8m_cog.tif\n",
      "✅ Renamed: fab_dem_utm32635_hand_2000_flood_9m_cog.tif → fab_dem_hand_2000_flood_9m_cog.tif\n",
      "✅ Renamed: nasa_dem_utm32635_hand_2000_flood_10m_cog.tif → nasa_dem_hand_2000_flood_10m_cog.tif\n",
      "✅ Renamed: nasa_dem_utm32635_hand_2000_flood_1m_cog.tif → nasa_dem_hand_2000_flood_1m_cog.tif\n",
      "✅ Renamed: nasa_dem_utm32635_hand_2000_flood_2m_cog.tif → nasa_dem_hand_2000_flood_2m_cog.tif\n",
      "✅ Renamed: nasa_dem_utm32635_hand_2000_flood_3m_cog.tif → nasa_dem_hand_2000_flood_3m_cog.tif\n",
      "✅ Renamed: nasa_dem_utm32635_hand_2000_flood_4m_cog.tif → nasa_dem_hand_2000_flood_4m_cog.tif\n",
      "✅ Renamed: nasa_dem_utm32635_hand_2000_flood_5m_cog.tif → nasa_dem_hand_2000_flood_5m_cog.tif\n",
      "✅ Renamed: nasa_dem_utm32635_hand_2000_flood_6m_cog.tif → nasa_dem_hand_2000_flood_6m_cog.tif\n",
      "✅ Renamed: nasa_dem_utm32635_hand_2000_flood_7m_cog.tif → nasa_dem_hand_2000_flood_7m_cog.tif\n",
      "✅ Renamed: nasa_dem_utm32635_hand_2000_flood_8m_cog.tif → nasa_dem_hand_2000_flood_8m_cog.tif\n",
      "✅ Renamed: nasa_dem_utm32635_hand_2000_flood_9m_cog.tif → nasa_dem_hand_2000_flood_9m_cog.tif\n",
      "✅ Renamed: srtm_dem_utm32635_hand_2000_flood_10m_cog.tif → srtm_dem_hand_2000_flood_10m_cog.tif\n",
      "✅ Renamed: srtm_dem_utm32635_hand_2000_flood_1m_cog.tif → srtm_dem_hand_2000_flood_1m_cog.tif\n",
      "✅ Renamed: srtm_dem_utm32635_hand_2000_flood_2m_cog.tif → srtm_dem_hand_2000_flood_2m_cog.tif\n",
      "✅ Renamed: srtm_dem_utm32635_hand_2000_flood_3m_cog.tif → srtm_dem_hand_2000_flood_3m_cog.tif\n",
      "✅ Renamed: srtm_dem_utm32635_hand_2000_flood_4m_cog.tif → srtm_dem_hand_2000_flood_4m_cog.tif\n",
      "✅ Renamed: srtm_dem_utm32635_hand_2000_flood_5m_cog.tif → srtm_dem_hand_2000_flood_5m_cog.tif\n",
      "✅ Renamed: srtm_dem_utm32635_hand_2000_flood_6m_cog.tif → srtm_dem_hand_2000_flood_6m_cog.tif\n",
      "✅ Renamed: srtm_dem_utm32635_hand_2000_flood_7m_cog.tif → srtm_dem_hand_2000_flood_7m_cog.tif\n",
      "✅ Renamed: srtm_dem_utm32635_hand_2000_flood_8m_cog.tif → srtm_dem_hand_2000_flood_8m_cog.tif\n",
      "✅ Renamed: srtm_dem_utm32635_hand_2000_flood_9m_cog.tif → srtm_dem_hand_2000_flood_9m_cog.tif\n",
      "✅ Renamed: tan_dem_utm32635_hand_2000_flood_10m_cog.tif → tan_dem_hand_2000_flood_10m_cog.tif\n",
      "✅ Renamed: tan_dem_utm32635_hand_2000_flood_1m_cog.tif → tan_dem_hand_2000_flood_1m_cog.tif\n",
      "✅ Renamed: tan_dem_utm32635_hand_2000_flood_2m_cog.tif → tan_dem_hand_2000_flood_2m_cog.tif\n",
      "✅ Renamed: tan_dem_utm32635_hand_2000_flood_3m_cog.tif → tan_dem_hand_2000_flood_3m_cog.tif\n",
      "✅ Renamed: tan_dem_utm32635_hand_2000_flood_4m_cog.tif → tan_dem_hand_2000_flood_4m_cog.tif\n",
      "✅ Renamed: tan_dem_utm32635_hand_2000_flood_5m_cog.tif → tan_dem_hand_2000_flood_5m_cog.tif\n",
      "✅ Renamed: tan_dem_utm32635_hand_2000_flood_6m_cog.tif → tan_dem_hand_2000_flood_6m_cog.tif\n",
      "✅ Renamed: tan_dem_utm32635_hand_2000_flood_7m_cog.tif → tan_dem_hand_2000_flood_7m_cog.tif\n",
      "✅ Renamed: tan_dem_utm32635_hand_2000_flood_8m_cog.tif → tan_dem_hand_2000_flood_8m_cog.tif\n",
      "✅ Renamed: tan_dem_utm32635_hand_2000_flood_9m_cog.tif → tan_dem_hand_2000_flood_9m_cog.tif\n",
      "✅ Renamed: alos_dem_utm32635_hand_cog.tif → alos_dem_hand_cog.tif\n",
      "✅ Renamed: aster_dem_utm32635_hand_cog.tif → aster_dem_hand_cog.tif\n",
      "✅ Renamed: copernicus_dem_utm32635_hand_cog.tif → copernicus_dem_hand_cog.tif\n",
      "✅ Renamed: fab_dem_utm32635_hand_cog.tif → fab_dem_hand_cog.tif\n",
      "✅ Renamed: nasa_dem_utm32635_hand_cog.tif → nasa_dem_hand_cog.tif\n",
      "✅ Renamed: srtm_dem_utm32635_hand_cog.tif → srtm_dem_hand_cog.tif\n",
      "✅ Renamed: tan_dem_utm32635_hand_cog.tif → tan_dem_hand_cog.tif\n",
      "✅ Renamed: alos_dem_utm32635_hand_1000_cog.tif → alos_dem_hand_1000_cog.tif\n",
      "✅ Renamed: aster_dem_utm32635_hand_1000_cog.tif → aster_dem_hand_1000_cog.tif\n",
      "✅ Renamed: copernicus_dem_utm32635_hand_1000_cog.tif → copernicus_dem_hand_1000_cog.tif\n",
      "✅ Renamed: fab_dem_utm32635_hand_1000_cog.tif → fab_dem_hand_1000_cog.tif\n",
      "✅ Renamed: nasa_dem_utm32635_hand_1000_cog.tif → nasa_dem_hand_1000_cog.tif\n",
      "✅ Renamed: srtm_dem_utm32635_hand_1000_cog.tif → srtm_dem_hand_1000_cog.tif\n",
      "✅ Renamed: tan_dem_utm32635_hand_1000_cog.tif → tan_dem_hand_1000_cog.tif\n",
      "✅ Renamed: alos_dem_utm32635_hand_1500_cog.tif → alos_dem_hand_1500_cog.tif\n",
      "✅ Renamed: aster_dem_utm32635_hand_1500_cog.tif → aster_dem_hand_1500_cog.tif\n",
      "✅ Renamed: copernicus_dem_utm32635_hand_1500_cog.tif → copernicus_dem_hand_1500_cog.tif\n",
      "✅ Renamed: fab_dem_utm32635_hand_1500_cog.tif → fab_dem_hand_1500_cog.tif\n",
      "✅ Renamed: nasa_dem_utm32635_hand_1500_cog.tif → nasa_dem_hand_1500_cog.tif\n",
      "✅ Renamed: srtm_dem_utm32635_hand_1500_cog.tif → srtm_dem_hand_1500_cog.tif\n",
      "✅ Renamed: tan_dem_utm32635_hand_1500_cog.tif → tan_dem_hand_1500_cog.tif\n",
      "✅ Renamed: alos_dem_utm32635_hand_2000_cog.tif → alos_dem_hand_2000_cog.tif\n",
      "✅ Renamed: aster_dem_utm32635_hand_2000_cog.tif → aster_dem_hand_2000_cog.tif\n",
      "✅ Renamed: copernicus_dem_utm32635_hand_2000_cog.tif → copernicus_dem_hand_2000_cog.tif\n",
      "✅ Renamed: fab_dem_utm32635_hand_2000_cog.tif → fab_dem_hand_2000_cog.tif\n",
      "✅ Renamed: nasa_dem_utm32635_hand_2000_cog.tif → nasa_dem_hand_2000_cog.tif\n",
      "✅ Renamed: srtm_dem_utm32635_hand_2000_cog.tif → srtm_dem_hand_2000_cog.tif\n",
      "✅ Renamed: tan_dem_utm32635_hand_2000_cog.tif → tan_dem_hand_2000_cog.tif\n",
      "✅ Renamed: alos_dem_utm32635_hand_500_cog.tif → alos_dem_hand_500_cog.tif\n",
      "✅ Renamed: aster_dem_utm32635_hand_500_cog.tif → aster_dem_hand_500_cog.tif\n",
      "✅ Renamed: copernicus_dem_utm32635_hand_500_cog.tif → copernicus_dem_hand_500_cog.tif\n",
      "✅ Renamed: fab_dem_utm32635_hand_500_cog.tif → fab_dem_hand_500_cog.tif\n",
      "✅ Renamed: nasa_dem_utm32635_hand_500_cog.tif → nasa_dem_hand_500_cog.tif\n",
      "✅ Renamed: srtm_dem_utm32635_hand_500_cog.tif → srtm_dem_hand_500_cog.tif\n",
      "✅ Renamed: tan_dem_utm32635_hand_500_cog.tif → tan_dem_hand_500_cog.tif\n",
      "✅ Renamed: alos_dem_utm32635_roughness_cog.tif → alos_dem_roughness_cog.tif\n",
      "✅ Renamed: aster_dem_utm32635_roughness_cog.tif → aster_dem_roughness_cog.tif\n",
      "✅ Renamed: copernicus_dem_utm32635_roughness_cog.tif → copernicus_dem_roughness_cog.tif\n",
      "✅ Renamed: fab_dem_utm32635_roughness_cog.tif → fab_dem_roughness_cog.tif\n",
      "✅ Renamed: nasa_dem_utm32635_roughness_cog.tif → nasa_dem_roughness_cog.tif\n",
      "✅ Renamed: srtm_dem_utm32635_roughness_cog.tif → srtm_dem_roughness_cog.tif\n",
      "✅ Renamed: tan_dem_utm32635_roughness_cog.tif → tan_dem_roughness_cog.tif\n",
      "✅ Renamed: alos_dem_utm32635_slope_horn_cog.tif → alos_dem_slope_horn_cog.tif\n",
      "✅ Renamed: aster_dem_utm32635_slope_horn_cog.tif → aster_dem_slope_horn_cog.tif\n",
      "✅ Renamed: copernicus_dem_utm32635_slope_horn_cog.tif → copernicus_dem_slope_horn_cog.tif\n",
      "✅ Renamed: fab_dem_utm32635_slope_horn_cog.tif → fab_dem_slope_horn_cog.tif\n",
      "✅ Renamed: nasa_dem_utm32635_slope_horn_cog.tif → nasa_dem_slope_horn_cog.tif\n",
      "✅ Renamed: srtm_dem_utm32635_slope_horn_cog.tif → srtm_dem_slope_horn_cog.tif\n",
      "✅ Renamed: tan_dem_utm32635_slope_horn_cog.tif → tan_dem_slope_horn_cog.tif\n",
      "✅ Renamed: alos_dem_utm32635_slope_cog.tif → alos_dem_slope_cog.tif\n",
      "✅ Renamed: aster_dem_utm32635_slope_cog.tif → aster_dem_slope_cog.tif\n",
      "✅ Renamed: copernicus_dem_utm32635_slope_cog.tif → copernicus_dem_slope_cog.tif\n",
      "✅ Renamed: fab_dem_utm32635_slope_cog.tif → fab_dem_slope_cog.tif\n",
      "✅ Renamed: nasa_dem_utm32635_slope_cog.tif → nasa_dem_slope_cog.tif\n",
      "✅ Renamed: srtm_dem_utm32635_slope_cog.tif → srtm_dem_slope_cog.tif\n",
      "✅ Renamed: tan_dem_utm32635_slope_cog.tif → tan_dem_slope_cog.tif\n",
      "✅ Renamed: alos_dem_utm32635_stream_raster_cog.tif → alos_dem_stream_raster_cog.tif\n",
      "✅ Renamed: aster_dem_utm32635_stream_raster_cog.tif → aster_dem_stream_raster_cog.tif\n",
      "✅ Renamed: copernicus_dem_utm32635_stream_raster_cog.tif → copernicus_dem_stream_raster_cog.tif\n",
      "✅ Renamed: fab_dem_utm32635_stream_raster_cog.tif → fab_dem_stream_raster_cog.tif\n",
      "✅ Renamed: nasa_dem_utm32635_stream_raster_cog.tif → nasa_dem_stream_raster_cog.tif\n",
      "✅ Renamed: srtm_dem_utm32635_stream_raster_cog.tif → srtm_dem_stream_raster_cog.tif\n",
      "✅ Renamed: tan_dem_utm32635_stream_raster_cog.tif → tan_dem_stream_raster_cog.tif\n",
      "✅ Renamed: alos_dem_utm32635_stream_raster_1000_cog.tif → alos_dem_stream_raster_1000_cog.tif\n",
      "✅ Renamed: aster_dem_utm32635_stream_raster_1000_cog.tif → aster_dem_stream_raster_1000_cog.tif\n",
      "✅ Renamed: copernicus_dem_utm32635_stream_raster_1000_cog.tif → copernicus_dem_stream_raster_1000_cog.tif\n",
      "✅ Renamed: fab_dem_utm32635_stream_raster_1000_cog.tif → fab_dem_stream_raster_1000_cog.tif\n",
      "✅ Renamed: nasa_dem_utm32635_stream_raster_1000_cog.tif → nasa_dem_stream_raster_1000_cog.tif\n",
      "✅ Renamed: srtm_dem_utm32635_stream_raster_1000_cog.tif → srtm_dem_stream_raster_1000_cog.tif\n",
      "✅ Renamed: tan_dem_utm32635_stream_raster_1000_cog.tif → tan_dem_stream_raster_1000_cog.tif\n",
      "✅ Renamed: alos_dem_utm32635_stream_raster_1500_cog.tif → alos_dem_stream_raster_1500_cog.tif\n",
      "✅ Renamed: aster_dem_utm32635_stream_raster_1500_cog.tif → aster_dem_stream_raster_1500_cog.tif\n",
      "✅ Renamed: copernicus_dem_utm32635_stream_raster_1500_cog.tif → copernicus_dem_stream_raster_1500_cog.tif\n",
      "✅ Renamed: fab_dem_utm32635_stream_raster_1500_cog.tif → fab_dem_stream_raster_1500_cog.tif\n",
      "✅ Renamed: nasa_dem_utm32635_stream_raster_1500_cog.tif → nasa_dem_stream_raster_1500_cog.tif\n",
      "✅ Renamed: srtm_dem_utm32635_stream_raster_1500_cog.tif → srtm_dem_stream_raster_1500_cog.tif\n",
      "✅ Renamed: tan_dem_utm32635_stream_raster_1500_cog.tif → tan_dem_stream_raster_1500_cog.tif\n",
      "✅ Renamed: alos_dem_utm32635_stream_raster_2000_cog.tif → alos_dem_stream_raster_2000_cog.tif\n",
      "✅ Renamed: aster_dem_utm32635_stream_raster_2000_cog.tif → aster_dem_stream_raster_2000_cog.tif\n",
      "✅ Renamed: copernicus_dem_utm32635_stream_raster_2000_cog.tif → copernicus_dem_stream_raster_2000_cog.tif\n",
      "✅ Renamed: fab_dem_utm32635_stream_raster_2000_cog.tif → fab_dem_stream_raster_2000_cog.tif\n",
      "✅ Renamed: nasa_dem_utm32635_stream_raster_2000_cog.tif → nasa_dem_stream_raster_2000_cog.tif\n",
      "✅ Renamed: srtm_dem_utm32635_stream_raster_2000_cog.tif → srtm_dem_stream_raster_2000_cog.tif\n",
      "✅ Renamed: tan_dem_utm32635_stream_raster_2000_cog.tif → tan_dem_stream_raster_2000_cog.tif\n",
      "✅ Renamed: alos_dem_utm32635_stream_raster_500_cog.tif → alos_dem_stream_raster_500_cog.tif\n",
      "✅ Renamed: aster_dem_utm32635_stream_raster_500_cog.tif → aster_dem_stream_raster_500_cog.tif\n",
      "✅ Renamed: copernicus_dem_utm32635_stream_raster_500_cog.tif → copernicus_dem_stream_raster_500_cog.tif\n",
      "✅ Renamed: fab_dem_utm32635_stream_raster_500_cog.tif → fab_dem_stream_raster_500_cog.tif\n",
      "✅ Renamed: nasa_dem_utm32635_stream_raster_500_cog.tif → nasa_dem_stream_raster_500_cog.tif\n",
      "✅ Renamed: srtm_dem_utm32635_stream_raster_500_cog.tif → srtm_dem_stream_raster_500_cog.tif\n",
      "✅ Renamed: tan_dem_utm32635_stream_raster_500_cog.tif → tan_dem_stream_raster_500_cog.tif\n",
      "✅ Renamed: alos_dem_utm32635_tpi_cog.tif → alos_dem_tpi_cog.tif\n",
      "✅ Renamed: aster_dem_utm32635_tpi_cog.tif → aster_dem_tpi_cog.tif\n",
      "✅ Renamed: copernicus_dem_utm32635_tpi_cog.tif → copernicus_dem_tpi_cog.tif\n",
      "✅ Renamed: fab_dem_utm32635_tpi_cog.tif → fab_dem_tpi_cog.tif\n",
      "✅ Renamed: nasa_dem_utm32635_tpi_cog.tif → nasa_dem_tpi_cog.tif\n",
      "✅ Renamed: srtm_dem_utm32635_tpi_cog.tif → srtm_dem_tpi_cog.tif\n",
      "✅ Renamed: tan_dem_utm32635_tpi_cog.tif → tan_dem_tpi_cog.tif\n",
      "✅ Renamed: alos_dem_utm32635_tri_cog.tif → alos_dem_tri_cog.tif\n",
      "✅ Renamed: aster_dem_utm32635_tri_cog.tif → aster_dem_tri_cog.tif\n",
      "✅ Renamed: copernicus_dem_utm32635_tri_cog.tif → copernicus_dem_tri_cog.tif\n",
      "✅ Renamed: fab_dem_utm32635_tri_cog.tif → fab_dem_tri_cog.tif\n",
      "✅ Renamed: nasa_dem_utm32635_tri_cog.tif → nasa_dem_tri_cog.tif\n",
      "✅ Renamed: srtm_dem_utm32635_tri_cog.tif → srtm_dem_tri_cog.tif\n",
      "✅ Renamed: tan_dem_utm32635_tri_cog.tif → tan_dem_tri_cog.tif\n",
      "✅ Renamed: alos_dem_utm32635_twi_cog.tif → alos_dem_twi_cog.tif\n",
      "✅ Renamed: aster_dem_utm32635_twi_cog.tif → aster_dem_twi_cog.tif\n",
      "✅ Renamed: copernicus_dem_utm32635_twi_cog.tif → copernicus_dem_twi_cog.tif\n",
      "✅ Renamed: fab_dem_utm32635_twi_cog.tif → fab_dem_twi_cog.tif\n",
      "✅ Renamed: nasa_dem_utm32635_twi_cog.tif → nasa_dem_twi_cog.tif\n",
      "✅ Renamed: srtm_dem_utm32635_twi_cog.tif → srtm_dem_twi_cog.tif\n",
      "✅ Renamed: tan_dem_utm32635_twi_cog.tif → tan_dem_twi_cog.tif\n"
     ]
    }
   ],
   "execution_count": 1
  }
 ],
 "metadata": {
  "kernelspec": {
   "display_name": "Python 3",
   "language": "python",
   "name": "python3"
  },
  "language_info": {
   "codemirror_mode": {
    "name": "ipython",
    "version": 2
   },
   "file_extension": ".py",
   "mimetype": "text/x-python",
   "name": "python",
   "nbconvert_exporter": "python",
   "pygments_lexer": "ipython2",
   "version": "2.7.6"
  }
 },
 "nbformat": 4,
 "nbformat_minor": 5
}
